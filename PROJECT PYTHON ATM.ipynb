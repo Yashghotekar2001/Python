{
 "cells": [
  {
   "cell_type": "code",
   "execution_count": 1,
   "id": "1f37d7f9-b86a-4074-bbba-b87ef3aa4962",
   "metadata": {},
   "outputs": [],
   "source": [
    "#Simulate a basic ATM in the terminal. The user can:\n",
    "\n",
    "#Log in with a PIN\n",
    "\n",
    "#Check balance\n",
    "\n",
    "#Deposit money\n",
    "\n",
    "#Withdraw money\n",
    "\n",
    "#Exit"
   ]
  },
  {
   "cell_type": "code",
   "execution_count": 2,
   "id": "9c8252e0-f958-44bd-86fd-3298194d8d6f",
   "metadata": {},
   "outputs": [
    {
     "name": "stdout",
     "output_type": "stream",
     "text": [
      "🔐 Welcome to the ATM!\n"
     ]
    },
    {
     "name": "stdin",
     "output_type": "stream",
     "text": [
      "Enter your 4-digit PIN:  9552\n"
     ]
    },
    {
     "name": "stdout",
     "output_type": "stream",
     "text": [
      "❌ Incorrect PIN.\n"
     ]
    },
    {
     "name": "stdin",
     "output_type": "stream",
     "text": [
      "Enter your 4-digit PIN:  1234\n"
     ]
    },
    {
     "name": "stdout",
     "output_type": "stream",
     "text": [
      "✅ Login successful!\n",
      "\n",
      "\n",
      "🏦 ATM Menu:\n",
      "1. Check Balance\n",
      "2. Deposit Money\n",
      "3. Withdraw Money\n",
      "4. Exit\n"
     ]
    },
    {
     "name": "stdin",
     "output_type": "stream",
     "text": [
      "Select an option (1-4):  1\n"
     ]
    },
    {
     "name": "stdout",
     "output_type": "stream",
     "text": [
      "💰 Your current balance is: $1000.00\n",
      "\n",
      "🏦 ATM Menu:\n",
      "1. Check Balance\n",
      "2. Deposit Money\n",
      "3. Withdraw Money\n",
      "4. Exit\n"
     ]
    },
    {
     "name": "stdin",
     "output_type": "stream",
     "text": [
      "Select an option (1-4):  2\n",
      "Enter amount to deposit: $ 1000\n"
     ]
    },
    {
     "name": "stdout",
     "output_type": "stream",
     "text": [
      "✅ Deposited $1000.00. New balance: $2000.00\n",
      "\n",
      "🏦 ATM Menu:\n",
      "1. Check Balance\n",
      "2. Deposit Money\n",
      "3. Withdraw Money\n",
      "4. Exit\n"
     ]
    },
    {
     "name": "stdin",
     "output_type": "stream",
     "text": [
      "Select an option (1-4):  3\n",
      "Enter amount to withdraw: $ 100\n"
     ]
    },
    {
     "name": "stdout",
     "output_type": "stream",
     "text": [
      "✅ Withdrawn $100.00. New balance: $1900.00\n",
      "\n",
      "🏦 ATM Menu:\n",
      "1. Check Balance\n",
      "2. Deposit Money\n",
      "3. Withdraw Money\n",
      "4. Exit\n"
     ]
    },
    {
     "name": "stdin",
     "output_type": "stream",
     "text": [
      "Select an option (1-4):  4\n"
     ]
    },
    {
     "name": "stdout",
     "output_type": "stream",
     "text": [
      "👋 Thank you for using the ATM. Goodbye!\n"
     ]
    }
   ],
   "source": [
    "# ATM Simulator\n",
    "\n",
    "balance = 1000  # Initial balance\n",
    "PIN = \"1234\"    # Default PIN\n",
    "\n",
    "# Login loop\n",
    "def login():\n",
    "    print(\"🔐 Welcome to the ATM!\")\n",
    "    for _ in range(3):\n",
    "        user_pin = input(\"Enter your 4-digit PIN: \")\n",
    "        if user_pin == PIN:\n",
    "            print(\"✅ Login successful!\\n\")\n",
    "            return True\n",
    "        else:\n",
    "            print(\"❌ Incorrect PIN.\")\n",
    "    print(\"🚫 Too many failed attempts. Card blocked.\")\n",
    "    return False\n",
    "\n",
    "# Main menu\n",
    "def atm_menu():\n",
    "    global balance\n",
    "    while True:\n",
    "        print(\"\\n🏦 ATM Menu:\")\n",
    "        print(\"1. Check Balance\")\n",
    "        print(\"2. Deposit Money\")\n",
    "        print(\"3. Withdraw Money\")\n",
    "        print(\"4. Exit\")\n",
    "\n",
    "        choice = input(\"Select an option (1-4): \")\n",
    "\n",
    "        if choice == '1':\n",
    "            print(f\"💰 Your current balance is: ${balance:.2f}\")\n",
    "        elif choice == '2':\n",
    "            amount = float(input(\"Enter amount to deposit: $\"))\n",
    "            if amount > 0:\n",
    "                balance += amount\n",
    "                print(f\"✅ Deposited ${amount:.2f}. New balance: ${balance:.2f}\")\n",
    "            else:\n",
    "                print(\"❌ Invalid amount.\")\n",
    "        elif choice == '3':\n",
    "            amount = float(input(\"Enter amount to withdraw: $\"))\n",
    "            if 0 < amount <= balance:\n",
    "                balance -= amount\n",
    "                print(f\"✅ Withdrawn ${amount:.2f}. New balance: ${balance:.2f}\")\n",
    "            else:\n",
    "                print(\"❌ Insufficient balance or invalid amount.\")\n",
    "        elif choice == '4':\n",
    "            print(\"👋 Thank you for using the ATM. Goodbye!\")\n",
    "            break\n",
    "        else:\n",
    "            print(\"❌ Invalid choice. Please try again.\")\n",
    "\n",
    "# Run the program\n",
    "if login():\n",
    "    atm_menu()\n"
   ]
  },
  {
   "cell_type": "code",
   "execution_count": null,
   "id": "5713a289-c66e-4922-a5c4-2239f2d5efa4",
   "metadata": {},
   "outputs": [],
   "source": []
  }
 ],
 "metadata": {
  "kernelspec": {
   "display_name": "Python [conda env:base] *",
   "language": "python",
   "name": "conda-base-py"
  },
  "language_info": {
   "codemirror_mode": {
    "name": "ipython",
    "version": 3
   },
   "file_extension": ".py",
   "mimetype": "text/x-python",
   "name": "python",
   "nbconvert_exporter": "python",
   "pygments_lexer": "ipython3",
   "version": "3.13.5"
  },
  "widgets": {
   "application/vnd.jupyter.widget-state+json": {
    "state": {},
    "version_major": 2,
    "version_minor": 0
   }
  }
 },
 "nbformat": 4,
 "nbformat_minor": 5
}
