{
 "cells": [
  {
   "cell_type": "code",
   "execution_count": 1,
   "id": "09770d8f-f7d4-46f0-b816-607debcbf581",
   "metadata": {},
   "outputs": [],
   "source": [
    "def add(a,b):\n",
    "    c=a+b\n",
    "    return c"
   ]
  },
  {
   "cell_type": "code",
   "execution_count": 2,
   "id": "1a61f16d-c44b-47b9-b719-9b8feb08ce62",
   "metadata": {},
   "outputs": [
    {
     "data": {
      "text/plain": [
       "10"
      ]
     },
     "execution_count": 2,
     "metadata": {},
     "output_type": "execute_result"
    }
   ],
   "source": [
    "res=add(3,7)\n",
    "res"
   ]
  },
  {
   "cell_type": "code",
   "execution_count": null,
   "id": "f66079fa-ee22-49a8-bd98-bce64d264d10",
   "metadata": {},
   "outputs": [],
   "source": [
    "import math\n",
    "\n",
    "def calculate_area(radius):\n",
    "    \"\"\"Calculate the area of a circle given its radius.\"\"\"\n",
    "    if radius < 0:\n",
    "        return \"Radius cannot be negative.\"\n",
    "    area = math.pi * radius ** 2\n",
    "    return area\n",
    "\n",
    "# Example usage\n",
    "radius = 5\n",
    "print(f\"The area of the circle with radius {radius} is: {calculate_area(radius):.2f}\")\n"
   ]
  },
  {
   "cell_type": "code",
   "execution_count": 3,
   "id": "7a658feb-9b4c-4d9f-8b38-ea9b96fcf9c5",
   "metadata": {},
   "outputs": [
    {
     "data": {
      "text/plain": [
       "-9"
      ]
     },
     "execution_count": 3,
     "metadata": {},
     "output_type": "execute_result"
    }
   ],
   "source": [
    "res=add(-4,-5)\n",
    "res"
   ]
  },
  {
   "cell_type": "code",
   "execution_count": 4,
   "id": "a33f3f45-3e9f-4dd2-83c0-eaac4446a508",
   "metadata": {},
   "outputs": [],
   "source": [
    "def sub(a,b):\n",
    "    c=a-b\n",
    "    return c"
   ]
  },
  {
   "cell_type": "code",
   "execution_count": 5,
   "id": "c08f4896-8154-414c-a5cf-e5175c2c9108",
   "metadata": {},
   "outputs": [
    {
     "data": {
      "text/plain": [
       "-1"
      ]
     },
     "execution_count": 5,
     "metadata": {},
     "output_type": "execute_result"
    }
   ],
   "source": [
    "res=sub(4,5)\n",
    "res"
   ]
  },
  {
   "cell_type": "code",
   "execution_count": 6,
   "id": "714d1ec8-59ae-4af0-a031-5a6a4a8adb45",
   "metadata": {},
   "outputs": [
    {
     "data": {
      "text/plain": [
       "-273598189"
      ]
     },
     "execution_count": 6,
     "metadata": {},
     "output_type": "execute_result"
    }
   ],
   "source": [
    "res=sub(36454,273634643)\n",
    "res"
   ]
  },
  {
   "cell_type": "code",
   "execution_count": 7,
   "id": "d3e2892f-4bf9-44e8-8e7a-f62fb6c6dabe",
   "metadata": {},
   "outputs": [],
   "source": [
    "def mul(a,b):\n",
    "    c=a*b\n",
    "    return c"
   ]
  },
  {
   "cell_type": "code",
   "execution_count": 8,
   "id": "e9980f1f-5feb-46df-97c2-8f3848b82f04",
   "metadata": {},
   "outputs": [
    {
     "data": {
      "text/plain": [
       "810"
      ]
     },
     "execution_count": 8,
     "metadata": {},
     "output_type": "execute_result"
    }
   ],
   "source": [
    "res=mul(27,30)\n",
    "res"
   ]
  },
  {
   "cell_type": "code",
   "execution_count": 16,
   "id": "bb8ef3cf-025f-4422-9c03-0f270fe76121",
   "metadata": {},
   "outputs": [],
   "source": [
    "def div(a,b):\n",
    "    c=a/b\n",
    "    return c"
   ]
  },
  {
   "cell_type": "code",
   "execution_count": 17,
   "id": "880ba8e2-250e-4062-ac48-07c14d80f47d",
   "metadata": {},
   "outputs": [
    {
     "data": {
      "text/plain": [
       "2.235294117647059"
      ]
     },
     "execution_count": 17,
     "metadata": {},
     "output_type": "execute_result"
    }
   ],
   "source": [
    "res=div(76,34)\n",
    "res\n"
   ]
  },
  {
   "cell_type": "code",
   "execution_count": 13,
   "id": "ea4f7651-2988-4dde-8da6-71b546cbfedd",
   "metadata": {},
   "outputs": [],
   "source": [
    "def squ(a,b):\n",
    "    c=a**b\n",
    "    return c\n",
    "    "
   ]
  },
  {
   "cell_type": "code",
   "execution_count": 14,
   "id": "54960513-f2e3-4aea-a39e-4a9fbeae44b0",
   "metadata": {},
   "outputs": [
    {
     "data": {
      "text/plain": [
       "8"
      ]
     },
     "execution_count": 14,
     "metadata": {},
     "output_type": "execute_result"
    }
   ],
   "source": [
    "res=squ(2,3)\n",
    "res"
   ]
  },
  {
   "cell_type": "code",
   "execution_count": 15,
   "id": "e6b473da-cf77-4a3a-821a-308cadeb1c15",
   "metadata": {},
   "outputs": [
    {
     "data": {
      "text/plain": [
       "4"
      ]
     },
     "execution_count": 15,
     "metadata": {},
     "output_type": "execute_result"
    }
   ],
   "source": [
    "res=squ(2,2)\n",
    "res"
   ]
  },
  {
   "cell_type": "code",
   "execution_count": 21,
   "id": "f725aecf-e419-4b34-b1df-95703baee1b6",
   "metadata": {},
   "outputs": [
    {
     "data": {
      "text/plain": [
       "506250000"
      ]
     },
     "execution_count": 21,
     "metadata": {},
     "output_type": "execute_result"
    }
   ],
   "source": [
    "res=squ(150,4)\n",
    "res"
   ]
  },
  {
   "cell_type": "code",
   "execution_count": 24,
   "id": "0ae82413-846e-4b1e-8898-b785e197811b",
   "metadata": {},
   "outputs": [],
   "source": [
    "def s(a):\n",
    "    c=a**0.5\n",
    "    return c"
   ]
  },
  {
   "cell_type": "code",
   "execution_count": 25,
   "id": "1c52c49c-e51a-476c-a597-8f28ac14c256",
   "metadata": {},
   "outputs": [
    {
     "data": {
      "text/plain": [
       "8.0"
      ]
     },
     "execution_count": 25,
     "metadata": {},
     "output_type": "execute_result"
    }
   ],
   "source": [
    "res=s(64)\n",
    "res"
   ]
  },
  {
   "cell_type": "code",
   "execution_count": 1,
   "id": "1c63acfa-25e3-470f-960c-919c70d84b14",
   "metadata": {},
   "outputs": [],
   "source": [
    "#Python function in that we have seen that lambda,predefined,user defined"
   ]
  },
  {
   "cell_type": "code",
   "execution_count": 43,
   "id": "e32fcfcd-0ee3-4f58-9f2f-38c8225d1844",
   "metadata": {},
   "outputs": [],
   "source": [
    "#calculate the area of cirlce using function methof\n",
    "import math\n",
    "def area(radius):\n",
    "    if radius<0:\n",
    "        return \"x can not be negative.\"\n",
    "    area=math.pi*radius**2\n",
    "    return area\n",
    "\n",
    "\n"
   ]
  },
  {
   "cell_type": "code",
   "execution_count": 44,
   "id": "af342304-2cd6-4029-8828-448c516a2c08",
   "metadata": {},
   "outputs": [
    {
     "data": {
      "text/plain": [
       "38.48451000647496"
      ]
     },
     "execution_count": 44,
     "metadata": {},
     "output_type": "execute_result"
    }
   ],
   "source": [
    "cal = area(3.5)\n",
    "cal"
   ]
  },
  {
   "cell_type": "code",
   "execution_count": 13,
   "id": "b8d22cb2-1471-41c7-90f3-a45f5dac15c1",
   "metadata": {},
   "outputs": [],
   "source": [
    "#we arre calculate area of circle\n",
    "def ca(rad):\n",
    "    area=3.14*rad*rad\n",
    "    return area"
   ]
  },
  {
   "cell_type": "code",
   "execution_count": 14,
   "id": "5c30450d-1e6c-42fe-a6e6-02e0947cd953",
   "metadata": {},
   "outputs": [
    {
     "data": {
      "text/plain": [
       "38.465"
      ]
     },
     "execution_count": 14,
     "metadata": {},
     "output_type": "execute_result"
    }
   ],
   "source": [
    "cir_area=ca(3.5)\n",
    "cir_area"
   ]
  },
  {
   "cell_type": "code",
   "execution_count": 15,
   "id": "3f683b7b-34d6-4773-9f62-85b65dc68100",
   "metadata": {},
   "outputs": [],
   "source": [
    "def mylen(data):\n",
    "    c=0\n",
    "    for i in data:\n",
    "        c+=1\n",
    "    return c"
   ]
  },
  {
   "cell_type": "code",
   "execution_count": 16,
   "id": "c6cb1dfe-f4d2-4af2-a0c7-3e12998e2c03",
   "metadata": {},
   "outputs": [
    {
     "data": {
      "text/plain": [
       "9"
      ]
     },
     "execution_count": 16,
     "metadata": {},
     "output_type": "execute_result"
    }
   ],
   "source": [
    "mylen(\"datamites\")"
   ]
  },
  {
   "cell_type": "code",
   "execution_count": 23,
   "id": "b3b3d27c-12dd-4737-a389-2f042b6e31a9",
   "metadata": {},
   "outputs": [],
   "source": [
    "def add(a,b=5):\n",
    "    return a+b\n",
    "    "
   ]
  },
  {
   "cell_type": "code",
   "execution_count": 24,
   "id": "7128475c-bab3-45a3-aaca-5d07368fa3e8",
   "metadata": {},
   "outputs": [
    {
     "data": {
      "text/plain": [
       "12"
      ]
     },
     "execution_count": 24,
     "metadata": {},
     "output_type": "execute_result"
    }
   ],
   "source": [
    "add(7)"
   ]
  },
  {
   "cell_type": "code",
   "execution_count": 28,
   "id": "cb0e17ce-20cb-4510-8b75-a8f9f2712f00",
   "metadata": {},
   "outputs": [],
   "source": [
    "def add(a,b,*c):\n",
    "    print(a)\n",
    "    print(b)\n",
    "    print(c)\n",
    "    return a+b\n",
    "    "
   ]
  },
  {
   "cell_type": "code",
   "execution_count": 26,
   "id": "e9ea537c-dfd1-4989-ba0b-320163572ef3",
   "metadata": {},
   "outputs": [
    {
     "name": "stdout",
     "output_type": "stream",
     "text": [
      "7\n",
      "3\n",
      "(4, 6, 5, 7, 6, 8, 7, 9, 7)\n"
     ]
    },
    {
     "data": {
      "text/plain": [
       "10"
      ]
     },
     "execution_count": 26,
     "metadata": {},
     "output_type": "execute_result"
    }
   ],
   "source": [
    "add(7,3,4,6,5,7,6,8,7,9,7)"
   ]
  },
  {
   "cell_type": "code",
   "execution_count": 33,
   "id": "55cf0b53-9905-4442-9068-3e1854853830",
   "metadata": {},
   "outputs": [],
   "source": [
    "def add(a,b,c,d,e,f):\n",
    "    return a+b+c+d+e+f"
   ]
  },
  {
   "cell_type": "code",
   "execution_count": 34,
   "id": "af086f67-c17f-4452-8358-2d9cf592fc79",
   "metadata": {},
   "outputs": [
    {
     "data": {
      "text/plain": [
       "61"
      ]
     },
     "execution_count": 34,
     "metadata": {},
     "output_type": "execute_result"
    }
   ],
   "source": [
    "add(7,2,34,5,6,7)"
   ]
  },
  {
   "cell_type": "code",
   "execution_count": 45,
   "id": "4351070c-6552-4da2-a58b-65c5baad90db",
   "metadata": {},
   "outputs": [],
   "source": [
    "#lambda function \n",
    "add=lambda a,b:a+b"
   ]
  },
  {
   "cell_type": "code",
   "execution_count": 46,
   "id": "2f3fef2f-6184-4d88-b582-86b6b223a4e1",
   "metadata": {},
   "outputs": [
    {
     "data": {
      "text/plain": [
       "10"
      ]
     },
     "execution_count": 46,
     "metadata": {},
     "output_type": "execute_result"
    }
   ],
   "source": [
    "add(3,7)"
   ]
  },
  {
   "cell_type": "code",
   "execution_count": 73,
   "id": "71ee6354-29f4-4f46-a4df-0ce6b75e37b4",
   "metadata": {},
   "outputs": [
    {
     "name": "stdout",
     "output_type": "stream",
     "text": [
      "78.53975\n"
     ]
    }
   ],
   "source": [
    "\n",
    "area_of_circle = lambda radius: 3.14159 * radius**2\n",
    "print(area_of_circle(5))\n"
   ]
  },
  {
   "cell_type": "code",
   "execution_count": 74,
   "id": "da8d3db7-6966-4e10-aac0-4b9bf3f81cd1",
   "metadata": {},
   "outputs": [
    {
     "data": {
      "text/plain": [
       "'even'"
      ]
     },
     "execution_count": 74,
     "metadata": {},
     "output_type": "execute_result"
    }
   ],
   "source": [
    "even=(lambda x:\"even\" if x%2==0 else \"odd\")\n",
    "even(6)"
   ]
  },
  {
   "cell_type": "code",
   "execution_count": 81,
   "id": "3179212e-7bbe-43d3-99cd-2f06134b98a6",
   "metadata": {},
   "outputs": [
    {
     "data": {
      "text/plain": [
       "15"
      ]
     },
     "execution_count": 81,
     "metadata": {},
     "output_type": "execute_result"
    }
   ],
   "source": [
    "great_=(lambda x,y:x if x>y else y)\n",
    "great_(10,15)\n"
   ]
  },
  {
   "cell_type": "code",
   "execution_count": 83,
   "id": "34243737-e677-4b41-934d-38de4ee5e4ef",
   "metadata": {},
   "outputs": [
    {
     "data": {
      "text/plain": [
       "[1, 3, 5, 7, 9]"
      ]
     },
     "execution_count": 83,
     "metadata": {},
     "output_type": "execute_result"
    }
   ],
   "source": [
    "l1=[1,2,3,4,5,6,7,8,9,10]\n",
    "final_list=list(filter(lambda x:(x%2!=0),l1))\n",
    "final_list"
   ]
  },
  {
   "cell_type": "code",
   "execution_count": 86,
   "id": "e591528a-3294-4549-95de-6a885cbb7259",
   "metadata": {},
   "outputs": [
    {
     "data": {
      "text/plain": [
       "[2, 4, 6, 8, 10]"
      ]
     },
     "execution_count": 86,
     "metadata": {},
     "output_type": "execute_result"
    }
   ],
   "source": [
    "final_list=list(filter(lambda x:(x%2==0),l1))\n",
    "final_list"
   ]
  },
  {
   "cell_type": "code",
   "execution_count": 104,
   "id": "287bdfea-41f9-46aa-ad78-8cf0ab0f6f32",
   "metadata": {},
   "outputs": [
    {
     "data": {
      "text/plain": [
       "[1,\n",
       " 2,\n",
       " 3,\n",
       " 4,\n",
       " 5,\n",
       " 6,\n",
       " 7,\n",
       " 8,\n",
       " 9,\n",
       " 10,\n",
       " 11,\n",
       " 12,\n",
       " 13,\n",
       " 14,\n",
       " 15,\n",
       " 16,\n",
       " 17,\n",
       " 18,\n",
       " 19,\n",
       " 20,\n",
       " 21,\n",
       " 22,\n",
       " 23,\n",
       " 24,\n",
       " 25,\n",
       " 26,\n",
       " 27,\n",
       " 28,\n",
       " 29,\n",
       " 30,\n",
       " 31,\n",
       " 32,\n",
       " 33,\n",
       " 34,\n",
       " 35,\n",
       " 36,\n",
       " 37,\n",
       " 38,\n",
       " 39,\n",
       " 40,\n",
       " 41,\n",
       " 42,\n",
       " 43,\n",
       " 44,\n",
       " 45,\n",
       " 46,\n",
       " 47,\n",
       " 48,\n",
       " 49]"
      ]
     },
     "execution_count": 104,
     "metadata": {},
     "output_type": "execute_result"
    }
   ],
   "source": [
    "l1=list(range(1,50))\n",
    "l1"
   ]
  },
  {
   "cell_type": "code",
   "execution_count": 96,
   "id": "cfb66798-aae4-4ba7-b7c1-57cc738149e8",
   "metadata": {},
   "outputs": [
    {
     "ename": "TypeError",
     "evalue": "'int' object is not iterable",
     "output_type": "error",
     "traceback": [
      "\u001b[1;31m---------------------------------------------------------------------------\u001b[0m",
      "\u001b[1;31mTypeError\u001b[0m                                 Traceback (most recent call last)",
      "Cell \u001b[1;32mIn[96], line 3\u001b[0m\n\u001b[0;32m      1\u001b[0m \u001b[38;5;66;03m#if we jhave to use range function first we create a dataset then we can use thats why this error \u001b[39;00m\n\u001b[0;32m      2\u001b[0m \u001b[38;5;28;01mfor\u001b[39;00m l2 \u001b[38;5;129;01min\u001b[39;00m \u001b[38;5;28mrange\u001b[39m (\u001b[38;5;241m0\u001b[39m,\u001b[38;5;241m101\u001b[39m):\n\u001b[1;32m----> 3\u001b[0m     \u001b[38;5;28mlist\u001b[39m(\u001b[38;5;28mfilter\u001b[39m(\u001b[38;5;28;01mlambda\u001b[39;00m x:(x\u001b[38;5;241m%\u001b[39m\u001b[38;5;241m2\u001b[39m\u001b[38;5;241m==\u001b[39m\u001b[38;5;241m0\u001b[39m),l2))\n",
      "\u001b[1;31mTypeError\u001b[0m: 'int' object is not iterable"
     ]
    }
   ],
   "source": [
    "#if we have to use range function first we create a dataset then we can use thats why this error \n",
    "for l2 in range (0,101):\n",
    "    list(filter(lambda x:(x%2==0),l2))\n",
    "    \n",
    "\n"
   ]
  },
  {
   "cell_type": "code",
   "execution_count": null,
   "id": "28852017-6e67-4155-b406-0cc890d57c7a",
   "metadata": {},
   "outputs": [],
   "source": []
  },
  {
   "cell_type": "code",
   "execution_count": 95,
   "id": "dd569867-e28b-4a76-9e66-c8db9c916676",
   "metadata": {},
   "outputs": [
    {
     "data": {
      "text/plain": [
       "[1, 4, 9, 16, 25, 36, 49, 64, 81, 100]"
      ]
     },
     "execution_count": 95,
     "metadata": {},
     "output_type": "execute_result"
    }
   ],
   "source": [
    "list(map(lambda x:x**2,l1))\n",
    "     "
   ]
  },
  {
   "cell_type": "code",
   "execution_count": 97,
   "id": "2e40025e-ff2a-4d3a-9cd6-9404ff71cf3f",
   "metadata": {},
   "outputs": [],
   "source": [
    "from functools import reduce\n"
   ]
  },
  {
   "cell_type": "code",
   "execution_count": 98,
   "id": "8fb15ede-1630-4276-a1cd-569400cf30b9",
   "metadata": {},
   "outputs": [
    {
     "data": {
      "text/plain": [
       "55"
      ]
     },
     "execution_count": 98,
     "metadata": {},
     "output_type": "execute_result"
    }
   ],
   "source": [
    "reduce(lambda x,y:x+y,l1)"
   ]
  },
  {
   "cell_type": "code",
   "execution_count": 99,
   "id": "cf1249e5-72ce-4155-b9c3-844bf06472fc",
   "metadata": {},
   "outputs": [
    {
     "data": {
      "text/plain": [
       "3628800"
      ]
     },
     "execution_count": 99,
     "metadata": {},
     "output_type": "execute_result"
    }
   ],
   "source": [
    "reduce(lambda x,y:x*y,l1)"
   ]
  },
  {
   "cell_type": "code",
   "execution_count": 100,
   "id": "adaaed60-21d9-4c9a-8447-afc8a9447a28",
   "metadata": {},
   "outputs": [
    {
     "data": {
      "text/plain": [
       "-53"
      ]
     },
     "execution_count": 100,
     "metadata": {},
     "output_type": "execute_result"
    }
   ],
   "source": [
    "reduce(lambda x,y:x-y,l1)"
   ]
  },
  {
   "cell_type": "code",
   "execution_count": 103,
   "id": "c2129bd8-ceda-4b10-b240-75ddc7fae607",
   "metadata": {},
   "outputs": [
    {
     "data": {
      "text/plain": [
       "10"
      ]
     },
     "execution_count": 103,
     "metadata": {},
     "output_type": "execute_result"
    }
   ],
   "source": [
    "reduce(lambda x,y:x if x>y else y,l1)\n"
   ]
  },
  {
   "cell_type": "code",
   "execution_count": null,
   "id": "53bacdbc-817b-47b8-a9d5-e6809754d485",
   "metadata": {},
   "outputs": [],
   "source": []
  }
 ],
 "metadata": {
  "kernelspec": {
   "display_name": "Python [conda env:base] *",
   "language": "python",
   "name": "conda-base-py"
  },
  "language_info": {
   "codemirror_mode": {
    "name": "ipython",
    "version": 3
   },
   "file_extension": ".py",
   "mimetype": "text/x-python",
   "name": "python",
   "nbconvert_exporter": "python",
   "pygments_lexer": "ipython3",
   "version": "3.13.5"
  },
  "widgets": {
   "application/vnd.jupyter.widget-state+json": {
    "state": {},
    "version_major": 2,
    "version_minor": 0
   }
  }
 },
 "nbformat": 4,
 "nbformat_minor": 5
}
