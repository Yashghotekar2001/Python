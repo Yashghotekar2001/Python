{
 "cells": [
  {
   "cell_type": "code",
   "execution_count": 1,
   "id": "ad8c3937-0f76-4cbf-bfb6-6ac673e8c43c",
   "metadata": {},
   "outputs": [
    {
     "data": {
      "text/plain": [
       "[1,\n",
       " 2,\n",
       " 3,\n",
       " 4,\n",
       " 5,\n",
       " 6,\n",
       " 7,\n",
       " 8,\n",
       " 9,\n",
       " 10,\n",
       " 11,\n",
       " 12,\n",
       " 13,\n",
       " 14,\n",
       " 15,\n",
       " 16,\n",
       " 17,\n",
       " 18,\n",
       " 19,\n",
       " 20,\n",
       " 21,\n",
       " 22,\n",
       " 23,\n",
       " 24,\n",
       " 25,\n",
       " 26,\n",
       " 27,\n",
       " 28,\n",
       " 29,\n",
       " 30,\n",
       " 31,\n",
       " 32,\n",
       " 33,\n",
       " 34,\n",
       " 35,\n",
       " 36,\n",
       " 37,\n",
       " 38,\n",
       " 39,\n",
       " 40,\n",
       " 41,\n",
       " 42,\n",
       " 43,\n",
       " 44,\n",
       " 45,\n",
       " 46,\n",
       " 47,\n",
       " 48,\n",
       " 49,\n",
       " 50,\n",
       " 51,\n",
       " 52,\n",
       " 53,\n",
       " 54,\n",
       " 55,\n",
       " 56,\n",
       " 57,\n",
       " 58,\n",
       " 59,\n",
       " 60,\n",
       " 61,\n",
       " 62,\n",
       " 63,\n",
       " 64,\n",
       " 65,\n",
       " 66,\n",
       " 67,\n",
       " 68,\n",
       " 69,\n",
       " 70,\n",
       " 71,\n",
       " 72,\n",
       " 73,\n",
       " 74,\n",
       " 75,\n",
       " 76,\n",
       " 77,\n",
       " 78,\n",
       " 79,\n",
       " 80,\n",
       " 81,\n",
       " 82,\n",
       " 83,\n",
       " 84,\n",
       " 85,\n",
       " 86,\n",
       " 87,\n",
       " 88,\n",
       " 89,\n",
       " 90,\n",
       " 91,\n",
       " 92,\n",
       " 93,\n",
       " 94,\n",
       " 95,\n",
       " 96,\n",
       " 97,\n",
       " 98,\n",
       " 99,\n",
       " 100]"
      ]
     },
     "execution_count": 1,
     "metadata": {},
     "output_type": "execute_result"
    }
   ],
   "source": [
    "l1=list(range(1,101))\n",
    "l1"
   ]
  },
  {
   "cell_type": "code",
   "execution_count": 2,
   "id": "73a3a448-46aa-49fc-88a1-7fff45935099",
   "metadata": {},
   "outputs": [],
   "source": [
    "total=sum(l1)"
   ]
  },
  {
   "cell_type": "code",
   "execution_count": 3,
   "id": "d8c2e1a7-776f-4265-bead-6902823813e0",
   "metadata": {},
   "outputs": [
    {
     "data": {
      "text/plain": [
       "5050"
      ]
     },
     "execution_count": 3,
     "metadata": {},
     "output_type": "execute_result"
    }
   ],
   "source": [
    "total"
   ]
  },
  {
   "cell_type": "code",
   "execution_count": 5,
   "id": "56d04d76-1a87-4832-9a05-72cc331323c6",
   "metadata": {},
   "outputs": [
    {
     "data": {
      "text/plain": [
       "[2,\n",
       " 4,\n",
       " 6,\n",
       " 8,\n",
       " 10,\n",
       " 12,\n",
       " 14,\n",
       " 16,\n",
       " 18,\n",
       " 20,\n",
       " 22,\n",
       " 24,\n",
       " 26,\n",
       " 28,\n",
       " 30,\n",
       " 32,\n",
       " 34,\n",
       " 36,\n",
       " 38,\n",
       " 40,\n",
       " 42,\n",
       " 44,\n",
       " 46,\n",
       " 48,\n",
       " 50,\n",
       " 52,\n",
       " 54,\n",
       " 56,\n",
       " 58,\n",
       " 60,\n",
       " 62,\n",
       " 64,\n",
       " 66,\n",
       " 68,\n",
       " 70,\n",
       " 72,\n",
       " 74,\n",
       " 76,\n",
       " 78,\n",
       " 80,\n",
       " 82,\n",
       " 84,\n",
       " 86,\n",
       " 88,\n",
       " 90,\n",
       " 92,\n",
       " 94,\n",
       " 96,\n",
       " 98,\n",
       " 100]"
      ]
     },
     "execution_count": 5,
     "metadata": {},
     "output_type": "execute_result"
    }
   ],
   "source": [
    "prime_nu=[n for n in l1 if n%2 == 0]\n",
    "prime_nu"
   ]
  },
  {
   "cell_type": "code",
   "execution_count": 7,
   "id": "881126cb-c6e8-4ec2-b46f-683f016377d4",
   "metadata": {},
   "outputs": [
    {
     "data": {
      "text/plain": [
       "2550"
      ]
     },
     "execution_count": 7,
     "metadata": {},
     "output_type": "execute_result"
    }
   ],
   "source": [
    "even_sum=sum(prime_nu)\n",
    "even_sum"
   ]
  },
  {
   "cell_type": "code",
   "execution_count": 8,
   "id": "fe732c17-d6bd-4418-ba0f-ff709b093879",
   "metadata": {},
   "outputs": [
    {
     "name": "stdout",
     "output_type": "stream",
     "text": [
      "Sum of prime numbers from 1 to 100 is: 1060\n"
     ]
    }
   ],
   "source": [
    "sum = 0\n",
    "for num in range(2, 101):\n",
    "    is_prime = True\n",
    "    for i in range(2, num):\n",
    "        if num % i == 0:\n",
    "            is_prime = False\n",
    "            break\n",
    "    if is_prime:\n",
    "        sum += num\n",
    "\n",
    "print(\"Sum of prime numbers from 1 to 100 is:\", sum)\n"
   ]
  },
  {
   "cell_type": "code",
   "execution_count": 8,
   "id": "668370e3-357a-4002-b1d0-8eb264f409c2",
   "metadata": {},
   "outputs": [
    {
     "name": "stdout",
     "output_type": "stream",
     "text": [
      "Sum of prime numbers from 1 to 100 is: 1060\n"
     ]
    }
   ],
   "source": [
    "sum = 0\n",
    "for num in range(2, 101):\n",
    "    is_prime = True\n",
    "    for i in range(2, num):\n",
    "        if num % i == 0:\n",
    "            is_prime = False\n",
    "            break\n",
    "    if is_prime:\n",
    "        sum += num\n",
    "\n",
    "print(\"Sum of prime numbers from 1 to 100 is:\", sum)\n"
   ]
  },
  {
   "cell_type": "code",
   "execution_count": 19,
   "id": "657681c3-3a42-450d-a690-6c69d244a7cf",
   "metadata": {},
   "outputs": [
    {
     "name": "stdin",
     "output_type": "stream",
     "text": [
      "enter number of terms: 10\n"
     ]
    },
    {
     "name": "stdout",
     "output_type": "stream",
     "text": [
      "0\n",
      "1\n",
      "1\n",
      "2\n",
      "3\n",
      "5\n",
      "8\n",
      "13\n",
      "21\n",
      "34\n"
     ]
    }
   ],
   "source": [
    "def a(n):\n",
    "    if n==1:\n",
    "        return 0\n",
    "    if n==2:\n",
    "        return 1\n",
    "    return (a(n-2)+a(n-1))\n",
    "n=int(input(\"enter number of terms:\"))\n",
    "for i in range(1,n+1):\n",
    "    b=print(a(i))"
   ]
  },
  {
   "cell_type": "code",
   "execution_count": 35,
   "id": "ae4e10cc-71e7-47ef-b0f4-1f11f5c1c30d",
   "metadata": {},
   "outputs": [
    {
     "name": "stdin",
     "output_type": "stream",
     "text": [
      "Enter a string: python is easy\n"
     ]
    }
   ],
   "source": [
    "str1=input(\"Enter a string:\")\n",
    "l=str1.split()\n",
    "l1=[]\n",
    "for word in l:\n",
    "    l1.append(word[::-1])\n",
    "output=\" \".join(l1)"
   ]
  },
  {
   "cell_type": "code",
   "execution_count": 36,
   "id": "9566ea98-b4a2-4a63-b059-c0f8a7772da7",
   "metadata": {},
   "outputs": [
    {
     "name": "stdout",
     "output_type": "stream",
     "text": [
      "nohtyp si ysae\n"
     ]
    }
   ],
   "source": [
    "print(output)"
   ]
  },
  {
   "cell_type": "code",
   "execution_count": 53,
   "id": "07ecc812-c3ff-46cc-8c7d-116ff92679d0",
   "metadata": {},
   "outputs": [
    {
     "name": "stdout",
     "output_type": "stream",
     "text": [
      "153\n"
     ]
    }
   ],
   "source": [
    "for i in range (100,154):\n",
    "    num=i\n",
    "    n=len(str(i))\n",
    "    sum1=0\n",
    "    i=str(i)\n",
    "    for digit in i:\n",
    "        sum1=sum1+int(digit)**n\n",
    "    if sum1==num:\n",
    "        print(num)"
   ]
  },
  {
   "cell_type": "code",
   "execution_count": 54,
   "id": "193f556b-ca0e-4466-be48-c45d9c436064",
   "metadata": {},
   "outputs": [
    {
     "name": "stdin",
     "output_type": "stream",
     "text": [
      "enter any three digit number 153\n"
     ]
    },
    {
     "name": "stdout",
     "output_type": "stream",
     "text": [
      "0\n",
      "153\n",
      "0\n",
      "not\n"
     ]
    }
   ],
   "source": [
    "num=int(input(\"enter any three digit number\"))\n",
    "sum=0\n",
    "cnum=0\n",
    "while(num>0):\n",
    "    rem=num%10\n",
    "    sum=sum+rem**3\n",
    "    num=num//10\n",
    "print(num)\n",
    "print(sum)\n",
    "print(cnum)\n",
    "if cnum==sum:\n",
    "    print(\"armstrong\")\n",
    "else:\n",
    "    print(\"not\")"
   ]
  },
  {
   "cell_type": "code",
   "execution_count": 58,
   "id": "c708cd01-5b84-4444-94f7-03e7151601dc",
   "metadata": {},
   "outputs": [
    {
     "name": "stdout",
     "output_type": "stream",
     "text": [
      "*****\n",
      "*****\n",
      "*****\n",
      "*****\n",
      "*****\n"
     ]
    }
   ],
   "source": [
    "n=5\n",
    "for i in range (n):\n",
    "    for j in range(n):\n",
    "        print('*',end='')\n",
    "    print()"
   ]
  },
  {
   "cell_type": "code",
   "execution_count": 63,
   "id": "ebe91545-f027-4a83-91d4-45016c2d8bde",
   "metadata": {},
   "outputs": [
    {
     "name": "stdout",
     "output_type": "stream",
     "text": [
      "* \n",
      "* * \n",
      "* * * \n",
      "* * * * \n",
      "* * * * * \n"
     ]
    }
   ],
   "source": [
    "n=5\n",
    "for i in range (n):\n",
    "    for j in range (i+1):\n",
    "        print('*',end=' ')\n",
    "    print()"
   ]
  },
  {
   "cell_type": "code",
   "execution_count": 64,
   "id": "b64c090d-2e18-4414-9868-6a10e1261761",
   "metadata": {},
   "outputs": [
    {
     "name": "stdout",
     "output_type": "stream",
     "text": [
      "* * * * * \n",
      "* * * * \n",
      "* * * \n",
      "* * \n",
      "* \n"
     ]
    }
   ],
   "source": [
    "n=5\n",
    "for i in range (n):\n",
    "    for j in range (i,n):\n",
    "        print('*',end=' ')\n",
    "    print()"
   ]
  },
  {
   "cell_type": "code",
   "execution_count": 65,
   "id": "e388f044-8cd2-44c3-85f7-920684dfd983",
   "metadata": {},
   "outputs": [
    {
     "name": "stdout",
     "output_type": "stream",
     "text": [
      "          * \n",
      "        * * \n",
      "      * * * \n",
      "    * * * * \n",
      "  * * * * * \n"
     ]
    }
   ],
   "source": [
    "n=5\n",
    "for i in range (n):\n",
    "    for j in range (i,n):\n",
    "        print(' ',end=' ')\n",
    "    for j in range (i+1):\n",
    "        print('*',end=' ')\n",
    "    print()"
   ]
  },
  {
   "cell_type": "code",
   "execution_count": 66,
   "id": "4b0df9e3-c9b7-4192-97e7-7799431cae0e",
   "metadata": {},
   "outputs": [
    {
     "name": "stdout",
     "output_type": "stream",
     "text": [
      "  * * * * * \n",
      "    * * * * \n",
      "      * * * \n",
      "        * * \n",
      "          * \n"
     ]
    }
   ],
   "source": [
    "n=5\n",
    "for i in range (n):\n",
    "    for j in range (i+1):\n",
    "        print(' ',end=' ')\n",
    "    for j in range (i,n):\n",
    "        print('*',end=' ')\n",
    "    print()"
   ]
  },
  {
   "cell_type": "code",
   "execution_count": 68,
   "id": "91402420-17c7-422c-ac49-283a6001f547",
   "metadata": {},
   "outputs": [
    {
     "name": "stdout",
     "output_type": "stream",
     "text": [
      "          * \n",
      "        * * * \n",
      "      * * * * * \n",
      "    * * * * * * * \n",
      "  * * * * * * * * * \n"
     ]
    }
   ],
   "source": [
    "n=5\n",
    "for i in range (n):\n",
    "    for j in range (i,n):\n",
    "        print(' ',end=' ')\n",
    "    for j in range (i):\n",
    "        print('*',end=' ')\n",
    "    for j in range (i+1):\n",
    "        print('*',end=' ')\n",
    "    print()"
   ]
  },
  {
   "cell_type": "code",
   "execution_count": 97,
   "id": "c9fd0954-077c-4dfd-bd5e-7ba303d2e9d3",
   "metadata": {},
   "outputs": [
    {
     "name": "stdout",
     "output_type": "stream",
     "text": [
      "Sum of prime numbers from 1 to 100 is: 1060\n"
     ]
    }
   ],
   "source": [
    "sum=0\n",
    "for b in range(2,101):\n",
    "    is_prime=True\n",
    "    for i in range(2,b):\n",
    "        if b%i==0:\n",
    "            is_prime=False\n",
    "            break\n",
    "    if is_prime:\n",
    "        sum+=b\n",
    "print(\"Sum of prime numbers from 1 to 100 is:\", sum)"
   ]
  },
  {
   "cell_type": "code",
   "execution_count": 73,
   "id": "a6be9764-c0c3-4572-b8d8-382df3b2035e",
   "metadata": {},
   "outputs": [
    {
     "name": "stdout",
     "output_type": "stream",
     "text": [
      "Sum of prime numbers from 1 to 100 is: 1060\n"
     ]
    }
   ],
   "source": [
    "sum = 0\n",
    "for num in range(2, 101):\n",
    "    is_prime = True\n",
    "    for i in range(2, num):\n",
    "        if num % i == 0:\n",
    "            is_prime = False\n",
    "            break\n",
    "    if is_prime:\n",
    "        sum += num\n",
    "\n",
    "print(\"Sum of prime numbers from 1 to 100 is:\", sum)\n"
   ]
  },
  {
   "cell_type": "code",
   "execution_count": 9,
   "id": "3d5d1742-5358-4d47-bd06-2833594afe62",
   "metadata": {},
   "outputs": [
    {
     "name": "stdout",
     "output_type": "stream",
     "text": [
      "[2, 3, 5, 7, 11, 13, 17, 19, 23, 29, 31, 37, 41, 43, 47, 53, 59, 61, 67, 71, 73, 79, 83, 89, 97]\n"
     ]
    }
   ],
   "source": [
    "pn=[]\n",
    "for j in range(2,101):\n",
    "    for i in range(2,j):\n",
    "        if j%i==0:\n",
    "            break\n",
    "    else:\n",
    "        pn.append(j)\n",
    "print(pn)\n"
   ]
  },
  {
   "cell_type": "code",
   "execution_count": 12,
   "id": "b332cd17-81c3-4158-b99f-cf286f1ac61b",
   "metadata": {},
   "outputs": [
    {
     "data": {
      "text/plain": [
       "1060"
      ]
     },
     "execution_count": 12,
     "metadata": {},
     "output_type": "execute_result"
    }
   ],
   "source": [
    "pn_sum=sum(pn)\n",
    "pn_sum"
   ]
  },
  {
   "cell_type": "code",
   "execution_count": 105,
   "id": "8a5fef62-333c-4322-a553-f4af7c03d912",
   "metadata": {},
   "outputs": [],
   "source": [
    "#Tuple\n",
    "tup1=()"
   ]
  },
  {
   "cell_type": "code",
   "execution_count": 106,
   "id": "a8e3e320-bf0e-4b06-95f6-948e6a9dcfab",
   "metadata": {},
   "outputs": [
    {
     "name": "stdout",
     "output_type": "stream",
     "text": [
      "<class 'tuple'>\n"
     ]
    }
   ],
   "source": [
    "print(type(tup1))"
   ]
  },
  {
   "cell_type": "code",
   "execution_count": 1,
   "id": "2f35af37-51f0-4fa0-858b-edb240b4ee95",
   "metadata": {},
   "outputs": [],
   "source": [
    "tup2=(10,20,30)\n",
    "tup3=(10.77,30.66,60.89)\n",
    "tup4=('one','two','three')\n",
    "tup5=('data',25,(50,100),(150,90))\n",
    "tup6=(100,'data',17.765)\n",
    "tup7=('data',25,[50,100],[150,90],['john','david'],(90,22,23))"
   ]
  },
  {
   "cell_type": "code",
   "execution_count": 108,
   "id": "073c96b2-093b-47b8-8432-cfcc7f0fbae6",
   "metadata": {},
   "outputs": [
    {
     "data": {
      "text/plain": [
       "6"
      ]
     },
     "execution_count": 108,
     "metadata": {},
     "output_type": "execute_result"
    }
   ],
   "source": [
    "len(tup7)"
   ]
  },
  {
   "cell_type": "code",
   "execution_count": 109,
   "id": "03632988-7139-4f71-94c8-f4ea5992a74d",
   "metadata": {},
   "outputs": [
    {
     "data": {
      "text/plain": [
       "4"
      ]
     },
     "execution_count": 109,
     "metadata": {},
     "output_type": "execute_result"
    }
   ],
   "source": [
    "len(tup5)"
   ]
  },
  {
   "cell_type": "code",
   "execution_count": 113,
   "id": "bdf7b4f5-29ae-4b85-ba5f-280f96935472",
   "metadata": {},
   "outputs": [
    {
     "data": {
      "text/plain": [
       "{'david', 'john'}"
      ]
     },
     "execution_count": 113,
     "metadata": {},
     "output_type": "execute_result"
    }
   ],
   "source": [
    "#Tuple Indexing\n",
    "tup7[4]\n"
   ]
  },
  {
   "cell_type": "code",
   "execution_count": 2,
   "id": "62f4ebcc-27c5-4702-8b4e-ee82322d8d9a",
   "metadata": {},
   "outputs": [
    {
     "data": {
      "text/plain": [
       "'john'"
      ]
     },
     "execution_count": 2,
     "metadata": {},
     "output_type": "execute_result"
    }
   ],
   "source": [
    "tup7[4][0]"
   ]
  },
  {
   "cell_type": "code",
   "execution_count": 116,
   "id": "584a3b93-3d35-4739-abe6-386efc25f0d9",
   "metadata": {},
   "outputs": [
    {
     "data": {
      "text/plain": [
       "1"
      ]
     },
     "execution_count": 116,
     "metadata": {},
     "output_type": "execute_result"
    }
   ],
   "source": [
    "tup7.count(25)"
   ]
  },
  {
   "cell_type": "code",
   "execution_count": 117,
   "id": "127a9d1a-f098-40f8-a50a-187bfc05b911",
   "metadata": {},
   "outputs": [
    {
     "data": {
      "text/plain": [
       "1"
      ]
     },
     "execution_count": 117,
     "metadata": {},
     "output_type": "execute_result"
    }
   ],
   "source": [
    "tup7.index(25)"
   ]
  },
  {
   "cell_type": "code",
   "execution_count": 3,
   "id": "69c61d50-51d4-40bf-a55a-513d3f2ae8ba",
   "metadata": {},
   "outputs": [],
   "source": [
    "#set\n",
    "myset1={}"
   ]
  },
  {
   "cell_type": "code",
   "execution_count": 6,
   "id": "b97674a0-8838-4fdd-bd62-9236d1aad1aa",
   "metadata": {},
   "outputs": [
    {
     "name": "stdout",
     "output_type": "stream",
     "text": [
      "<class 'dict'>\n"
     ]
    }
   ],
   "source": [
    "type(myset1)\n",
    "print(type(myset1))"
   ]
  },
  {
   "cell_type": "code",
   "execution_count": 7,
   "id": "7e4dddbf-c809-46ad-898c-fba506f926c0",
   "metadata": {},
   "outputs": [
    {
     "data": {
      "text/plain": [
       "{1, 2, 3, 4, 5}"
      ]
     },
     "execution_count": 7,
     "metadata": {},
     "output_type": "execute_result"
    }
   ],
   "source": [
    "myset = {1,2,3,4,5}\n",
    "myset"
   ]
  },
  {
   "cell_type": "code",
   "execution_count": 9,
   "id": "ca728b86-d8d4-4288-abe7-ec01d1434515",
   "metadata": {},
   "outputs": [
    {
     "name": "stdout",
     "output_type": "stream",
     "text": [
      "<class 'set'>\n"
     ]
    }
   ],
   "source": [
    "type(myset)\n",
    "print(type(myset))"
   ]
  },
  {
   "cell_type": "code",
   "execution_count": 10,
   "id": "80e3f33e-7d18-4a49-aff3-2b0b677daa05",
   "metadata": {},
   "outputs": [
    {
     "data": {
      "text/plain": [
       "5"
      ]
     },
     "execution_count": 10,
     "metadata": {},
     "output_type": "execute_result"
    }
   ],
   "source": [
    "len(myset)"
   ]
  },
  {
   "cell_type": "code",
   "execution_count": 11,
   "id": "b6c87c69-14bd-47f1-927d-605edee59421",
   "metadata": {},
   "outputs": [
    {
     "name": "stdout",
     "output_type": "stream",
     "text": [
      "{1, 2, 3, 4, 5, 6}\n"
     ]
    }
   ],
   "source": [
    "a={1,2,3,3,3,3,4,5,6,6,6}\n",
    "print(set(a))"
   ]
  },
  {
   "cell_type": "code",
   "execution_count": 12,
   "id": "15f77da4-be53-47e2-86a3-020d12b3fcc1",
   "metadata": {},
   "outputs": [],
   "source": [
    "A={1,2,3,4,5}\n",
    "B={4,5,6,7,8}\n",
    "C={8,9,10}"
   ]
  },
  {
   "cell_type": "code",
   "execution_count": 13,
   "id": "9936f0b5-fc29-4141-9e88-5221ac8a1a3c",
   "metadata": {},
   "outputs": [
    {
     "data": {
      "text/plain": [
       "{1, 2, 3, 4, 5, 6, 7, 8}"
      ]
     },
     "execution_count": 13,
     "metadata": {},
     "output_type": "execute_result"
    }
   ],
   "source": [
    "B.union(A)"
   ]
  },
  {
   "cell_type": "code",
   "execution_count": 14,
   "id": "292909ee-4fa4-440d-aa37-c99d27b7c1e5",
   "metadata": {},
   "outputs": [
    {
     "data": {
      "text/plain": [
       "{1, 2, 3, 4, 5, 6, 7, 8, 9, 10}"
      ]
     },
     "execution_count": 14,
     "metadata": {},
     "output_type": "execute_result"
    }
   ],
   "source": [
    "A.union(B,C)"
   ]
  },
  {
   "cell_type": "code",
   "execution_count": 17,
   "id": "a9209706-125a-4878-b293-6c710ed3dce8",
   "metadata": {},
   "outputs": [
    {
     "data": {
      "text/plain": [
       "{4, 5}"
      ]
     },
     "execution_count": 17,
     "metadata": {},
     "output_type": "execute_result"
    }
   ],
   "source": [
    "A.intersection(B)"
   ]
  },
  {
   "cell_type": "code",
   "execution_count": 18,
   "id": "f45e677d-bf40-4e8c-921b-2fbeba9bc089",
   "metadata": {},
   "outputs": [
    {
     "data": {
      "text/plain": [
       "{1, 2, 3}"
      ]
     },
     "execution_count": 18,
     "metadata": {},
     "output_type": "execute_result"
    }
   ],
   "source": [
    "A.difference(B)"
   ]
  },
  {
   "cell_type": "code",
   "execution_count": 20,
   "id": "d93ab116-2471-41ef-a624-02689892e4fc",
   "metadata": {},
   "outputs": [
    {
     "data": {
      "text/plain": [
       "{6, 7, 8}"
      ]
     },
     "execution_count": 20,
     "metadata": {},
     "output_type": "execute_result"
    }
   ],
   "source": [
    "B.difference(A)"
   ]
  },
  {
   "cell_type": "code",
   "execution_count": 22,
   "id": "885ac037-6768-425e-b369-0e2a5a5b2075",
   "metadata": {},
   "outputs": [
    {
     "data": {
      "text/plain": [
       "set()"
      ]
     },
     "execution_count": 22,
     "metadata": {},
     "output_type": "execute_result"
    }
   ],
   "source": [
    "A.intersection(C)"
   ]
  },
  {
   "cell_type": "code",
   "execution_count": 24,
   "id": "82916bbe-a419-4733-a971-dc9ff14da28a",
   "metadata": {},
   "outputs": [
    {
     "data": {
      "text/plain": [
       "({1, 2, 3}, {6, 7, 8})"
      ]
     },
     "execution_count": 24,
     "metadata": {},
     "output_type": "execute_result"
    }
   ],
   "source": [
    "A.difference(B),B.difference(A)"
   ]
  },
  {
   "cell_type": "code",
   "execution_count": 28,
   "id": "16b525a8-a859-41b2-8777-c713c6754dae",
   "metadata": {},
   "outputs": [
    {
     "data": {
      "text/plain": [
       "{1, 2, 3, 4, 5, 6, 7, 8}"
      ]
     },
     "execution_count": 28,
     "metadata": {},
     "output_type": "execute_result"
    }
   ],
   "source": [
    "d=A.union(B)\n",
    "e=B.intersection(A)\n",
    "d.union(e)"
   ]
  },
  {
   "cell_type": "code",
   "execution_count": 29,
   "id": "fc7edce5-b19a-4dcf-990c-b3fdd39a932d",
   "metadata": {},
   "outputs": [
    {
     "data": {
      "text/plain": [
       "{1, 2, 3, 6, 7, 8}"
      ]
     },
     "execution_count": 29,
     "metadata": {},
     "output_type": "execute_result"
    }
   ],
   "source": [
    "(A.difference(B)).union(B.difference(A))"
   ]
  },
  {
   "cell_type": "code",
   "execution_count": 31,
   "id": "10eef59f-dd65-466b-913b-f891d27bc98b",
   "metadata": {},
   "outputs": [
    {
     "data": {
      "text/plain": [
       "{1, '10', 2, 3, 4, 5}"
      ]
     },
     "execution_count": 31,
     "metadata": {},
     "output_type": "execute_result"
    }
   ],
   "source": [
    "A.add('10')\n",
    "A"
   ]
  },
  {
   "cell_type": "code",
   "execution_count": 35,
   "id": "c8d2ea30-c79e-4bc2-abbc-0d69e54595d7",
   "metadata": {},
   "outputs": [
    {
     "data": {
      "text/plain": [
       "{'0', 1, '1', 10, '10', 2, '2', 20, 3, '3', 30, 4, 5, '5'}"
      ]
     },
     "execution_count": 35,
     "metadata": {},
     "output_type": "execute_result"
    }
   ],
   "source": [
    "A.update([10,20,30])\n",
    "A"
   ]
  },
  {
   "cell_type": "code",
   "execution_count": 36,
   "id": "3b940f08-b594-4878-bedf-671c67964ba6",
   "metadata": {},
   "outputs": [],
   "source": [
    "A={1,2,3,4,5}"
   ]
  },
  {
   "cell_type": "code",
   "execution_count": 39,
   "id": "49f319e7-1e9c-4a0d-ba07-67ad7c70ecfd",
   "metadata": {},
   "outputs": [
    {
     "data": {
      "text/plain": [
       "{1, 2, 3, 4, 5, 10, 20, 30}"
      ]
     },
     "execution_count": 39,
     "metadata": {},
     "output_type": "execute_result"
    }
   ],
   "source": [
    "A.update([10,20,30])\n",
    "A"
   ]
  },
  {
   "cell_type": "code",
   "execution_count": 41,
   "id": "bf1af065-6a0e-4a40-b80f-15f52b1a8261",
   "metadata": {},
   "outputs": [
    {
     "data": {
      "text/plain": [
       "{1, 2, 3, 4, 5, 10, 20, 30}"
      ]
     },
     "execution_count": 41,
     "metadata": {},
     "output_type": "execute_result"
    }
   ],
   "source": [
    "A.update([5])\n",
    "A"
   ]
  },
  {
   "cell_type": "code",
   "execution_count": 2,
   "id": "46627ca1-cc82-4de0-a034-96c62b8b0e1e",
   "metadata": {},
   "outputs": [],
   "source": [
    "A={1,2,3,4,5}\n",
    "\n"
   ]
  },
  {
   "cell_type": "code",
   "execution_count": 3,
   "id": "6e2f0e66-fd3d-4f0f-905f-bc2c263aaa2c",
   "metadata": {},
   "outputs": [
    {
     "data": {
      "text/plain": [
       "{1, 2, 3, 5}"
      ]
     },
     "execution_count": 3,
     "metadata": {},
     "output_type": "execute_result"
    }
   ],
   "source": [
    "A.remove(4)\n",
    "A"
   ]
  },
  {
   "cell_type": "code",
   "execution_count": 5,
   "id": "23aec57a-8c8b-40cc-be2d-c8329306f102",
   "metadata": {},
   "outputs": [
    {
     "data": {
      "text/plain": [
       "{1, 2, 3}"
      ]
     },
     "execution_count": 5,
     "metadata": {},
     "output_type": "execute_result"
    }
   ],
   "source": [
    "A.discard(5)\n",
    "A"
   ]
  },
  {
   "cell_type": "code",
   "execution_count": 7,
   "id": "576c90a7-13a4-402b-a53a-c51f2301999b",
   "metadata": {},
   "outputs": [
    {
     "data": {
      "text/plain": [
       "set()"
      ]
     },
     "execution_count": 7,
     "metadata": {},
     "output_type": "execute_result"
    }
   ],
   "source": [
    "A.clear()\n",
    "A"
   ]
  },
  {
   "cell_type": "code",
   "execution_count": null,
   "id": "2473e994-68a2-4e78-9047-2d48f5455066",
   "metadata": {},
   "outputs": [],
   "source": []
  },
  {
   "cell_type": "code",
   "execution_count": null,
   "id": "43583298-9e44-42ab-9fc2-21dd394e0a9a",
   "metadata": {},
   "outputs": [],
   "source": []
  },
  {
   "cell_type": "code",
   "execution_count": null,
   "id": "f5ce77a8-df5a-4e55-9e2f-27784c60a404",
   "metadata": {},
   "outputs": [],
   "source": []
  },
  {
   "cell_type": "code",
   "execution_count": null,
   "id": "b44ffa9c-951f-4bad-b382-1b68aa94bd3a",
   "metadata": {},
   "outputs": [],
   "source": []
  },
  {
   "cell_type": "code",
   "execution_count": null,
   "id": "9e343eb3-e3c6-4162-9689-def685dee9cd",
   "metadata": {},
   "outputs": [],
   "source": []
  }
 ],
 "metadata": {
  "kernelspec": {
   "display_name": "Python [conda env:base] *",
   "language": "python",
   "name": "conda-base-py"
  },
  "language_info": {
   "codemirror_mode": {
    "name": "ipython",
    "version": 3
   },
   "file_extension": ".py",
   "mimetype": "text/x-python",
   "name": "python",
   "nbconvert_exporter": "python",
   "pygments_lexer": "ipython3",
   "version": "3.13.5"
  }
 },
 "nbformat": 4,
 "nbformat_minor": 5
}
