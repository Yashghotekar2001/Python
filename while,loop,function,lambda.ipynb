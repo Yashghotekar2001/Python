{
 "cells": [
  {
   "cell_type": "code",
   "execution_count": 95,
   "id": "628adf75-c61c-4109-b8f4-69b70fe0d5b7",
   "metadata": {},
   "outputs": [],
   "source": [
    "l1 = [1,2,3,4,5,6]\n",
    "i = 0\n",
    "while i<len(l1):\n",
    "    l1[i]=l1[i]+100\n",
    "    i=i+1"
   ]
  },
  {
   "cell_type": "code",
   "execution_count": 4,
   "id": "cae83dea-05e0-4b63-ba9b-2019ce20b322",
   "metadata": {},
   "outputs": [],
   "source": [
    "l1 = [1,2,3,4,5]"
   ]
  },
  {
   "cell_type": "code",
   "execution_count": 5,
   "id": "4bdeaba2-d6ea-408c-8b0f-b71ab31c9502",
   "metadata": {},
   "outputs": [],
   "source": [
    "i = 0"
   ]
  },
  {
   "cell_type": "code",
   "execution_count": 6,
   "id": "f3abba24-a9fa-4420-8b9f-d46bbb0fa2cc",
   "metadata": {},
   "outputs": [],
   "source": [
    "while i<len(l1):\n",
    "    l1[i]=l1[i]+100\n",
    "    i=i+1"
   ]
  },
  {
   "cell_type": "code",
   "execution_count": 7,
   "id": "761061ce-1f3a-45ae-b007-d946a99f9d65",
   "metadata": {},
   "outputs": [
    {
     "data": {
      "text/plain": [
       "[101, 102, 103, 104, 105]"
      ]
     },
     "execution_count": 7,
     "metadata": {},
     "output_type": "execute_result"
    }
   ],
   "source": [
    "l1"
   ]
  },
  {
   "cell_type": "code",
   "execution_count": 8,
   "id": "8fe10991-d070-4391-9420-9b32e1c3ec7e",
   "metadata": {},
   "outputs": [],
   "source": [
    "l1 = [2,4,6,8]"
   ]
  },
  {
   "cell_type": "code",
   "execution_count": 9,
   "id": "14f6b1d4-9ba5-4ecd-b093-7a61dad78627",
   "metadata": {},
   "outputs": [],
   "source": [
    "i = 0"
   ]
  },
  {
   "cell_type": "code",
   "execution_count": 11,
   "id": "eb7262fd-c6f2-4125-9df0-889ae493ff01",
   "metadata": {},
   "outputs": [],
   "source": [
    "while i<len(l1):\n",
    "    l1[i]=l1[i]+100\n",
    "    i=i+1"
   ]
  },
  {
   "cell_type": "code",
   "execution_count": 12,
   "id": "f353c0d3-afd2-4aa5-8564-5b15e984dede",
   "metadata": {},
   "outputs": [
    {
     "data": {
      "text/plain": [
       "[102, 104, 106, 108]"
      ]
     },
     "execution_count": 12,
     "metadata": {},
     "output_type": "execute_result"
    }
   ],
   "source": [
    "l1"
   ]
  },
  {
   "cell_type": "code",
   "execution_count": 13,
   "id": "81a398ef-f7a9-4bd5-8570-0cc1e7888086",
   "metadata": {},
   "outputs": [],
   "source": [
    "l1 = ['orange','apple','grapes','banana']"
   ]
  },
  {
   "cell_type": "code",
   "execution_count": 14,
   "id": "4acba329-e47e-4e21-a3b2-df44b9ccabad",
   "metadata": {},
   "outputs": [
    {
     "name": "stdout",
     "output_type": "stream",
     "text": [
      "orange\n",
      "apple\n",
      "grapes\n",
      "banana\n"
     ]
    }
   ],
   "source": [
    "for i in l1:\n",
    "    print(i)"
   ]
  },
  {
   "cell_type": "code",
   "execution_count": 15,
   "id": "0f626e4a-a76c-492d-8fa5-9491776508bf",
   "metadata": {},
   "outputs": [],
   "source": [
    "l1=['red','black','white','violet']\n",
    "l2=['book','cover','redbull','tea']"
   ]
  },
  {
   "cell_type": "code",
   "execution_count": 16,
   "id": "c300634f-21ef-4500-8cfa-1a3e699401de",
   "metadata": {},
   "outputs": [
    {
     "name": "stdout",
     "output_type": "stream",
     "text": [
      "red book\n",
      "red cover\n",
      "red redbull\n",
      "red tea\n",
      "black book\n",
      "black cover\n",
      "black redbull\n",
      "black tea\n",
      "white book\n",
      "white cover\n",
      "white redbull\n",
      "white tea\n",
      "violet book\n",
      "violet cover\n",
      "violet redbull\n",
      "violet tea\n"
     ]
    }
   ],
   "source": [
    "for i in l1:\n",
    "    for j in l2:\n",
    "        print(i,j)"
   ]
  },
  {
   "cell_type": "code",
   "execution_count": 17,
   "id": "c95bb453-7547-4cab-8992-789cdfee75cb",
   "metadata": {},
   "outputs": [
    {
     "name": "stdout",
     "output_type": "stream",
     "text": [
      "book red\n",
      "cover red\n",
      "redbull red\n",
      "tea red\n",
      "book black\n",
      "cover black\n",
      "redbull black\n",
      "tea black\n",
      "book white\n",
      "cover white\n",
      "redbull white\n",
      "tea white\n",
      "book violet\n",
      "cover violet\n",
      "redbull violet\n",
      "tea violet\n"
     ]
    }
   ],
   "source": [
    "for j in l1:\n",
    "    for i in l2:\n",
    "        print(i,j)"
   ]
  },
  {
   "cell_type": "code",
   "execution_count": 18,
   "id": "d5da207c-4b9a-4a78-aad6-2cd7c7e62fa6",
   "metadata": {},
   "outputs": [],
   "source": [
    "def add_10(x):\n",
    "    return x+10"
   ]
  },
  {
   "cell_type": "code",
   "execution_count": 19,
   "id": "c1aec78d-b9e7-4be1-a276-f9323b21e939",
   "metadata": {},
   "outputs": [
    {
     "data": {
      "text/plain": [
       "19"
      ]
     },
     "execution_count": 19,
     "metadata": {},
     "output_type": "execute_result"
    }
   ],
   "source": [
    "add_10(9)"
   ]
  },
  {
   "cell_type": "code",
   "execution_count": 20,
   "id": "6f026f35-7d56-450e-a9ae-7bacbe780a73",
   "metadata": {},
   "outputs": [
    {
     "data": {
      "text/plain": [
       "20"
      ]
     },
     "execution_count": 20,
     "metadata": {},
     "output_type": "execute_result"
    }
   ],
   "source": [
    "add_10(10)"
   ]
  },
  {
   "cell_type": "code",
   "execution_count": 25,
   "id": "87088ce5-27ba-4be1-8338-58aa8682f507",
   "metadata": {},
   "outputs": [],
   "source": [
    "def odd_even(x):\n",
    "    if x%2 == 0:\n",
    "        print(x, 'is even')\n",
    "    else:\n",
    "        print(x, 'is odd')"
   ]
  },
  {
   "cell_type": "code",
   "execution_count": 26,
   "id": "a2e5234f-f0ed-41b9-a047-70a696968ce4",
   "metadata": {},
   "outputs": [
    {
     "name": "stdout",
     "output_type": "stream",
     "text": [
      "5 is odd\n"
     ]
    }
   ],
   "source": [
    "odd_even(5)"
   ]
  },
  {
   "cell_type": "code",
   "execution_count": 27,
   "id": "4fb98da4-98b7-420d-aa02-7c117523315e",
   "metadata": {},
   "outputs": [
    {
     "name": "stdout",
     "output_type": "stream",
     "text": [
      "10 is even\n"
     ]
    }
   ],
   "source": [
    "odd_even(10)"
   ]
  },
  {
   "cell_type": "code",
   "execution_count": 28,
   "id": "a176252d-4491-48a6-af93-426244281be2",
   "metadata": {},
   "outputs": [],
   "source": [
    "a = lambda x:x*x*x"
   ]
  },
  {
   "cell_type": "code",
   "execution_count": 29,
   "id": "a5ea9ae5-6570-4365-a258-61014513cbb3",
   "metadata": {},
   "outputs": [
    {
     "data": {
      "text/plain": [
       "125"
      ]
     },
     "execution_count": 29,
     "metadata": {},
     "output_type": "execute_result"
    }
   ],
   "source": [
    "a(5)"
   ]
  },
  {
   "cell_type": "code",
   "execution_count": 30,
   "id": "70ddee0c-5e29-498b-9239-c784b6caf7a0",
   "metadata": {},
   "outputs": [],
   "source": [
    "l1 = [91,92,93,94,95,96,97,98]"
   ]
  },
  {
   "cell_type": "code",
   "execution_count": 32,
   "id": "24e93790-4669-4ac0-9fd4-3796d94bc589",
   "metadata": {},
   "outputs": [],
   "source": [
    "final_list = list(filter(lambda x:(x%2!=0),l1))"
   ]
  },
  {
   "cell_type": "code",
   "execution_count": 33,
   "id": "a1da25ce-e923-4e07-8bcb-cd28401eba46",
   "metadata": {},
   "outputs": [
    {
     "data": {
      "text/plain": [
       "[91, 93, 95, 97]"
      ]
     },
     "execution_count": 33,
     "metadata": {},
     "output_type": "execute_result"
    }
   ],
   "source": [
    "final_list"
   ]
  },
  {
   "cell_type": "code",
   "execution_count": 36,
   "id": "c3b5aab3-46c8-49c2-a938-7204d0e69f96",
   "metadata": {},
   "outputs": [],
   "source": [
    "final_list = list(filter(lambda x:(x%3!=0),l1))"
   ]
  },
  {
   "cell_type": "code",
   "execution_count": 37,
   "id": "d0873b0b-6c1b-447f-b638-b103764a3b06",
   "metadata": {},
   "outputs": [
    {
     "data": {
      "text/plain": [
       "[91, 92, 94, 95, 97, 98]"
      ]
     },
     "execution_count": 37,
     "metadata": {},
     "output_type": "execute_result"
    }
   ],
   "source": [
    "final_list"
   ]
  },
  {
   "cell_type": "code",
   "execution_count": 38,
   "id": "3300063c-3e3a-459c-810d-1271bd5b8096",
   "metadata": {},
   "outputs": [],
   "source": [
    "final_list = list(filter(lambda x:(x%2==0),l1))"
   ]
  },
  {
   "cell_type": "code",
   "execution_count": 39,
   "id": "49eb1284-a1ea-4858-83d9-3664f41d1024",
   "metadata": {},
   "outputs": [
    {
     "data": {
      "text/plain": [
       "[92, 94, 96, 98]"
      ]
     },
     "execution_count": 39,
     "metadata": {},
     "output_type": "execute_result"
    }
   ],
   "source": [
    "final_list"
   ]
  },
  {
   "cell_type": "code",
   "execution_count": 40,
   "id": "8d998cf9-c2b5-4e9d-b313-203c62455b8a",
   "metadata": {},
   "outputs": [],
   "source": [
    "final_list = list(filter(lambda x:(x%3==0),l1))"
   ]
  },
  {
   "cell_type": "code",
   "execution_count": 41,
   "id": "bf38e9cd-57ea-489d-a4a6-6ec012938093",
   "metadata": {},
   "outputs": [
    {
     "data": {
      "text/plain": [
       "[93, 96]"
      ]
     },
     "execution_count": 41,
     "metadata": {},
     "output_type": "execute_result"
    }
   ],
   "source": [
    "final_list"
   ]
  },
  {
   "cell_type": "code",
   "execution_count": 42,
   "id": "501c14fd-ae62-4a15-a2a0-4dcb79d83989",
   "metadata": {},
   "outputs": [],
   "source": [
    "l1=[1,2,3,4,5,6,7,8,9]"
   ]
  },
  {
   "cell_type": "code",
   "execution_count": 43,
   "id": "d36c3b7e-e90e-4f01-89fd-ce08643b2546",
   "metadata": {},
   "outputs": [],
   "source": [
    "map_list = list(map(lambda x:x*2,l1))"
   ]
  },
  {
   "cell_type": "code",
   "execution_count": 44,
   "id": "c32bdef9-eb55-4f53-a042-15dacdcf1bf0",
   "metadata": {},
   "outputs": [
    {
     "data": {
      "text/plain": [
       "[2, 4, 6, 8, 10, 12, 14, 16, 18]"
      ]
     },
     "execution_count": 44,
     "metadata": {},
     "output_type": "execute_result"
    }
   ],
   "source": [
    "map_list"
   ]
  },
  {
   "cell_type": "code",
   "execution_count": 45,
   "id": "ab064da8-5f31-4201-aa23-b7f797d6729c",
   "metadata": {},
   "outputs": [],
   "source": [
    "map_list = list(filter(lambda x:x*2,l1))"
   ]
  },
  {
   "cell_type": "code",
   "execution_count": 46,
   "id": "db41e17d-126e-4a62-a9af-991217f08d86",
   "metadata": {},
   "outputs": [
    {
     "data": {
      "text/plain": [
       "[1, 2, 3, 4, 5, 6, 7, 8, 9]"
      ]
     },
     "execution_count": 46,
     "metadata": {},
     "output_type": "execute_result"
    }
   ],
   "source": [
    "map_list"
   ]
  },
  {
   "cell_type": "code",
   "execution_count": 47,
   "id": "e15ca070-3363-402e-ae20-ae0da6543759",
   "metadata": {},
   "outputs": [],
   "source": [
    "l1=[1,2,3,4,5,6,7,8,9]"
   ]
  },
  {
   "cell_type": "code",
   "execution_count": 50,
   "id": "94215fab-f34d-4cfb-be7d-bb548727ae14",
   "metadata": {},
   "outputs": [],
   "source": [
    "map_list = list(map(lambda x:x*2,l1))"
   ]
  },
  {
   "cell_type": "code",
   "execution_count": 51,
   "id": "ee0b49b6-bdcb-4131-84e3-7058596ea33a",
   "metadata": {},
   "outputs": [
    {
     "data": {
      "text/plain": [
       "[2, 4, 6, 8, 10, 12, 14, 16, 18]"
      ]
     },
     "execution_count": 51,
     "metadata": {},
     "output_type": "execute_result"
    }
   ],
   "source": [
    "map_list"
   ]
  },
  {
   "cell_type": "code",
   "execution_count": 53,
   "id": "c4e17346-90aa-4ea6-a11e-9b919c733608",
   "metadata": {},
   "outputs": [],
   "source": [
    "from functools import reduce"
   ]
  },
  {
   "cell_type": "code",
   "execution_count": 56,
   "id": "2a446276-17ab-4ebd-85a9-7430db7a95b9",
   "metadata": {},
   "outputs": [],
   "source": [
    "sum=reduce(lambda x,y:x+y,l1)"
   ]
  },
  {
   "cell_type": "code",
   "execution_count": 57,
   "id": "cc6c69ed-6495-4775-8a95-6bca2bcf70aa",
   "metadata": {},
   "outputs": [
    {
     "data": {
      "text/plain": [
       "45"
      ]
     },
     "execution_count": 57,
     "metadata": {},
     "output_type": "execute_result"
    }
   ],
   "source": [
    "sum"
   ]
  },
  {
   "cell_type": "code",
   "execution_count": 58,
   "id": "13d23711-5bc1-49a5-81db-d1ef2a16d149",
   "metadata": {},
   "outputs": [],
   "source": [
    "class Phone:\n",
    "    def make_call(self):\n",
    "        print(\"i am making a call\")\n",
    "    def play_game(self):\n",
    "        print(\"i am  playing a game\")\n",
    "        "
   ]
  },
  {
   "cell_type": "code",
   "execution_count": 61,
   "id": "4d48167f-fef0-4dea-864b-f6bb67192b0e",
   "metadata": {},
   "outputs": [],
   "source": [
    "p1=Phone()"
   ]
  },
  {
   "cell_type": "code",
   "execution_count": 64,
   "id": "64aba7e3-efc2-49bd-800c-d2c85439234d",
   "metadata": {},
   "outputs": [
    {
     "name": "stdout",
     "output_type": "stream",
     "text": [
      "i am making a call\n"
     ]
    }
   ],
   "source": [
    "p1.make_call()"
   ]
  },
  {
   "cell_type": "code",
   "execution_count": 65,
   "id": "efe8daba-6533-4612-9387-f747b0978be3",
   "metadata": {},
   "outputs": [
    {
     "name": "stdout",
     "output_type": "stream",
     "text": [
      "i am  playing a game\n"
     ]
    }
   ],
   "source": [
    "p1.play_game()"
   ]
  },
  {
   "cell_type": "code",
   "execution_count": 66,
   "id": "c7677e0c-70bc-45cb-af11-96f4f4960487",
   "metadata": {},
   "outputs": [],
   "source": [
    "class Phone:\n",
    "    def set_color(self,color):\n",
    "        self.color=color\n",
    "    def set_cost(self,cost):\n",
    "        self.cost=cost\n",
    "    def show_color(self):\n",
    "        return self.color\n",
    "    def show_cost(self):\n",
    "        return self.cost\n",
    "    def make_call(self):\n",
    "        print(\"i am making a call\")\n",
    "    def play_game(self):\n",
    "        print(\"i am playing a game\")\n",
    "    "
   ]
  },
  {
   "cell_type": "code",
   "execution_count": 68,
   "id": "17059178-c7ad-47ae-81e6-b9bb523e22d9",
   "metadata": {},
   "outputs": [],
   "source": [
    "p2=Phone()"
   ]
  },
  {
   "cell_type": "code",
   "execution_count": 71,
   "id": "17b99148-dd00-43ea-91cc-642591842886",
   "metadata": {},
   "outputs": [],
   "source": [
    "p2.set_color(\"blue\")"
   ]
  },
  {
   "cell_type": "code",
   "execution_count": 72,
   "id": "0b471ad5-ea92-42c3-ad99-f2733afbe9a3",
   "metadata": {},
   "outputs": [],
   "source": [
    "p2.set_cost(5000)"
   ]
  },
  {
   "cell_type": "code",
   "execution_count": 74,
   "id": "15d6136c-8fca-496b-89dd-f2f97fe4100e",
   "metadata": {},
   "outputs": [
    {
     "data": {
      "text/plain": [
       "'blue'"
      ]
     },
     "execution_count": 74,
     "metadata": {},
     "output_type": "execute_result"
    }
   ],
   "source": [
    "p2.show_color()"
   ]
  },
  {
   "cell_type": "code",
   "execution_count": 75,
   "id": "ec69db32-c068-42fe-9a56-ca8e54680afb",
   "metadata": {},
   "outputs": [
    {
     "data": {
      "text/plain": [
       "5000"
      ]
     },
     "execution_count": 75,
     "metadata": {},
     "output_type": "execute_result"
    }
   ],
   "source": [
    "p2.show_cost()"
   ]
  },
  {
   "cell_type": "code",
   "execution_count": 76,
   "id": "b78a51b2-0335-426c-be11-33cbf24ae2bf",
   "metadata": {},
   "outputs": [
    {
     "name": "stdout",
     "output_type": "stream",
     "text": [
      "i am making a call\n"
     ]
    }
   ],
   "source": [
    "p2.make_call()"
   ]
  },
  {
   "cell_type": "code",
   "execution_count": 77,
   "id": "795201da-a1bb-4ec6-a111-f42c1b74b2a3",
   "metadata": {},
   "outputs": [
    {
     "name": "stdout",
     "output_type": "stream",
     "text": [
      "i am playing a game\n"
     ]
    }
   ],
   "source": [
    "p2.play_game()"
   ]
  },
  {
   "cell_type": "code",
   "execution_count": 79,
   "id": "18537b3a-4ddf-413e-96c5-818a1ee29e73",
   "metadata": {},
   "outputs": [],
   "source": [
    "class Employee:\n",
    "    def __init__(self,name,age,salary,gender):\n",
    "        self.name = name\n",
    "        self.age = age\n",
    "        self.salary = salary\n",
    "        self.gender = gender\n",
    "\n",
    "    def show_employee_details(self):\n",
    "        print(\"name of employee\",self.name)\n",
    "        print(\"age of employee\",self.age)\n",
    "        print(\"salary of employee\",self.salary)\n",
    "        print(\"gender of employee\",self.gender)\n",
    "        "
   ]
  },
  {
   "cell_type": "code",
   "execution_count": 82,
   "id": "c49a40c6-351d-4bb3-92c3-5d0922ce6a11",
   "metadata": {},
   "outputs": [
    {
     "name": "stdout",
     "output_type": "stream",
     "text": [
      "name of employee Yash\n",
      "age of employee 23\n",
      "salary of employee 1000000\n",
      "gender of employee male\n"
     ]
    }
   ],
   "source": [
    "e1.show_employee_details()"
   ]
  },
  {
   "cell_type": "code",
   "execution_count": 80,
   "id": "71c8458f-bec2-4bb6-8261-3b6524573320",
   "metadata": {},
   "outputs": [],
   "source": [
    "e1 = Employee(\"Yash\",23,1000000,\"male\")"
   ]
  },
  {
   "cell_type": "code",
   "execution_count": 83,
   "id": "927ad8d7-589d-4667-ad5a-56eeb16d0fe8",
   "metadata": {},
   "outputs": [],
   "source": [
    "class Vehicle:\n",
    "    def __init__(self,mileage,cost):\n",
    "        self.mileage = mileage\n",
    "        self.cost = cost\n",
    "\n",
    "    def show_Vehicle_details(self):\n",
    "        print(\"Mileage of Vehicle is\",self.mileage)\n",
    "        print(\"Cost of Vehicle is\",self.cost)\n",
    "        print(\"I am a Vehicle\")\n",
    "    \n",
    "    "
   ]
  },
  {
   "cell_type": "code",
   "execution_count": 84,
   "id": "cc000892-8bea-4c70-aace-a8eeb402d4c1",
   "metadata": {},
   "outputs": [],
   "source": [
    "v1 = Vehicle(300,50000)"
   ]
  },
  {
   "cell_type": "code",
   "execution_count": 85,
   "id": "406acd37-855c-4a5b-bc4b-3b31cd085a9a",
   "metadata": {},
   "outputs": [
    {
     "name": "stdout",
     "output_type": "stream",
     "text": [
      "Mileage of Vehicle is 300\n",
      "Cost of Vehicle is 50000\n",
      "I am a Vehicle\n"
     ]
    }
   ],
   "source": [
    "v1.show_Vehicle_details()"
   ]
  },
  {
   "cell_type": "code",
   "execution_count": 87,
   "id": "6224c4cd-36f7-44f8-8632-a1f99e3cba24",
   "metadata": {},
   "outputs": [],
   "source": [
    "class Car(Vehicle):\n",
    "    def show_car_details(self):\n",
    "       print(\"i am a car\")"
   ]
  },
  {
   "cell_type": "code",
   "execution_count": 89,
   "id": "35608270-9696-4d83-9433-d9f3eb1f69d9",
   "metadata": {},
   "outputs": [],
   "source": [
    "c1 = Car(3400,300000)"
   ]
  },
  {
   "cell_type": "code",
   "execution_count": 94,
   "id": "9450d9bf-0e2a-47cb-bda5-6faf7565f743",
   "metadata": {},
   "outputs": [
    {
     "name": "stdout",
     "output_type": "stream",
     "text": [
      "Mileage of Vehicle is 3400\n",
      "Cost of Vehicle is 300000\n",
      "I am a Vehicle\n"
     ]
    }
   ],
   "source": [
    "c1.show_Vehicle_details()"
   ]
  },
  {
   "cell_type": "code",
   "execution_count": null,
   "id": "2a208ddb-0f94-4385-89b4-dc3e17e0334c",
   "metadata": {},
   "outputs": [],
   "source": []
  },
  {
   "cell_type": "code",
   "execution_count": null,
   "id": "0fb8227c-9594-4327-9e7e-762e28ed2ac8",
   "metadata": {},
   "outputs": [],
   "source": []
  },
  {
   "cell_type": "code",
   "execution_count": null,
   "id": "21f24730-144f-43a5-856b-0210c8b09d13",
   "metadata": {},
   "outputs": [],
   "source": []
  },
  {
   "cell_type": "code",
   "execution_count": null,
   "id": "ffeb86e3-7341-4ca2-bb9c-f2e728c8929b",
   "metadata": {},
   "outputs": [],
   "source": []
  }
 ],
 "metadata": {
  "kernelspec": {
   "display_name": "Python [conda env:base] *",
   "language": "python",
   "name": "conda-base-py"
  },
  "language_info": {
   "codemirror_mode": {
    "name": "ipython",
    "version": 3
   },
   "file_extension": ".py",
   "mimetype": "text/x-python",
   "name": "python",
   "nbconvert_exporter": "python",
   "pygments_lexer": "ipython3",
   "version": "3.13.5"
  }
 },
 "nbformat": 4,
 "nbformat_minor": 5
}
