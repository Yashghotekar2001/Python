{
 "cells": [
  {
   "cell_type": "code",
   "execution_count": 1,
   "id": "12cfcaf7-ce8b-4202-aae8-4ef44eba98a0",
   "metadata": {},
   "outputs": [],
   "source": [
    "import pandas as pd\n",
    "import numpy as np"
   ]
  },
  {
   "cell_type": "code",
   "execution_count": null,
   "id": "791e9124-3bdc-462d-953c-d66106076aac",
   "metadata": {},
   "outputs": [],
   "source": [
    "\n",
    "# Create sample dataset\n",
    "data = {\n",
    "    'Date': pd.date_range(start='2025-01-01', periods=10, freq='D'),\n",
    "    'Product': np.random.choice(['Laptop', 'Mouse', 'Keyboard', 'Monitor'], size=10),\n",
    "    'Units_Sold': np.random.randint(1, 20, size=10),\n",
    "    'Price': np.random.randint(500, 5000, size=10)\n",
    "}\n",
    "\n",
    "df = pd.DataFrame(data)\n",
    "\n",
    "# Calculate total sales per row\n",
    "df['Total_Sales'] = df['Units_Sold'] * df['Price']\n",
    "\n",
    "print(\"Sample Data:\")\n",
    "print(df)\n",
    "# 1. Total revenue\n",
    "total_revenue = df['Total_Sales'].sum()\n",
    "\n",
    "# 2. Average price of products sold\n",
    "avg_price = df['Price'].mean()\n",
    "\n",
    "# 3. Most sold product\n",
    "most_sold_product = df.groupby('Product')['Units_Sold'].sum().idxmax()\n",
    "\n",
    "# 4. Sales by product\n",
    "sales_by_product = df.groupby('Product')['Total_Sales'].sum()\n",
    "\n",
    "# 5. Day with highest sales\n",
    "best_sales_day = df.loc[df['Total_Sales'].idxmax(), 'Date']\n",
    "\n",
    "print(\"\\nTotal Revenue:\", total_revenue)\n",
    "print(\"Average Price:\", avg_price)\n",
    "print(\"Most Sold Product:\", most_sold_product)\n",
    "print(\"\\nSales by Product:\")\n",
    "print(sales_by_product)\n",
    "print(\"Best Sales Day:\", best_sales_day)\n",
    "\n"
   ]
  }
 ],
 "metadata": {
  "kernelspec": {
   "display_name": "Python [conda env:base] *",
   "language": "python",
   "name": "conda-base-py"
  },
  "language_info": {
   "codemirror_mode": {
    "name": "ipython",
    "version": 3
   },
   "file_extension": ".py",
   "mimetype": "text/x-python",
   "name": "python",
   "nbconvert_exporter": "python",
   "pygments_lexer": "ipython3",
   "version": "3.13.5"
  },
  "widgets": {
   "application/vnd.jupyter.widget-state+json": {
    "state": {},
    "version_major": 2,
    "version_minor": 0
   }
  }
 },
 "nbformat": 4,
 "nbformat_minor": 5
}
