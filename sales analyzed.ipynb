{
 "cells": [
  {
   "cell_type": "code",
   "execution_count": 1,
   "id": "12cfcaf7-ce8b-4202-aae8-4ef44eba98a0",
   "metadata": {},
   "outputs": [],
   "source": [
    "import pandas as pd\n",
    "import numpy as np"
   ]
  },
  {
   "cell_type": "code",
   "execution_count": 3,
   "id": "4e3a01ea-a4f1-44db-9bf9-50f4ffcdd4b1",
   "metadata": {},
   "outputs": [],
   "source": [
    "# I have created one mini project for basic level for anaylize the basic sales data\n"
   ]
  },
  {
   "cell_type": "code",
   "execution_count": 4,
   "id": "791e9124-3bdc-462d-953c-d66106076aac",
   "metadata": {},
   "outputs": [
    {
     "name": "stdout",
     "output_type": "stream",
     "text": [
      "Sample Data:\n",
      "        Date   Product  Units_Sold  Price  Total_Sales\n",
      "0 2025-01-01  Keyboard          15    962        14430\n",
      "1 2025-01-02     Mouse           6   3714        22284\n",
      "2 2025-01-03    Laptop          19   3012        57228\n",
      "3 2025-01-04   Monitor          18   2670        48060\n",
      "4 2025-01-05     Mouse           2   2959         5918\n",
      "5 2025-01-06  Keyboard           1   1888         1888\n",
      "6 2025-01-07   Monitor           9    862         7758\n",
      "7 2025-01-08   Monitor          12   4876        58512\n",
      "8 2025-01-09    Laptop          10   4413        44130\n",
      "9 2025-01-10    Laptop           3   2931         8793\n",
      "\n",
      "Total Revenue: 269001\n",
      "Average Price: 2828.7\n",
      "Most Sold Product: Monitor\n",
      "\n",
      "Sales by Product:\n",
      "Product\n",
      "Keyboard     16318\n",
      "Laptop      110151\n",
      "Monitor     114330\n",
      "Mouse        28202\n",
      "Name: Total_Sales, dtype: int32\n",
      "Best Sales Day: 2025-01-08 00:00:00\n",
      "\n",
      "NumPy Stats:\n",
      "Max Sales: 58512\n",
      "Min Sales: 1888\n",
      "Standard Deviation of Sales: 21449.14232527725\n"
     ]
    }
   ],
   "source": [
    "\n",
    "# Create sample dataset\n",
    "data = {\n",
    "    'Date': pd.date_range(start='2025-01-01', periods=10, freq='D'),\n",
    "    'Product': np.random.choice(['Laptop', 'Mouse', 'Keyboard', 'Monitor'], size=10),\n",
    "    'Units_Sold': np.random.randint(1, 20, size=10),\n",
    "    'Price': np.random.randint(500, 5000, size=10)\n",
    "}\n",
    "\n",
    "df = pd.DataFrame(data)\n",
    "\n",
    "# Calculate total sales per row\n",
    "df['Total_Sales'] = df['Units_Sold'] * df['Price']\n",
    "\n",
    "print(\"Sample Data:\")\n",
    "print(df)\n",
    "# 1. Total revenue\n",
    "total_revenue = df['Total_Sales'].sum()\n",
    "\n",
    "# 2. Average price of products sold\n",
    "avg_price = df['Price'].mean()\n",
    "\n",
    "# 3. Most sold product\n",
    "most_sold_product = df.groupby('Product')['Units_Sold'].sum().idxmax()\n",
    "\n",
    "# 4. Sales by product\n",
    "sales_by_product = df.groupby('Product')['Total_Sales'].sum()\n",
    "\n",
    "# 5. Day with highest sales\n",
    "best_sales_day = df.loc[df['Total_Sales'].idxmax(), 'Date']\n",
    "\n",
    "print(\"\\nTotal Revenue:\", total_revenue)\n",
    "print(\"Average Price:\", avg_price)\n",
    "print(\"Most Sold Product:\", most_sold_product)\n",
    "print(\"\\nSales by Product:\")\n",
    "print(sales_by_product)\n",
    "print(\"Best Sales Day:\", best_sales_day)\n",
    "# Using NumPy to calculate statistics\n",
    "sales_array = df['Total_Sales'].values\n",
    "\n",
    "print(\"\\nNumPy Stats:\")\n",
    "print(\"Max Sales:\", np.max(sales_array))\n",
    "print(\"Min Sales:\", np.min(sales_array))\n",
    "print(\"Standard Deviation of Sales:\", np.std(sales_array))\n",
    "\n"
   ]
  },
  {
   "cell_type": "code",
   "execution_count": null,
   "id": "cef71665-1f20-4cef-96ea-fb0ff00b336b",
   "metadata": {},
   "outputs": [],
   "source": []
  }
 ],
 "metadata": {
  "kernelspec": {
   "display_name": "Python [conda env:base] *",
   "language": "python",
   "name": "conda-base-py"
  },
  "language_info": {
   "codemirror_mode": {
    "name": "ipython",
    "version": 3
   },
   "file_extension": ".py",
   "mimetype": "text/x-python",
   "name": "python",
   "nbconvert_exporter": "python",
   "pygments_lexer": "ipython3",
   "version": "3.13.5"
  },
  "widgets": {
   "application/vnd.jupyter.widget-state+json": {
    "state": {},
    "version_major": 2,
    "version_minor": 0
   }
  }
 },
 "nbformat": 4,
 "nbformat_minor": 5
}
