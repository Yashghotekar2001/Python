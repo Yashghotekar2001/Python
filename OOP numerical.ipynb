{
 "cells": [
  {
   "cell_type": "code",
   "execution_count": 2,
   "id": "9168fbba-38d8-44d3-80b3-a504cc836f79",
   "metadata": {},
   "outputs": [
    {
     "name": "stdout",
     "output_type": "stream",
     "text": [
      "swift wagonr is starting.\n"
     ]
    }
   ],
   "source": [
    "# Basic Class and Object\n",
    "class car:\n",
    "    def __init__(self,brand,model):\n",
    "        self.brand=brand\n",
    "        self.model=model\n",
    "    def start(self):\n",
    "        print(f\"{self.brand} {self.model} is starting.\")\n",
    "my_car=car(\"swift\",\"wagonr\")\n",
    "my_car.start()"
   ]
  },
  {
   "cell_type": "code",
   "execution_count": 3,
   "id": "af5ed3e7-f883-448b-b55a-0c026566390f",
   "metadata": {},
   "outputs": [
    {
     "name": "stdout",
     "output_type": "stream",
     "text": [
      "Vehicle is moving.\n",
      "Ring ring!\n"
     ]
    }
   ],
   "source": [
    "class Vehicle:\n",
    "    def move(self):\n",
    "        print(\"Vehicle is moving.\")\n",
    "\n",
    "class Bike(Vehicle):\n",
    "    def ring_bell(self):\n",
    "        print(\"Ring ring!\")\n",
    "\n",
    "b = Bike()\n",
    "b.move()      # inherited\n",
    "b.ring_bell() # own method\n"
   ]
  },
  {
   "cell_type": "code",
   "execution_count": 4,
   "id": "e0c3ed92-09f0-454b-a27d-cd8cdd9934dc",
   "metadata": {},
   "outputs": [
    {
     "name": "stdout",
     "output_type": "stream",
     "text": [
      "Dog barks.\n",
      "Dog is fetching the ball.\n"
     ]
    }
   ],
   "source": [
    "# Parent class\n",
    "class Animal:\n",
    "    def speak(self):\n",
    "        print(\"Animal makes a sound.\")\n",
    "\n",
    "# Child class\n",
    "class Dog(Animal):\n",
    "    def speak(self): \n",
    "        print(\"Dog barks.\")\n",
    "\n",
    "    def fetch(self):  \n",
    "        print(\"Dog is fetching the ball.\")\n",
    "\n",
    "# Create object of Dog\n",
    "d = Dog()\n",
    "d.speak()  \n",
    "d.fetch()  \n"
   ]
  },
  {
   "cell_type": "code",
   "execution_count": 5,
   "id": "b662ade9-cf2a-45b0-a8bf-7beb7596280e",
   "metadata": {},
   "outputs": [
    {
     "name": "stdout",
     "output_type": "stream",
     "text": [
      "Name: Raj\n",
      "Age: 35\n",
      "Subject: Mathematics\n",
      "Teaching mathematics.\n"
     ]
    }
   ],
   "source": [
    "# Base class\n",
    "class Person:\n",
    "    def __init__(self, name, age):\n",
    "        self.name = name\n",
    "        self.age = age\n",
    "\n",
    "    def display_info(self):\n",
    "        print(f\"Name: {self.name}\")\n",
    "        print(f\"Age: {self.age}\")\n",
    "\n",
    "# First level of inheritance\n",
    "class Teacher(Person):\n",
    "    def __init__(self, name, age, subject):\n",
    "        super().__init__(name, age)\n",
    "        self.subject = subject\n",
    "\n",
    "    def display_info(self):\n",
    "        super().display_info()\n",
    "        print(f\"Subject: {self.subject}\")\n",
    "\n",
    "# Second level of inheritance\n",
    "class MathTeacher(Teacher):\n",
    "    def teach_math(self):\n",
    "        print(\"Teaching mathematics.\")\n",
    "\n",
    "# Create an object\n",
    "mt = MathTeacher(\"Raj\", 35, \"Mathematics\")\n",
    "mt.display_info()\n",
    "mt.teach_math()\n"
   ]
  },
  {
   "cell_type": "code",
   "execution_count": 6,
   "id": "05ad204a-90d0-4a2a-aa04-e70a35ef9840",
   "metadata": {},
   "outputs": [
    {
     "name": "stdout",
     "output_type": "stream",
     "text": [
      "Rs. 1000 was debited\n",
      "total balance= 0\n",
      "Rs. 20000 was credited\n",
      "total balance= 20000\n"
     ]
    }
   ],
   "source": [
    "# I have use oops method(object oriented program) i have generated one two program\n",
    "class Account:\n",
    "    def __init__(self,bal,acc):\n",
    "        self.balance=bal\n",
    "        self.account_no=acc\n",
    "    def debit(self,amount):\n",
    "        self.balance-=amount\n",
    "        print(\"Rs.\",amount,\"was debited\")\n",
    "        print(\"total balance=\",self.get_balance())\n",
    "    def credit(self,amount):\n",
    "        self.balance+=amount\n",
    "        print(\"Rs.\",amount,\"was credited\")\n",
    "        print(\"total balance=\",self.get_balance())\n",
    "    def get_balance(self):\n",
    "        return self.balance\n",
    "acc1=Account(1000,12345)\n",
    "acc1.debit(1000)\n",
    "acc1.credit(20000)"
   ]
  },
  {
   "cell_type": "code",
   "execution_count": 7,
   "id": "40f59db8-8377-406c-9fd3-7f9b7f090974",
   "metadata": {},
   "outputs": [
    {
     "name": "stdout",
     "output_type": "stream",
     "text": [
      "Rs. 20000 was credited\n",
      "total balance= 40000\n",
      "Rs. 15000 was debited\n",
      "total balance= 25000\n"
     ]
    }
   ],
   "source": [
    "#if salary will credited 20000 and emi will cut 15000\n",
    "acc1.credit(20000)\n",
    "acc1.debit(15000)"
   ]
  },
  {
   "cell_type": "code",
   "execution_count": 15,
   "id": "9816ca09-870d-4834-aaa7-97f945c87989",
   "metadata": {},
   "outputs": [
    {
     "name": "stdout",
     "output_type": "stream",
     "text": [
      "car started..\n",
      "None\n",
      "car stop..\n",
      "None\n"
     ]
    }
   ],
   "source": [
    "# we have seen that inheritance this is the type of OOPs method lets take example on.....\n",
    "class Car:\n",
    "    @staticmethod\n",
    "    def start():\n",
    "        print(\"car started..\")\n",
    "    @staticmethod\n",
    "    def stop():\n",
    "        print(\"car stop..\")\n",
    "class ToyotaCar(Car):\n",
    "    def __init__(self,name):\n",
    "        self.name=name\n",
    "car1=ToyotaCar(\"Fortuner\")\n",
    "car2=ToyotaCar(\"prius\")\n",
    "print(car1.start())\n",
    "print(car1.stop())\n",
    "\n"
   ]
  },
  {
   "cell_type": "code",
   "execution_count": 20,
   "id": "24566a37-8748-413c-bb4a-21c3e62b1586",
   "metadata": {},
   "outputs": [
    {
     "name": "stdout",
     "output_type": "stream",
     "text": [
      "car started..\n"
     ]
    }
   ],
   "source": [
    "class Car:\n",
    "    @staticmethod\n",
    "    def start():\n",
    "        print(\"car started..\")\n",
    "    @staticmethod\n",
    "    def stop():\n",
    "        print(\"car stop..\")\n",
    "class ToyotaCar(Car):\n",
    "    def __init__(self,name):\n",
    "        self.brand=brand\n",
    "class Fortuner(ToyotaCar):\n",
    "    def __init__(self,type):\n",
    "        self.type=type\n",
    "car1=Fortuner(\"diesel\")\n",
    "car1.start()\n",
    "\n"
   ]
  },
  {
   "cell_type": "code",
   "execution_count": 21,
   "id": "5a29ddae-ff7d-419d-879a-1931ef42e121",
   "metadata": {},
   "outputs": [
    {
     "name": "stdout",
     "output_type": "stream",
     "text": [
      "welcome to class C\n",
      "welcome to class B\n",
      "welcome to class A\n"
     ]
    }
   ],
   "source": [
    "class A:\n",
    "    varA = \"welcome to class A\"\n",
    "class B:\n",
    "    varB = \"welcome to class B\"\n",
    "class C(A,B):\n",
    "    varC = \"welcome to class C\"\n",
    "c1=C()\n",
    "print(c1.varC)\n",
    "print(c1.varB)\n",
    "print(c1.varA)\n",
    "    "
   ]
  },
  {
   "cell_type": "code",
   "execution_count": 22,
   "id": "37889fb2-7bcb-4108-bfcb-5594da78f0a2",
   "metadata": {},
   "outputs": [
    {
     "name": "stdout",
     "output_type": "stream",
     "text": [
      "98.0%\n"
     ]
    }
   ],
   "source": [
    "# we Have to Use property decorator method to solve the problem this coming in inheritance in oops\n",
    "class Students:\n",
    "    def __init__(self,phy,chem,math):\n",
    "        self.phy=phy\n",
    "        self.chem=chem\n",
    "        self.math=math\n",
    "    @property\n",
    "    def percentage(self):\n",
    "        return str((self.phy+self.chem+self.math)/3)+\"%\"\n",
    "stu1=Students(98,97,99)\n",
    "print(stu1.percentage)"
   ]
  },
  {
   "cell_type": "code",
   "execution_count": 23,
   "id": "c16286fe-d917-45d3-87c5-c9d1b7ed3db2",
   "metadata": {},
   "outputs": [
    {
     "name": "stdout",
     "output_type": "stream",
     "text": [
      "94.0%\n"
     ]
    }
   ],
   "source": [
    "# we have to change the marks for one student from the avearage \n",
    "stu1.phy=86\n",
    "print(stu1.percentage)"
   ]
  },
  {
   "cell_type": "code",
   "execution_count": 29,
   "id": "2ff34fcd-c51e-456b-bdcc-03478339d58a",
   "metadata": {},
   "outputs": [
    {
     "name": "stdout",
     "output_type": "stream",
     "text": [
      "1 i+ 3 j\n",
      "4 i+ 6 j\n",
      "5 i+ 9 j\n"
     ]
    }
   ],
   "source": [
    "# In This numerical we have seen that \"Polymorphism\" In OOPs let see the numerical\n",
    "class Complex:\n",
    "    def __init__(self,real,img):\n",
    "        self.real=real\n",
    "        self.img=img\n",
    "    def showNumber(self):\n",
    "        print(self.real,\"i+\",self.img,\"j\")\n",
    "    def __add__(self,num2):# if we use dunder function then we directly \"+\" this symbol we can use\n",
    "        newReal=self.real+num2.real # basically dunder function means in add we use __add__\n",
    "        newImg=self.img+num2.img\n",
    "        return Complex(newReal,newImg)\n",
    "num1=Complex(1,3)\n",
    "num1.showNumber()\n",
    "num2=Complex(4,6)\n",
    "num2.showNumber()\n",
    "num3=num1+num2\n",
    "num3.showNumber()"
   ]
  },
  {
   "cell_type": "code",
   "execution_count": 30,
   "id": "17ee3e12-b264-48de-8b50-4973d10b440d",
   "metadata": {},
   "outputs": [
    {
     "name": "stdout",
     "output_type": "stream",
     "text": [
      "1 i+ 3 j\n",
      "4 i+ 6 j\n",
      "-3 i+ -3 j\n"
     ]
    }
   ],
   "source": [
    "class Complex:\n",
    "    def __init__(self,real,img):\n",
    "        self.real=real\n",
    "        self.img=img\n",
    "    def showNumber(self):\n",
    "        print(self.real,\"i+\",self.img,\"j\")\n",
    "    def __sub__(self,num2):# if we use dunder function then we directly \"+\" this symbol we can use\n",
    "        newReal=self.real-num2.real # basically dunder function means in add we use __add__\n",
    "        newImg=self.img-num2.img\n",
    "        return Complex(newReal,newImg)\n",
    "num1=Complex(1,3)\n",
    "num1.showNumber()\n",
    "num2=Complex(4,6)\n",
    "num2.showNumber()\n",
    "num3=num1-num2\n",
    "num3.showNumber()"
   ]
  },
  {
   "cell_type": "code",
   "execution_count": 31,
   "id": "ba9be5ac-2362-4ad0-8304-87522f388bc4",
   "metadata": {},
   "outputs": [
    {
     "name": "stdout",
     "output_type": "stream",
     "text": [
      "1386.0\n",
      "132.0\n"
     ]
    }
   ],
   "source": [
    "# Q Define a circle class to create a circle with radius r using the constructor\n",
    "#Define an Area(0 method of the class which calculates the area of the circle.\n",
    "# Define a perimeter() method of the class which allow you to calculate the perimeter of the circle\n",
    "class Circle:\n",
    "    def __init__(self,radius):\n",
    "        self.radius=radius\n",
    "    def area(self):\n",
    "        return (22/7)*self.radius**2\n",
    "    def perimeter(self):\n",
    "        return 2*(22/7)*self.radius\n",
    "c1=Circle(21)\n",
    "print(c1.area())\n",
    "print(c1.perimeter())\n"
   ]
  },
  {
   "cell_type": "code",
   "execution_count": 33,
   "id": "1ce52b17-89a7-4f3d-a016-226f0e92e1ba",
   "metadata": {},
   "outputs": [
    {
     "name": "stdout",
     "output_type": "stream",
     "text": [
      "role= accountant\n",
      "dept= Finance\n",
      "salary= 60000\n"
     ]
    }
   ],
   "source": [
    " # Define a Employee clss with attrributes role,deparment & salary this class showDetails() Method.\n",
    "class Employee:\n",
    "    def __init__(self,role,dept,salary):\n",
    "        self.role=role\n",
    "        self.dept=dept\n",
    "        self.salary=salary\n",
    "    def showDetails(self):\n",
    "        print(\"role=\",self.role)\n",
    "        print(\"dept=\",self.dept)\n",
    "        print(\"salary=\",self.salary)\n",
    "e1=Employee(\"accountant\",\"Finance\",\"60000\")\n",
    "e1.showDetails()"
   ]
  },
  {
   "cell_type": "code",
   "execution_count": 34,
   "id": "fc5486e2-a760-4ca3-95bc-10cd69a06793",
   "metadata": {},
   "outputs": [
    {
     "name": "stdout",
     "output_type": "stream",
     "text": [
      "Employee= Wipro\n",
      "name= Yash\n",
      "age= 23\n"
     ]
    }
   ],
   "source": [
    "# Create an Engineer class that inherits properties from Employee and has Additional\n",
    "#attributes:namme and age.\n",
    "class Engineer:\n",
    "    def __init__(self,Employee,name,age):\n",
    "        self.Employee=Employee\n",
    "        self.name=name\n",
    "        self.age=age\n",
    "    def showDetails(self):\n",
    "        print(\"Employee=\",self.Employee)\n",
    "        print(\"name=\",self.name)\n",
    "        print(\"age=\",self.age)\n",
    "e1=Engineer(\"Wipro\",\"Yash\",\"23\")\n",
    "e1.showDetails()"
   ]
  },
  {
   "cell_type": "code",
   "execution_count": 35,
   "id": "1685679d-4eff-4bb3-b3af-a9d6a13d3828",
   "metadata": {},
   "outputs": [
    {
     "name": "stdout",
     "output_type": "stream",
     "text": [
      "role= Engineer\n",
      "dept= IT\n",
      "salary= 75000\n"
     ]
    }
   ],
   "source": [
    "# Create an Engineer class that inherits properties from Employee and has Additional\n",
    "#attributes:namme and age.\n",
    "class Employee:\n",
    "    def __init__(self,role,dept,salary):\n",
    "        self.role=role\n",
    "        self.dept=dept\n",
    "        self.salary=salary\n",
    "    def showDetails(self):\n",
    "        print(\"role=\",self.role)\n",
    "        print(\"dept=\",self.dept)\n",
    "        print(\"salary=\",self.salary)\n",
    "class Engineer(Employee):\n",
    "    def __init__(self,name,age):\n",
    "        self.name=name\n",
    "        self.age=age\n",
    "        super().__init__(\"Engineer\",\"IT\",\"75000\")\n",
    "        \n",
    "Employee1=Engineer(\"Yash\",\"24\")\n",
    "Employee1.showDetails()"
   ]
  },
  {
   "cell_type": "code",
   "execution_count": null,
   "id": "ee7bc504-8e5b-4069-8223-25854c3a2690",
   "metadata": {},
   "outputs": [],
   "source": []
  }
 ],
 "metadata": {
  "kernelspec": {
   "display_name": "Python [conda env:base] *",
   "language": "python",
   "name": "conda-base-py"
  },
  "language_info": {
   "codemirror_mode": {
    "name": "ipython",
    "version": 3
   },
   "file_extension": ".py",
   "mimetype": "text/x-python",
   "name": "python",
   "nbconvert_exporter": "python",
   "pygments_lexer": "ipython3",
   "version": "3.13.5"
  },
  "widgets": {
   "application/vnd.jupyter.widget-state+json": {
    "state": {},
    "version_major": 2,
    "version_minor": 0
   }
  }
 },
 "nbformat": 4,
 "nbformat_minor": 5
}
