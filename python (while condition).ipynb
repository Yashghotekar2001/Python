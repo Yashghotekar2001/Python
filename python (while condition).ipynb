{
 "cells": [
  {
   "cell_type": "code",
   "execution_count": 1,
   "id": "566e2587-b73d-464e-baf2-5613ec0d3f12",
   "metadata": {},
   "outputs": [
    {
     "name": "stdout",
     "output_type": "stream",
     "text": [
      "1\n",
      "2\n",
      "3\n",
      "4\n",
      "5\n",
      "6\n",
      "7\n",
      "8\n",
      "9\n",
      "10\n"
     ]
    }
   ],
   "source": [
    "i=1\n",
    "while i<=10:\n",
    "    print(i)\n",
    "    i=i+1"
   ]
  },
  {
   "cell_type": "code",
   "execution_count": 5,
   "id": "af989562-5e5c-4b74-9a48-17254bce5850",
   "metadata": {},
   "outputs": [
    {
     "name": "stdout",
     "output_type": "stream",
     "text": [
      "21  *  1  =  21\n",
      "21  *  2  =  42\n",
      "21  *  3  =  63\n",
      "21  *  4  =  84\n",
      "21  *  5  =  105\n",
      "21  *  6  =  126\n",
      "21  *  7  =  147\n",
      "21  *  8  =  168\n",
      "21  *  9  =  189\n",
      "21  *  10  =  210\n"
     ]
    }
   ],
   "source": [
    "i =1\n",
    "n=21\n",
    "while i<=10:\n",
    "    print(n ,\" * \",i,\" = \", n*i)\n",
    "    i=i+1"
   ]
  },
  {
   "cell_type": "code",
   "execution_count": 3,
   "id": "77c15ff8-1b25-47aa-9b35-40a8a225b481",
   "metadata": {},
   "outputs": [
    {
     "name": "stdout",
     "output_type": "stream",
     "text": [
      "2  *  1  =  2\n",
      "2  *  2  =  2\n",
      "2  *  3  =  2\n",
      "2  *  4  =  2\n",
      "2  *  5  =  2\n",
      "2  *  6  =  2\n",
      "2  *  7  =  2\n",
      "2  *  8  =  2\n",
      "2  *  9  =  2\n",
      "2  *  10  =  2\n"
     ]
    }
   ],
   "source": [
    "i =1\n",
    "n=2\n",
    "while i<=10:\n",
    "    print(n ,\" * \",i,\" = \", n*1)\n",
    "    i=i+1"
   ]
  },
  {
   "cell_type": "code",
   "execution_count": null,
   "id": "f12ee41b-566d-4c01-b3b6-a21b03e2dbc6",
   "metadata": {},
   "outputs": [],
   "source": [
    "i=1\n",
    "n=2\n",
    "while i<=10:\n",
    "    print(n ,\" * \",i,\" = \", n*1)\n",
    "    i=i+1"
   ]
  },
  {
   "cell_type": "code",
   "execution_count": null,
   "id": "d154d12f-f395-4396-995c-657e61c7dcbd",
   "metadata": {},
   "outputs": [],
   "source": [
    "l1 = [1,2,3,4,5,6]\n",
    "i = 0\n",
    "while i<len(l1):\n",
    "    li[i] = l1[i] + 100\n",
    "    i = i + 1"
   ]
  },
  {
   "cell_type": "code",
   "execution_count": null,
   "id": "4dcdea55-f862-4b0e-86e2-1a8325e4c786",
   "metadata": {},
   "outputs": [],
   "source": [
    "l1 = [1,2,3,4,5,6]\n",
    "i = 0\n",
    "while i<len(l1):\n",
    "    l1[i] = l1[i] + 100\n",
    "    i = i + 1"
   ]
  },
  {
   "cell_type": "code",
   "execution_count": null,
   "id": "2be94261-f65f-42c1-87de-1d27a20c02c2",
   "metadata": {},
   "outputs": [],
   "source": [
    "l1"
   ]
  },
  {
   "cell_type": "code",
   "execution_count": null,
   "id": "93283afe-26ff-43f5-9e53-2682ba7af2b1",
   "metadata": {},
   "outputs": [],
   "source": []
  }
 ],
 "metadata": {
  "kernelspec": {
   "display_name": "Python [conda env:base] *",
   "language": "python",
   "name": "conda-base-py"
  },
  "language_info": {
   "codemirror_mode": {
    "name": "ipython",
    "version": 3
   },
   "file_extension": ".py",
   "mimetype": "text/x-python",
   "name": "python",
   "nbconvert_exporter": "python",
   "pygments_lexer": "ipython3",
   "version": "3.13.5"
  },
  "widgets": {
   "application/vnd.jupyter.widget-state+json": {
    "state": {},
    "version_major": 2,
    "version_minor": 0
   }
  }
 },
 "nbformat": 4,
 "nbformat_minor": 5
}
