{
 "cells": [
  {
   "cell_type": "code",
   "execution_count": 3,
   "id": "be677d85-3604-4cb4-85a8-f407be4cf589",
   "metadata": {},
   "outputs": [],
   "source": [
    "# I Have Create One Mini project for Bank Account Manager \n",
    "# Features: 1) Create new account,2) Deposit and withdrawn Money,3)check Balance\n",
    "#4)Display account Details\n",
    "# In that I use class, Encapsulation,Abstraction,Inheritance"
   ]
  },
  {
   "cell_type": "code",
   "execution_count": null,
   "id": "e12c20ec-712f-4a6a-8d50-3e62725a9a7a",
   "metadata": {},
   "outputs": [
    {
     "name": "stdout",
     "output_type": "stream",
     "text": [
      "\n",
      "1. Create Account\n",
      "2. Deposit\n",
      "3. Withdraw\n",
      "4. Check Balance\n",
      "5. Account Details\n",
      "6. Exit\n"
     ]
    },
    {
     "name": "stdin",
     "output_type": "stream",
     "text": [
      "Enter choice:  1\n",
      "Enter Account Number:  1234\n",
      "Enter Account Holder Name:  Manisha GHotekar\n",
      "Enter Initial Balance:  5000\n"
     ]
    },
    {
     "name": "stdout",
     "output_type": "stream",
     "text": [
      "Account created successfully.\n",
      "\n",
      "1. Create Account\n",
      "2. Deposit\n",
      "3. Withdraw\n",
      "4. Check Balance\n",
      "5. Account Details\n",
      "6. Exit\n"
     ]
    },
    {
     "name": "stdin",
     "output_type": "stream",
     "text": [
      "Enter choice:  5\n",
      "Enter Account Number:  1234\n"
     ]
    },
    {
     "name": "stdout",
     "output_type": "stream",
     "text": [
      "Account Number: 1234\n",
      "Holder Name: Manisha GHotekar\n",
      "Balance: ₹5000.0\n",
      "\n",
      "1. Create Account\n",
      "2. Deposit\n",
      "3. Withdraw\n",
      "4. Check Balance\n",
      "5. Account Details\n",
      "6. Exit\n"
     ]
    }
   ],
   "source": [
    "#1) Define the BankAccount Class\n",
    "class BankAccount:\n",
    "    def __init__(self, account_number, holder_name, balance=0):\n",
    "        self.account_number = account_number\n",
    "        self.holder_name = holder_name\n",
    "        self.__balance = balance\n",
    "\n",
    "    def deposit(self, amount):\n",
    "        if amount > 0:\n",
    "            self.__balance += amount\n",
    "            print(f\"Deposited ₹{amount}\")\n",
    "        else:\n",
    "            print(\"Invalid deposit amount.\")\n",
    "\n",
    "    def withdraw(self, amount):\n",
    "        if amount > 0 and self.__balance >= amount:\n",
    "            self.__balance -= amount\n",
    "            print(f\"Withdrew ₹{amount}\")\n",
    "        else:\n",
    "            print(\"Insufficient funds or invalid amount.\")\n",
    "\n",
    "    def get_balance(self):\n",
    "        return self.__balance\n",
    "\n",
    "    def display(self):\n",
    "        print(f\"Account Number: {self.account_number}\")\n",
    "        print(f\"Holder Name: {self.holder_name}\")\n",
    "        print(f\"Balance: ₹{self.__balance}\")\n",
    "class Bank:\n",
    "    def __init__(self):\n",
    "        self.accounts = {}  \n",
    "\n",
    "    def create_account(self, acc_no, name, balance=0):  \n",
    "        if acc_no in self.accounts:\n",
    "            print(\"Account already exists.\")\n",
    "        else:\n",
    "            self.accounts[acc_no] = BankAccount(acc_no, name, balance)\n",
    "            print(\"Account created successfully.\")\n",
    "\n",
    "    def get_account(self, acc_no):\n",
    "        return self.accounts.get(acc_no, None) \n",
    "bank = Bank()\n",
    "\n",
    "while True:\n",
    "    print(\"\\n1. Create Account\\n2. Deposit\\n3. Withdraw\\n4. Check Balance\\n5. Account Details\\n6. Exit\")\n",
    "    choice = input(\"Enter choice: \")\n",
    "\n",
    "    if choice == \"1\":\n",
    "        acc_no = input(\"Enter Account Number: \")\n",
    "        name = input(\"Enter Account Holder Name: \")\n",
    "        balance = float(input(\"Enter Initial Balance: \"))\n",
    "        bank.create_account(acc_no, name, balance)\n",
    "\n",
    "    elif choice == \"2\":\n",
    "        acc_no = input(\"Enter Account Number: \")\n",
    "        acc = bank.get_account(acc_no)\n",
    "        if acc:\n",
    "            amount = float(input(\"Enter amount to deposit: \"))\n",
    "            acc.deposit(amount)\n",
    "        else:\n",
    "            print(\"Account not found.\")\n",
    "\n",
    "    elif choice == \"3\":\n",
    "        acc_no = input(\"Enter Account Number: \")\n",
    "        acc = bank.get_account(acc_no)\n",
    "        if acc:\n",
    "            amount = float(input(\"Enter amount to withdraw: \"))\n",
    "            acc.withdraw(amount)\n",
    "        else:\n",
    "            print(\"Account not found.\")\n",
    "\n",
    "    elif choice == \"4\":\n",
    "        acc_no = input(\"Enter Account Number: \")\n",
    "        acc = bank.get_account(acc_no)\n",
    "        if acc:\n",
    "            print(f\"Current Balance: ₹{acc.get_balance()}\")\n",
    "        else:\n",
    "            print(\"Account not found.\")\n",
    "\n",
    "    elif choice == \"5\":  # ❗Fix: indentation was broken here\n",
    "        acc_no = input(\"Enter Account Number: \")\n",
    "        acc = bank.get_account(acc_no)\n",
    "        if acc:\n",
    "            acc.display()\n",
    "        else:\n",
    "            print(\"Account not found.\")\n",
    "\n",
    "    elif choice == \"6\":\n",
    "        print(\"Exiting...\")\n",
    "        break\n",
    "\n",
    "    else:\n",
    "        print(\"Invalid choice.\")"
   ]
  },
  {
   "cell_type": "code",
   "execution_count": null,
   "id": "1f096569-66f9-4add-a388-7353035136ed",
   "metadata": {},
   "outputs": [],
   "source": []
  }
 ],
 "metadata": {
  "kernelspec": {
   "display_name": "Python [conda env:base] *",
   "language": "python",
   "name": "conda-base-py"
  },
  "language_info": {
   "codemirror_mode": {
    "name": "ipython",
    "version": 3
   },
   "file_extension": ".py",
   "mimetype": "text/x-python",
   "name": "python",
   "nbconvert_exporter": "python",
   "pygments_lexer": "ipython3",
   "version": "3.13.5"
  },
  "widgets": {
   "application/vnd.jupyter.widget-state+json": {
    "state": {},
    "version_major": 2,
    "version_minor": 0
   }
  }
 },
 "nbformat": 4,
 "nbformat_minor": 5
}
