{
 "cells": [
  {
   "cell_type": "code",
   "execution_count": 4,
   "id": "e8f9acab-d32d-4962-a8c7-416c8e102634",
   "metadata": {},
   "outputs": [
    {
     "name": "stdout",
     "output_type": "stream",
     "text": [
      "{'a', 'o', 'e', 'i'}\n"
     ]
    }
   ],
   "source": [
    "#Q1: Create a set of unique vowels from the string \"encyclopedia\" using set comprehension.\n",
    "word=\"encyclopedia\"\n",
    "vowels={i for i in word if i in 'aeiou'}\n",
    "print(vowels)"
   ]
  },
  {
   "cell_type": "code",
   "execution_count": 5,
   "id": "e0294902-509f-418d-a12d-781c1d7a109f",
   "metadata": {},
   "outputs": [
    {
     "name": "stdout",
     "output_type": "stream",
     "text": [
      "{1, 2, 3}\n"
     ]
    }
   ],
   "source": [
    "#2 What is the output of following code \n",
    "s = {1, 2, 3}\n",
    "s.add(2)\n",
    "print(s)\n",
    "# Because in following code we seen duplicate values we seen that in set function we cant allowed duplicate thats why we seen that tyype of output"
   ]
  },
  {
   "cell_type": "code",
   "execution_count": 6,
   "id": "76530020-c58c-4f60-bd18-6a08bd8a4b2b",
   "metadata": {},
   "outputs": [
    {
     "name": "stdout",
     "output_type": "stream",
     "text": [
      "[2, 3, 4]\n"
     ]
    }
   ],
   "source": [
    "#Q3: Write a function to return the intersection of two lists using sets.\n",
    "def list_intersection(a,b):\n",
    "    return list(set(a) & set(b))\n",
    "print(list_intersection([1,2,3,4,5,6],[2,3,4,8,9,0]))"
   ]
  },
  {
   "cell_type": "code",
   "execution_count": 11,
   "id": "41523b27-83be-4836-a4f8-fa26e2e4bf4a",
   "metadata": {},
   "outputs": [
    {
     "name": "stdout",
     "output_type": "stream",
     "text": [
      "[2, 3, 4]\n"
     ]
    }
   ],
   "source": [
    "###############\n",
    "def list_intersection(a,b):\n",
    "    return list(set(a) & set(b))\n",
    "a=[1,2,3,4,5,6]\n",
    "b=[2,4,3,7,8,9]\n",
    "print(list_intersection(a,b))"
   ]
  },
  {
   "cell_type": "code",
   "execution_count": 13,
   "id": "d0c4c2e4-0893-4b04-937d-2539896d605e",
   "metadata": {},
   "outputs": [
    {
     "name": "stdout",
     "output_type": "stream",
     "text": [
      "{1, 2, 3, 4, 5, 6}\n"
     ]
    }
   ],
   "source": [
    "#Q4: How do sets handle duplicate values?\n",
    "s =set([1,2,3,4,5,5,6,6])\n",
    "print(s)       # because set remove all the duplicate values that where we use set function"
   ]
  },
  {
   "cell_type": "code",
   "execution_count": 14,
   "id": "4874ca12-87be-4aa7-9e84-b368fa366077",
   "metadata": {},
   "outputs": [
    {
     "name": "stdout",
     "output_type": "stream",
     "text": [
      "[1, 2, 3, 4, 5, 6, 7, 8, 9]\n"
     ]
    }
   ],
   "source": [
    "#Q5: Convert the list [1, 2, 2, 3, 4, 4, 5] into a set and back to a list (to remove duplicates).\n",
    "list_=[1,2,3,3,4,4,5,6,7,7,8,8,9]\n",
    "set1=list(set(list_))\n",
    "print(set1)"
   ]
  },
  {
   "cell_type": "code",
   "execution_count": null,
   "id": "495d2137-2207-43e1-8dda-964abbbc8c4b",
   "metadata": {},
   "outputs": [],
   "source": [
    "#Dictionary"
   ]
  },
  {
   "cell_type": "code",
   "execution_count": 15,
   "id": "e769e203-d8dd-4f58-a44e-0d9f7c79fc0b",
   "metadata": {},
   "outputs": [
    {
     "name": "stdout",
     "output_type": "stream",
     "text": [
      "{1: 1, 2: 4, 3: 9, 4: 16, 5: 25}\n"
     ]
    }
   ],
   "source": [
    "#Q6: Write a Python dictionary that maps numbers from 1 to 5 to their squares.\n",
    "square={x:x**2 for x in range(1,6)}\n",
    "print(square)"
   ]
  },
  {
   "cell_type": "code",
   "execution_count": 18,
   "id": "2e8436dd-3ae9-4252-be21-02c40cae078e",
   "metadata": {},
   "outputs": [
    {
     "name": "stdout",
     "output_type": "stream",
     "text": [
      "{1: 5}\n"
     ]
    }
   ],
   "source": [
    "#Q7: How do you update the value of a key in a dictionary?\n",
    "a={1:10}\n",
    "a[1]=5\n",
    "print(a)"
   ]
  },
  {
   "cell_type": "code",
   "execution_count": 19,
   "id": "1ac9956e-ded2-4317-943e-99b63bf86d3e",
   "metadata": {},
   "outputs": [
    {
     "name": "stdout",
     "output_type": "stream",
     "text": [
      "{'a': 1, 'b': 2, 'c': 4}\n"
     ]
    }
   ],
   "source": [
    "#Q8: What will be the output of the following?\n",
    "d = {\"a\": 1, \"b\": 2}\n",
    "d[\"c\"] = d.get(\"d\", 4)\n",
    "print(d)\n",
    "\n",
    "#Reason: \"d\" is not in the dictionary, so .get() returns the default 4."
   ]
  },
  {
   "cell_type": "code",
   "execution_count": 20,
   "id": "f5272e2a-4c35-42b1-b4ff-6ecd13c3ab22",
   "metadata": {},
   "outputs": [
    {
     "name": "stdout",
     "output_type": "stream",
     "text": [
      "{'h': 1, 'e': 1, 'l': 2, 'o': 1}\n"
     ]
    }
   ],
   "source": [
    "#Q9: Write a function to count the frequency of each character in a string using a dictionary.\n",
    "def char_frequency(s):\n",
    "    freq = {}\n",
    "    for char in s:\n",
    "        freq[char] = freq.get(char, 0) + 1\n",
    "    return freq\n",
    "\n",
    "print(char_frequency(\"hello\"))  # Output: {'h': 1, 'e': 1, 'l': 2, 'o': 1}\n"
   ]
  },
  {
   "cell_type": "code",
   "execution_count": null,
   "id": "abfeacaa-661a-41af-8db9-5c63e223f962",
   "metadata": {},
   "outputs": [],
   "source": []
  },
  {
   "cell_type": "code",
   "execution_count": null,
   "id": "09e61123-d27a-4533-b838-908683bed092",
   "metadata": {},
   "outputs": [],
   "source": []
  },
  {
   "cell_type": "code",
   "execution_count": null,
   "id": "81af8b8e-96b2-4e52-baa3-1f2254bd8041",
   "metadata": {},
   "outputs": [],
   "source": []
  },
  {
   "cell_type": "code",
   "execution_count": null,
   "id": "66674e5f-4db4-443f-9d04-2f488a9d8ea4",
   "metadata": {},
   "outputs": [],
   "source": []
  },
  {
   "cell_type": "code",
   "execution_count": null,
   "id": "5bd1ca90-ab54-4792-8e7b-b95a502081dc",
   "metadata": {},
   "outputs": [],
   "source": []
  }
 ],
 "metadata": {
  "kernelspec": {
   "display_name": "Python [conda env:base] *",
   "language": "python",
   "name": "conda-base-py"
  },
  "language_info": {
   "codemirror_mode": {
    "name": "ipython",
    "version": 3
   },
   "file_extension": ".py",
   "mimetype": "text/x-python",
   "name": "python",
   "nbconvert_exporter": "python",
   "pygments_lexer": "ipython3",
   "version": "3.13.5"
  },
  "widgets": {
   "application/vnd.jupyter.widget-state+json": {
    "state": {},
    "version_major": 2,
    "version_minor": 0
   }
  }
 },
 "nbformat": 4,
 "nbformat_minor": 5
}
