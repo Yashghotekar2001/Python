{
 "cells": [
  {
   "cell_type": "code",
   "execution_count": 1,
   "id": "9e8d0d0b-e5f6-435e-8807-004af3cc1038",
   "metadata": {},
   "outputs": [],
   "source": [
    "#I want to create a mini project on for number guessing game for loops basic project  i have done for practise purspose"
   ]
  },
  {
   "cell_type": "code",
   "execution_count": null,
   "id": "411f4535-8dda-4eac-aae4-a2d992518877",
   "metadata": {},
   "outputs": [
    {
     "name": "stdout",
     "output_type": "stream",
     "text": [
      "🎯 Welcome to the Number Guessing Game!\n",
      "I have picked a number between 1 and 100.\n"
     ]
    },
    {
     "name": "stdin",
     "output_type": "stream",
     "text": [
      "Enter your guess:  25\n"
     ]
    },
    {
     "name": "stdout",
     "output_type": "stream",
     "text": [
      "📈 Too high! Try again.\n"
     ]
    }
   ],
   "source": [
    "import random\n",
    "\n",
    "print(\"🎯 Welcome to the Number Guessing Game!\")\n",
    "print(\"I have picked a number between 1 and 100.\")\n",
    "\n",
    "# Step 1: Generate random number\n",
    "secret_number = random.randint(1, 100)\n",
    "attempts = 0\n",
    "\n",
    "# Step 2: Loop until user guesses correctly\n",
    "while True:\n",
    "    guess = int(input(\"Enter your guess: \"))\n",
    "    attempts += 1\n",
    "\n",
    "    if guess < secret_number:\n",
    "        print(\"📉 Too low! Try again.\")\n",
    "    elif guess > secret_number:\n",
    "        print(\"📈 Too high! Try again.\")\n",
    "    else:\n",
    "        print(f\"✅ Congratulations! You guessed it in {attempts} attempts.\")\n",
    "        break\n"
   ]
  },
  {
   "cell_type": "code",
   "execution_count": null,
   "id": "7d1f4197-b372-4760-9de6-ca0296b0ef37",
   "metadata": {},
   "outputs": [],
   "source": []
  }
 ],
 "metadata": {
  "kernelspec": {
   "display_name": "Python [conda env:base] *",
   "language": "python",
   "name": "conda-base-py"
  },
  "language_info": {
   "codemirror_mode": {
    "name": "ipython",
    "version": 3
   },
   "file_extension": ".py",
   "mimetype": "text/x-python",
   "name": "python",
   "nbconvert_exporter": "python",
   "pygments_lexer": "ipython3",
   "version": "3.13.5"
  },
  "widgets": {
   "application/vnd.jupyter.widget-state+json": {
    "state": {},
    "version_major": 2,
    "version_minor": 0
   }
  }
 },
 "nbformat": 4,
 "nbformat_minor": 5
}
