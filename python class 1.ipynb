{
 "cells": [
  {
   "cell_type": "code",
   "execution_count": 3,
   "id": "9d8f14ad-82c2-4cc5-addf-d17154f31d21",
   "metadata": {},
   "outputs": [
    {
     "name": "stdin",
     "output_type": "stream",
     "text": [
      " 7\n",
      " 4\n"
     ]
    },
    {
     "data": {
      "text/plain": [
       "int"
      ]
     },
     "execution_count": 3,
     "metadata": {},
     "output_type": "execute_result"
    }
   ],
   "source": [
    "a=(input())\n",
    "b=int(input())\n",
    "type(b)"
   ]
  },
  {
   "cell_type": "code",
   "execution_count": 4,
   "id": "66a1946f-1dc7-4873-9634-4092cc07a4e8",
   "metadata": {},
   "outputs": [
    {
     "name": "stdin",
     "output_type": "stream",
     "text": [
      " 7\n",
      " 5\n"
     ]
    },
    {
     "name": "stdout",
     "output_type": "stream",
     "text": [
      "12\n"
     ]
    }
   ],
   "source": [
    "a=int(input())\n",
    "b=int(input())\n",
    "c=a+b\n",
    "print(c)"
   ]
  },
  {
   "cell_type": "code",
   "execution_count": 5,
   "id": "e61ae6c3-8559-4159-ae8b-668e99d3dc3d",
   "metadata": {},
   "outputs": [
    {
     "name": "stdout",
     "output_type": "stream",
     "text": [
      "12\n"
     ]
    }
   ],
   "source": [
    "a = 3\n",
    "b = 4\n",
    "c = a*b\n",
    "print(c)"
   ]
  },
  {
   "cell_type": "code",
   "execution_count": 6,
   "id": "843f4c68-acf7-446c-b102-40298ed67f9a",
   "metadata": {},
   "outputs": [
    {
     "name": "stdout",
     "output_type": "stream",
     "text": [
      "-1\n"
     ]
    }
   ],
   "source": [
    "a = 3\n",
    "b = 4\n",
    "c = a-b\n",
    "print(c)\n"
   ]
  },
  {
   "cell_type": "code",
   "execution_count": 7,
   "id": "30e263ae-2a6c-412e-a592-75a7f3516856",
   "metadata": {},
   "outputs": [
    {
     "name": "stdin",
     "output_type": "stream",
     "text": [
      " 7\n",
      " 5\n"
     ]
    },
    {
     "name": "stdout",
     "output_type": "stream",
     "text": [
      "1.4\n"
     ]
    }
   ],
   "source": [
    "a=int(input())\n",
    "b=int(input())\n",
    "c=a/b\n",
    "print(c)"
   ]
  },
  {
   "cell_type": "code",
   "execution_count": 8,
   "id": "19fba41d-8ac2-4168-8876-3dd7a0656078",
   "metadata": {},
   "outputs": [
    {
     "name": "stdin",
     "output_type": "stream",
     "text": [
      " 7\n",
      " 5\n"
     ]
    },
    {
     "name": "stdout",
     "output_type": "stream",
     "text": [
      "2\n"
     ]
    }
   ],
   "source": [
    "a=int(input())\n",
    "b=int(input())\n",
    "c=a%b\n",
    "print(c)"
   ]
  },
  {
   "cell_type": "code",
   "execution_count": 9,
   "id": "fce67fcf-dd0e-4708-9c67-878ef7fc135d",
   "metadata": {},
   "outputs": [
    {
     "name": "stdin",
     "output_type": "stream",
     "text": [
      " 7\n",
      " 5\n"
     ]
    },
    {
     "name": "stdout",
     "output_type": "stream",
     "text": [
      "1\n"
     ]
    }
   ],
   "source": [
    "a=int(input())\n",
    "b=int(input())\n",
    "c=a//b\n",
    "print(c)"
   ]
  },
  {
   "cell_type": "code",
   "execution_count": 10,
   "id": "45ad1c97-59f6-416a-a27f-30abc44bd1ba",
   "metadata": {},
   "outputs": [
    {
     "name": "stdin",
     "output_type": "stream",
     "text": [
      " 78\n",
      " 5\n"
     ]
    },
    {
     "name": "stdout",
     "output_type": "stream",
     "text": [
      "2887174368\n"
     ]
    }
   ],
   "source": [
    "a=int(input())\n",
    "b=int(input())\n",
    "c=a**b\n",
    "print(c)"
   ]
  },
  {
   "cell_type": "code",
   "execution_count": 14,
   "id": "40e87f26-bdf4-403b-bb6f-9af5777cdef7",
   "metadata": {},
   "outputs": [],
   "source": [
    "r = 5\n",
    "pi = 3.149\n",
    "area = pi*(r**2)"
   ]
  },
  {
   "cell_type": "code",
   "execution_count": 17,
   "id": "acdedc8a-8d67-42d6-9606-fdda2dd6f1b9",
   "metadata": {},
   "outputs": [
    {
     "data": {
      "text/plain": [
       "78.725"
      ]
     },
     "execution_count": 17,
     "metadata": {},
     "output_type": "execute_result"
    }
   ],
   "source": [
    "area"
   ]
  },
  {
   "cell_type": "code",
   "execution_count": 18,
   "id": "408c5e0b-f162-4343-b04a-9adf269c573d",
   "metadata": {},
   "outputs": [],
   "source": [
    "b=5\n",
    "h=10\n",
    "tri=0.5*b*h\n"
   ]
  },
  {
   "cell_type": "code",
   "execution_count": 24,
   "id": "0329300b-1321-4bd3-836b-583b480726ee",
   "metadata": {},
   "outputs": [
    {
     "name": "stdout",
     "output_type": "stream",
     "text": [
      "25.0\n"
     ]
    }
   ],
   "source": [
    "print(tri)"
   ]
  },
  {
   "cell_type": "code",
   "execution_count": 20,
   "id": "4feae440-63ef-40af-9e96-9e8c00800680",
   "metadata": {},
   "outputs": [],
   "source": [
    "l=5\n",
    "b=10\n",
    "rect=l*b"
   ]
  },
  {
   "cell_type": "code",
   "execution_count": 21,
   "id": "3965b3b2-1620-4d81-a5f7-22fd5cd0e224",
   "metadata": {},
   "outputs": [
    {
     "data": {
      "text/plain": [
       "50"
      ]
     },
     "execution_count": 21,
     "metadata": {},
     "output_type": "execute_result"
    }
   ],
   "source": [
    "rect"
   ]
  },
  {
   "cell_type": "code",
   "execution_count": 22,
   "id": "4e5472be-03a4-4a5b-8db1-52b0d5982c2b",
   "metadata": {},
   "outputs": [],
   "source": [
    "s=10\n",
    "squ=10**2"
   ]
  },
  {
   "cell_type": "code",
   "execution_count": 23,
   "id": "a041bdbc-31a5-4734-93ed-7b07534de067",
   "metadata": {},
   "outputs": [
    {
     "data": {
      "text/plain": [
       "100"
      ]
     },
     "execution_count": 23,
     "metadata": {},
     "output_type": "execute_result"
    }
   ],
   "source": [
    "squ"
   ]
  },
  {
   "cell_type": "code",
   "execution_count": 25,
   "id": "07b13579-c0fa-4006-940f-8478870b631d",
   "metadata": {},
   "outputs": [
    {
     "name": "stdout",
     "output_type": "stream",
     "text": [
      "10 is grerater than 5\n"
     ]
    }
   ],
   "source": [
    "a=10\n",
    "b=5\n",
    "if(a>b):\n",
    "    print(f\"{a} is grerater than {b}\")"
   ]
  },
  {
   "cell_type": "code",
   "execution_count": 27,
   "id": "bccc6ecd-af4f-4678-b243-fc9e52829a37",
   "metadata": {},
   "outputs": [
    {
     "name": "stdout",
     "output_type": "stream",
     "text": [
      "20 is greater than 10\n"
     ]
    }
   ],
   "source": [
    "a=10\n",
    "b=20\n",
    "if(a>b):\n",
    "    print(f\"{a} is greater than {b}\")\n",
    "elif(b>a):\n",
    "    print(f\"{b} is greater than {a}\")"
   ]
  },
  {
   "cell_type": "code",
   "execution_count": 31,
   "id": "187b592c-421d-441c-b488-71f36c1d9c52",
   "metadata": {},
   "outputs": [
    {
     "name": "stdout",
     "output_type": "stream",
     "text": [
      "50 is greater than 30\n"
     ]
    }
   ],
   "source": [
    "a=50\n",
    "b=30\n",
    "if(a>b):\n",
    "    print(f\"{a} is greater than {b}\")\n",
    "    "
   ]
  },
  {
   "cell_type": "code",
   "execution_count": null,
   "id": "19f8f6e0-4e56-41f4-84ad-4d5b60275423",
   "metadata": {},
   "outputs": [],
   "source": []
  }
 ],
 "metadata": {
  "kernelspec": {
   "display_name": "Python [conda env:base] *",
   "language": "python",
   "name": "conda-base-py"
  },
  "language_info": {
   "codemirror_mode": {
    "name": "ipython",
    "version": 3
   },
   "file_extension": ".py",
   "mimetype": "text/x-python",
   "name": "python",
   "nbconvert_exporter": "python",
   "pygments_lexer": "ipython3",
   "version": "3.13.5"
  }
 },
 "nbformat": 4,
 "nbformat_minor": 5
}
