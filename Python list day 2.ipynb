{
 "cells": [
  {
   "cell_type": "code",
   "execution_count": 2,
   "id": "b4119181-36f1-48e6-8acf-43f8c7d92d9c",
   "metadata": {},
   "outputs": [],
   "source": [
    "#Create a list of integers from 1 to 10.\n",
    "#Append 100 to the end of the list.\n",
    "\n",
    "#Insert 55 at index 5.\n",
    "#Remove the last element from the list.\n",
    "\n",
    "#find the index of number 55.\n",
    "\n",
    "#Sort the list in descending order.\n",
    "\n",
    "#Reverse the list.\n",
    "\n",
    "#Check if 25 is in the list.\n",
    "\n",
    "#Count how many times number 5 appears.\n",
    "\n",
    "#Get the sum of all elements."
   ]
  },
  {
   "cell_type": "code",
   "execution_count": 1,
   "id": "553b837b-92eb-4f0f-869f-32d73071938b",
   "metadata": {},
   "outputs": [
    {
     "data": {
      "text/plain": [
       "[1, 2, 3, 4, 5, 6, 7, 8, 9, 10]"
      ]
     },
     "execution_count": 1,
     "metadata": {},
     "output_type": "execute_result"
    }
   ],
   "source": [
    "#Create a list of integers from 1 to 10.\n",
    "list1 = list(range(1,11))\n",
    "list1"
   ]
  },
  {
   "cell_type": "code",
   "execution_count": 2,
   "id": "89f775fe-3388-4dae-9058-5b3f6e96e6ed",
   "metadata": {},
   "outputs": [
    {
     "data": {
      "text/plain": [
       "[1, 2, 3, 4, 5, 6, 7, 8, 9, 10, 100]"
      ]
     },
     "execution_count": 2,
     "metadata": {},
     "output_type": "execute_result"
    }
   ],
   "source": [
    "list1.append(100)\n",
    "list1"
   ]
  },
  {
   "cell_type": "code",
   "execution_count": 3,
   "id": "afcae82f-e2f0-4a11-b549-42bcd0e4e0e3",
   "metadata": {},
   "outputs": [
    {
     "data": {
      "text/plain": [
       "[1, 2, 3, 4, 5, 55, 6, 7, 8, 9, 10, 100]"
      ]
     },
     "execution_count": 3,
     "metadata": {},
     "output_type": "execute_result"
    }
   ],
   "source": [
    "list1.insert(5,55)\n",
    "list1"
   ]
  },
  {
   "cell_type": "code",
   "execution_count": 4,
   "id": "54d58d3f-6a46-4f2b-8c97-c2fcce9cd0cc",
   "metadata": {},
   "outputs": [
    {
     "data": {
      "text/plain": [
       "[1, 2, 3, 4, 5, 55, 6, 7, 8, 9, 10]"
      ]
     },
     "execution_count": 4,
     "metadata": {},
     "output_type": "execute_result"
    }
   ],
   "source": [
    "list1.pop()\n",
    "list1\n"
   ]
  },
  {
   "cell_type": "code",
   "execution_count": 5,
   "id": "85a636ed-b877-4197-b0c5-473278bd5c5c",
   "metadata": {},
   "outputs": [
    {
     "data": {
      "text/plain": [
       "5"
      ]
     },
     "execution_count": 5,
     "metadata": {},
     "output_type": "execute_result"
    }
   ],
   "source": [
    "idx=list1.index(55)\n",
    "idx"
   ]
  },
  {
   "cell_type": "code",
   "execution_count": 6,
   "id": "36e6491a-908e-40c3-bc37-aacc9781dc7f",
   "metadata": {},
   "outputs": [
    {
     "data": {
      "text/plain": [
       "[55, 10, 9, 8, 7, 6, 5, 4, 3, 2, 1]"
      ]
     },
     "execution_count": 6,
     "metadata": {},
     "output_type": "execute_result"
    }
   ],
   "source": [
    "list1.sort(reverse=True)\n",
    "list1"
   ]
  },
  {
   "cell_type": "code",
   "execution_count": 7,
   "id": "1e988a5a-0af4-497b-a69b-70f052789510",
   "metadata": {},
   "outputs": [
    {
     "data": {
      "text/plain": [
       "[1, 2, 3, 4, 5, 6, 7, 8, 9, 10, 55]"
      ]
     },
     "execution_count": 7,
     "metadata": {},
     "output_type": "execute_result"
    }
   ],
   "source": [
    "list1.reverse()\n",
    "list1\n"
   ]
  },
  {
   "cell_type": "code",
   "execution_count": 8,
   "id": "0a9247e0-c9a2-49f1-82db-561698c6b288",
   "metadata": {},
   "outputs": [
    {
     "data": {
      "text/plain": [
       "False"
      ]
     },
     "execution_count": 8,
     "metadata": {},
     "output_type": "execute_result"
    }
   ],
   "source": [
    "exits=25 in list1\n",
    "exits"
   ]
  },
  {
   "cell_type": "code",
   "execution_count": 15,
   "id": "31465498-0036-4d4f-bd7b-dbb5a086478d",
   "metadata": {},
   "outputs": [
    {
     "data": {
      "text/plain": [
       "1"
      ]
     },
     "execution_count": 15,
     "metadata": {},
     "output_type": "execute_result"
    }
   ],
   "source": [
    "count=list1.count(1)\n",
    "count"
   ]
  },
  {
   "cell_type": "code",
   "execution_count": 17,
   "id": "dbf50552-dc09-4a72-886e-51d187b601f2",
   "metadata": {},
   "outputs": [
    {
     "data": {
      "text/plain": [
       "110"
      ]
     },
     "execution_count": 17,
     "metadata": {},
     "output_type": "execute_result"
    }
   ],
   "source": [
    "total=sum(list1)\n",
    "total"
   ]
  },
  {
   "cell_type": "code",
   "execution_count": 18,
   "id": "970d352c-28f9-40ea-9b6b-a1df975ee31e",
   "metadata": {},
   "outputs": [],
   "source": [
    "#Flatten a nested list: [[1, 2], [3, 4], [5]]\n",
    "#Remove all even numbers from a list.\n",
    "#Get unique elements from a list without using set().\n",
    "#Get the second largest number from a list.\n",
    "#Rotate a list to the right by 2 positions.\n",
    "#Find the common elements between two lists.\n",
    "#Find the difference between two lists (elements in A not in B).\n",
    "#Check if a list is a palindrome.\n",
    "#Split a list into chunks of size 3.\n",
    "#Count frequencies of all elements."
   ]
  },
  {
   "cell_type": "code",
   "execution_count": 22,
   "id": "5ffae535-a518-4649-93bc-a3fcc007972b",
   "metadata": {},
   "outputs": [
    {
     "data": {
      "text/plain": [
       "[1, 2, 3, 4, 5]"
      ]
     },
     "execution_count": 22,
     "metadata": {},
     "output_type": "execute_result"
    }
   ],
   "source": [
    "nested = [[1,2],[3,4],[5]]\n",
    "flat=[]\n",
    "for sub in nested:\n",
    "    for num in sub:\n",
    "        flat.append(num)\n",
    "flat"
   ]
  },
  {
   "cell_type": "code",
   "execution_count": 37,
   "id": "5883f7e4-1222-498f-be92-ce1bc93a7b9f",
   "metadata": {},
   "outputs": [
    {
     "data": {
      "text/plain": [
       "[1, 3, 5, 7]"
      ]
     },
     "execution_count": 37,
     "metadata": {},
     "output_type": "execute_result"
    }
   ],
   "source": [
    "#Remove all even numbers from a list.\n",
    "list1=[1,2,3,4,5,6,7,8]\n",
    "list1= [i for i in list1 if i%2!=0]\n",
    "list1"
   ]
  },
  {
   "cell_type": "code",
   "execution_count": 41,
   "id": "4a2a80c0-88ce-48e7-a5b2-8cc822534340",
   "metadata": {},
   "outputs": [
    {
     "data": {
      "text/plain": [
       "[1, 2, 3]"
      ]
     },
     "execution_count": 41,
     "metadata": {},
     "output_type": "execute_result"
    }
   ],
   "source": [
    "#Get unique elements from a list without using set().\n",
    "unique = []\n",
    "for i in [1, 2, 2, 3, 1]:\n",
    "    if i not in unique:\n",
    "        unique.append(i)\n",
    "unique\n"
   ]
  },
  {
   "cell_type": "code",
   "execution_count": 46,
   "id": "608beac4-31bd-4e68-aa60-4dfb284b28de",
   "metadata": {},
   "outputs": [
    {
     "data": {
      "text/plain": [
       "[1, 3, 5, 8]"
      ]
     },
     "execution_count": 46,
     "metadata": {},
     "output_type": "execute_result"
    }
   ],
   "source": [
    "#Get the second largest number from a list.\n",
    "i = [5, 1, 8, 3]\n",
    "b=sorted(i)\n",
    "b"
   ]
  },
  {
   "cell_type": "code",
   "execution_count": 47,
   "id": "08095921-8635-4b7a-8daa-9e8561f5c1ed",
   "metadata": {},
   "outputs": [
    {
     "data": {
      "text/plain": [
       "5"
      ]
     },
     "execution_count": 47,
     "metadata": {},
     "output_type": "execute_result"
    }
   ],
   "source": [
    "b[-2]"
   ]
  },
  {
   "cell_type": "code",
   "execution_count": 50,
   "id": "bd1ad741-899e-423d-a145-17cf415fef30",
   "metadata": {},
   "outputs": [
    {
     "data": {
      "text/plain": [
       "[4, 5, 1, 2, 3]"
      ]
     },
     "execution_count": 50,
     "metadata": {},
     "output_type": "execute_result"
    }
   ],
   "source": [
    "#Rotate a list to the right by 2 positions\n",
    "list1=[1,2,3,4,5]\n",
    "a=list1[-2:]\n",
    "b=list1[:-2]\n",
    "a+b"
   ]
  },
  {
   "cell_type": "code",
   "execution_count": 53,
   "id": "9ead1ad8-81c5-4882-ae35-29ca5fb001d5",
   "metadata": {},
   "outputs": [
    {
     "data": {
      "text/plain": [
       "[4, 5]"
      ]
     },
     "execution_count": 53,
     "metadata": {},
     "output_type": "execute_result"
    }
   ],
   "source": [
    "#Find the common elements between two lists\n",
    "a=[1,2,3,4,5]\n",
    "b=[4,5,6,7,8]\n",
    "same=list(set(a) & set(b))\n",
    "same"
   ]
  },
  {
   "cell_type": "code",
   "execution_count": 55,
   "id": "22d62d1a-43d0-4323-9425-a24f715c001b",
   "metadata": {},
   "outputs": [
    {
     "data": {
      "text/plain": [
       "[1, 2, 3]"
      ]
     },
     "execution_count": 55,
     "metadata": {},
     "output_type": "execute_result"
    }
   ],
   "source": [
    "#Find the difference between two lists (elements in A not in B).\n",
    "a=[1,2,3,4,5]\n",
    "b=[4,5,6,7,8]\n",
    "difference=list(set(a)-set(b))\n",
    "difference"
   ]
  },
  {
   "cell_type": "code",
   "execution_count": 57,
   "id": "53ef1ffd-12bb-4f7f-93c2-6c890db6417e",
   "metadata": {},
   "outputs": [
    {
     "data": {
      "text/plain": [
       "True"
      ]
     },
     "execution_count": 57,
     "metadata": {},
     "output_type": "execute_result"
    }
   ],
   "source": [
    "#Check if a list is a palindrome.\n",
    "list1=[1,2,1]\n",
    "list1==list1[::-1]\n"
   ]
  },
  {
   "cell_type": "code",
   "execution_count": 59,
   "id": "8fd07d7e-ce78-4744-8fc7-9f7e6554d606",
   "metadata": {},
   "outputs": [
    {
     "data": {
      "text/plain": [
       "Counter({2: 2, 1: 1, 3: 1})"
      ]
     },
     "execution_count": 59,
     "metadata": {},
     "output_type": "execute_result"
    }
   ],
   "source": [
    "#Count frequencies of all elements\n",
    "from collections import Counter\n",
    "freq = Counter([1, 2, 2, 3])\n",
    "freq\n",
    "\n"
   ]
  },
  {
   "cell_type": "code",
   "execution_count": null,
   "id": "8ab09621-59b0-4c7b-94fa-c8d7626a4882",
   "metadata": {},
   "outputs": [],
   "source": []
  },
  {
   "cell_type": "code",
   "execution_count": null,
   "id": "de455839-4f65-43f0-8379-77eef37d9d7c",
   "metadata": {},
   "outputs": [],
   "source": []
  },
  {
   "cell_type": "code",
   "execution_count": null,
   "id": "4be6b3cf-cab2-4be7-a2d7-a550ffad17b9",
   "metadata": {},
   "outputs": [],
   "source": []
  },
  {
   "cell_type": "code",
   "execution_count": null,
   "id": "7a652530-1d7d-4790-b02d-8680eba3d075",
   "metadata": {},
   "outputs": [],
   "source": []
  }
 ],
 "metadata": {
  "kernelspec": {
   "display_name": "Python [conda env:base] *",
   "language": "python",
   "name": "conda-base-py"
  },
  "language_info": {
   "codemirror_mode": {
    "name": "ipython",
    "version": 3
   },
   "file_extension": ".py",
   "mimetype": "text/x-python",
   "name": "python",
   "nbconvert_exporter": "python",
   "pygments_lexer": "ipython3",
   "version": "3.13.5"
  },
  "widgets": {
   "application/vnd.jupyter.widget-state+json": {
    "state": {},
    "version_major": 2,
    "version_minor": 0
   }
  }
 },
 "nbformat": 4,
 "nbformat_minor": 5
}
