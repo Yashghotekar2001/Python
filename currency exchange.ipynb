{
 "cells": [
  {
   "cell_type": "code",
   "execution_count": 1,
   "id": "6dc6b1a1-f71c-4ecb-a8d5-e4929a8297f3",
   "metadata": {},
   "outputs": [],
   "source": [
    "# this code basically the currency exchange purpose basically\n"
   ]
  },
  {
   "cell_type": "code",
   "execution_count": 2,
   "id": "a2590bc2-7cc7-4dd2-86b2-905c717064a3",
   "metadata": {},
   "outputs": [],
   "source": [
    "exchange_rates={'USD':1.0,'EUR':0.85,'INR':83.15,'JPY':156.90,'GBP':0.75}\n"
   ]
  },
  {
   "cell_type": "code",
   "execution_count": 6,
   "id": "6dc4bdd5-607b-4322-bc86-e1f2c7695704",
   "metadata": {},
   "outputs": [
    {
     "name": "stdout",
     "output_type": "stream",
     "text": [
      "Currency Converter (Static Rates)\n"
     ]
    },
    {
     "name": "stdin",
     "output_type": "stream",
     "text": [
      "Enter amount:  5000\n",
      "From Currency (e.g., USD, INR):  INR\n",
      "To Currency (e.g., EUR, JPY):  EUR\n"
     ]
    },
    {
     "name": "stdout",
     "output_type": "stream",
     "text": [
      "Converted Amount: 51.11\n"
     ]
    }
   ],
   "source": [
    "\n",
    "def convert_currency(amount, from_currency, to_currency):\n",
    "    if from_currency not in exchange_rates or to_currency not in exchange_rates:\n",
    "        return \"Currency not supported.\"\n",
    "    \n",
    "    # Convert amount to USD, then to target currency\n",
    "    usd_amount = amount / exchange_rates[from_currency]\n",
    "    converted_amount = usd_amount * exchange_rates[to_currency]\n",
    "    return round(converted_amount, 2)\n",
    "if __name__ == \"__main__\":\n",
    "    print(\"Currency Converter (Static Rates)\")\n",
    "    amount = float(input(\"Enter amount: \"))\n",
    "    from_curr = input(\"From Currency (e.g., USD, INR): \").upper()\n",
    "    to_curr = input(\"To Currency (e.g., EUR, JPY): \").upper()\n",
    "\n",
    "    result = convert_currency(amount, from_curr, to_curr)\n",
    "    print(f\"Converted Amount: {result}\")\n"
   ]
  },
  {
   "cell_type": "code",
   "execution_count": null,
   "id": "e517e53f-300c-4096-bc7f-7a87e1d91688",
   "metadata": {},
   "outputs": [],
   "source": []
  }
 ],
 "metadata": {
  "kernelspec": {
   "display_name": "Python [conda env:base] *",
   "language": "python",
   "name": "conda-base-py"
  },
  "language_info": {
   "codemirror_mode": {
    "name": "ipython",
    "version": 3
   },
   "file_extension": ".py",
   "mimetype": "text/x-python",
   "name": "python",
   "nbconvert_exporter": "python",
   "pygments_lexer": "ipython3",
   "version": "3.13.5"
  },
  "widgets": {
   "application/vnd.jupyter.widget-state+json": {
    "state": {},
    "version_major": 2,
    "version_minor": 0
   }
  }
 },
 "nbformat": 4,
 "nbformat_minor": 5
}
