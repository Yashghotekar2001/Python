{
 "cells": [
  {
   "cell_type": "code",
   "execution_count": null,
   "id": "8809154f-2aa3-4108-b1ba-a56c0e2802d4",
   "metadata": {},
   "outputs": [
    {
     "name": "stdout",
     "output_type": "stream",
     "text": [
      "\n",
      "1. Show Books\n",
      "2. Borrow Book\n",
      "3. Return Book\n",
      "4. Exit\n"
     ]
    }
   ],
   "source": [
    "# I want to create the \"Library Management system(Mini Console app)\n",
    "class Book:\n",
    "    def __init__(self, title, author):\n",
    "        self.title = title\n",
    "        self.author = author\n",
    "        self.available = True\n",
    "class Library:\n",
    "    def __init__(self):\n",
    "        self.books = []\n",
    "\n",
    "    def add_book(self, book):\n",
    "        self.books.append(book)\n",
    "\n",
    "    def show_books(self):\n",
    "        for book in self.books:\n",
    "            status = \"Available\" if book.available else \"Not Available\"\n",
    "            print(f\"{book.title} by {book.author} - {status}\")\n",
    "\n",
    "    def borrow_book(self, title):\n",
    "        for book in self.books:\n",
    "            if book.title == title and book.available:\n",
    "                book.available = False\n",
    "                print(f\"You have borrowed '{title}'\")\n",
    "                return\n",
    "        print(f\"'{title}' is not available.\")\n",
    "\n",
    "    def return_book(self, title):\n",
    "        for book in self.books:\n",
    "            if book.title == title and not book.available:\n",
    "                book.available = True\n",
    "                print(f\"You have returned '{title}'\")\n",
    "                return\n",
    "        print(f\"'{title}' is not from this library.\")\n",
    "\n",
    "# Creating library object\n",
    "my_library = Library()\n",
    "\n",
    "# Adding books\n",
    "my_library.add_book(Book(\"Python Basics\", \"John Doe\"))\n",
    "my_library.add_book(Book(\"Data Science 101\", \"Jane Smith\"))\n",
    "\n",
    "# Menu simulation\n",
    "while True:\n",
    "    print(\"\\n1. Show Books\\n2. Borrow Book\\n3. Return Book\\n4. Exit\")\n",
    "    choice = input(\"Enter choice: \")\n",
    "\n",
    "    if choice == \"1\":\n",
    "        my_library.show_books()\n",
    "    elif choice == \"2\":\n",
    "        title = input(\"Enter title to borrow: \")\n",
    "        my_library.borrow_book(title)\n",
    "    elif choice == \"3\":\n",
    "        title = input(\"Enter title to return: \")\n",
    "        my_library.return_book(title)\n",
    "    elif choice == \"4\":\n",
    "        break\n",
    "    else:\n",
    "        print(\"Invalid choice!\")\n",
    "\n"
   ]
  },
  {
   "cell_type": "code",
   "execution_count": null,
   "id": "5d2ec5ae-48c4-48c8-af17-749da630ed92",
   "metadata": {},
   "outputs": [],
   "source": []
  }
 ],
 "metadata": {
  "kernelspec": {
   "display_name": "Python [conda env:base] *",
   "language": "python",
   "name": "conda-base-py"
  },
  "language_info": {
   "codemirror_mode": {
    "name": "ipython",
    "version": 3
   },
   "file_extension": ".py",
   "mimetype": "text/x-python",
   "name": "python",
   "nbconvert_exporter": "python",
   "pygments_lexer": "ipython3",
   "version": "3.13.5"
  },
  "widgets": {
   "application/vnd.jupyter.widget-state+json": {
    "state": {},
    "version_major": 2,
    "version_minor": 0
   }
  }
 },
 "nbformat": 4,
 "nbformat_minor": 5
}
