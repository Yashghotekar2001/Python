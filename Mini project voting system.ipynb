{
 "cells": [
  {
   "cell_type": "code",
   "execution_count": null,
   "id": "86f1847a-360c-4934-9ebd-8b3b6459b6ee",
   "metadata": {},
   "outputs": [
    {
     "name": "stdin",
     "output_type": "stream",
     "text": [
      "Enter 1st candidate name: Manisha\n",
      "Enter 2nd candidate name: Kalyani\n",
      "Enter your id 1\n"
     ]
    },
    {
     "name": "stdout",
     "output_type": "stream",
     "text": [
      "1.Manisha\n",
      "2.Kalyani\n"
     ]
    },
    {
     "name": "stdin",
     "output_type": "stream",
     "text": [
      "Enter your choice 1\n"
     ]
    },
    {
     "name": "stdout",
     "output_type": "stream",
     "text": [
      "You voted Manisha\n"
     ]
    }
   ],
   "source": [
    "candidate1=input(\"Enter 1st candidate name:\")\n",
    "candidate2=input(\"Enter 2nd candidate name:\")\n",
    "cand1_votes=0\n",
    "cand2_votes=0\n",
    "voters_id=[1,2,3,4,5,6,7,8,9]\n",
    "voted=[]\n",
    "while True:\n",
    "    if voters_id==[]:\n",
    "        print(\"voting is over\")\n",
    "        if candidate1>candidate2:\n",
    "            print(f\"{candidate1} Won the election with {cand1_votes}\")\n",
    "        elif candidate2>candidate1:\n",
    "            print(f\"{candidate2} Won the election with {cand2_votes}\")\n",
    "        elif candidate1==candidate2:\n",
    "            print(\"Tied\")\n",
    "        break\n",
    "    else:\n",
    "        voter=int(input(\"Enter your id\"))\n",
    "        if voter in voted:\n",
    "            print(\"you allready voted\")\n",
    "            \n",
    "        else:\n",
    "            if voter in voters_id:\n",
    "                print(f\"1.{candidate1}\\n2.{candidate2}\")\n",
    "                choice=int(input(\"Enter your choice\"))\n",
    "                if choice == 1:\n",
    "                    cand1_votes+=1\n",
    "                    print(f\"You voted {candidate1}\")\n",
    "                elif choice ==2:\n",
    "                    cand2_votes+=1\n",
    "                    print(f\"You voted {candidate2}\")\n",
    "                voters_id.remove(voter)\n",
    "                voted.append(voted)\n",
    "            else:\n",
    "                print(\"You are not allowed to vote\")\n",
    "        \n",
    "        "
   ]
  },
  {
   "cell_type": "code",
   "execution_count": null,
   "id": "eacc5f39-16a6-4ac3-addd-b9508c92fff8",
   "metadata": {},
   "outputs": [],
   "source": []
  },
  {
   "cell_type": "code",
   "execution_count": null,
   "id": "ba4d4005-4102-46ce-a0c3-847902dac47e",
   "metadata": {},
   "outputs": [
    {
     "name": "stdin",
     "output_type": "stream",
     "text": [
      "Enter 1st candidate name:  monty bhai\n",
      "Enter 2nd candidate name:  aditya bhai\n",
      "\n",
      "Enter your voter ID:  1\n"
     ]
    },
    {
     "name": "stdout",
     "output_type": "stream",
     "text": [
      "\n",
      "Please cast your vote:\n",
      "1. monty bhai\n",
      "2. aditya bhai\n"
     ]
    },
    {
     "name": "stdin",
     "output_type": "stream",
     "text": [
      "Enter your choice (1 or 2):  1\n"
     ]
    },
    {
     "name": "stdout",
     "output_type": "stream",
     "text": [
      "You voted for monty bhai\n"
     ]
    },
    {
     "name": "stdin",
     "output_type": "stream",
     "text": [
      "\n",
      "Enter your voter ID:  2\n"
     ]
    },
    {
     "name": "stdout",
     "output_type": "stream",
     "text": [
      "\n",
      "Please cast your vote:\n",
      "1. monty bhai\n",
      "2. aditya bhai\n"
     ]
    },
    {
     "name": "stdin",
     "output_type": "stream",
     "text": [
      "Enter your choice (1 or 2):  1\n"
     ]
    },
    {
     "name": "stdout",
     "output_type": "stream",
     "text": [
      "You voted for monty bhai\n"
     ]
    },
    {
     "name": "stdin",
     "output_type": "stream",
     "text": [
      "\n",
      "Enter your voter ID:  10\n"
     ]
    },
    {
     "name": "stdout",
     "output_type": "stream",
     "text": [
      "You are not allowed to vote or invalid voter ID.\n"
     ]
    }
   ],
   "source": [
    "# Get candidate names\n",
    "candidate1 = input(\"Enter 1st candidate name: \")\n",
    "candidate2 = input(\"Enter 2nd candidate name: \")\n",
    "\n",
    "# Initialize vote counts\n",
    "cand1_votes = 0\n",
    "cand2_votes = 0\n",
    "\n",
    "# Registered voters and those who already voted\n",
    "voters_id = [1, 2, 3, 4, 5, 6, 7, 8, 9]\n",
    "voted = []\n",
    "\n",
    "# Voting loop\n",
    "while True:\n",
    "    if not voters_id:\n",
    "        print(\"\\nVoting is over.\")\n",
    "        print(f\"\\nFinal Results:\\n{candidate1}: {cand1_votes} votes\\n{candidate2}: {cand2_votes} votes\")\n",
    "\n",
    "        if cand1_votes > cand2_votes:\n",
    "            print(f\"\\n{candidate1} won the election!\")\n",
    "        elif cand2_votes > cand1_votes:\n",
    "            print(f\"\\n{candidate2} won the election!\")\n",
    "        else:\n",
    "            print(\"\\nThe election ended in a tie.\")\n",
    "        break\n",
    "\n",
    "    try:\n",
    "        voter = int(input(\"\\nEnter your voter ID: \"))\n",
    "    except ValueError:\n",
    "        print(\"Invalid input. Please enter a numeric voter ID.\")\n",
    "        continue\n",
    "\n",
    "    if voter in voted:\n",
    "        print(\"You have already voted.\")\n",
    "    elif voter in voters_id:\n",
    "        print(f\"\\nPlease cast your vote:\\n1. {candidate1}\\n2. {candidate2}\")\n",
    "        try:\n",
    "            choice = int(input(\"Enter your choice (1 or 2): \"))\n",
    "        except ValueError:\n",
    "            print(\"Invalid input. Please enter 1 or 2.\")\n",
    "            continue\n",
    "\n",
    "        if choice == 1:\n",
    "            cand1_votes += 1\n",
    "            print(f\"You voted for {candidate1}\")\n",
    "        elif choice == 2:\n",
    "            cand2_votes += 1\n",
    "            print(f\"You voted for {candidate2}\")\n",
    "        else:\n",
    "            print(\"Invalid choice. Please select 1 or 2.\")\n",
    "            continue\n",
    "\n",
    "        voted.append(voter)\n",
    "        voters_id.remove(voter)\n",
    "    else:\n",
    "        print(\"You are not allowed to vote or invalid voter ID.\")\n"
   ]
  },
  {
   "cell_type": "code",
   "execution_count": 2,
   "id": "9ed9cd33-21d3-4e4d-84ce-0d8e958f89ba",
   "metadata": {},
   "outputs": [],
   "source": [
    "import numpy as np\n"
   ]
  },
  {
   "cell_type": "code",
   "execution_count": 3,
   "id": "443be95f-6f4a-49e2-a609-8b17cb3addc7",
   "metadata": {},
   "outputs": [
    {
     "data": {
      "text/plain": [
       "array([ 2,  4,  6,  8, 10, 12, 14, 16, 18, 20])"
      ]
     },
     "execution_count": 3,
     "metadata": {},
     "output_type": "execute_result"
    }
   ],
   "source": [
    "a=np.array([1,2,3,4,5,6,7,8,9,10])\n",
    "a2=a*2\n",
    "a2\n"
   ]
  },
  {
   "cell_type": "code",
   "execution_count": 4,
   "id": "db820fb3-d91b-4235-8e1a-9d2d9721f98b",
   "metadata": {},
   "outputs": [
    {
     "name": "stdout",
     "output_type": "stream",
     "text": [
      "55\n"
     ]
    }
   ],
   "source": [
    "total=np.sum(a)\n",
    "print(total)\n"
   ]
  },
  {
   "cell_type": "code",
   "execution_count": 5,
   "id": "c96eddfe-d604-40d4-b710-e438b35425c3",
   "metadata": {},
   "outputs": [
    {
     "name": "stdout",
     "output_type": "stream",
     "text": [
      "5.5\n"
     ]
    }
   ],
   "source": [
    "mean=np.mean(a)\n",
    "print(mean)"
   ]
  },
  {
   "cell_type": "code",
   "execution_count": 6,
   "id": "c9f0badb-0fb9-4382-8430-0aa9598d0378",
   "metadata": {},
   "outputs": [
    {
     "name": "stdout",
     "output_type": "stream",
     "text": [
      "2.8722813232690143\n"
     ]
    }
   ],
   "source": [
    "std=np.std(a)\n",
    "print(std)"
   ]
  },
  {
   "cell_type": "code",
   "execution_count": 7,
   "id": "e9364867-9d81-4679-912d-ede55677be62",
   "metadata": {},
   "outputs": [
    {
     "name": "stdout",
     "output_type": "stream",
     "text": [
      "(3, 3)\n",
      "[[1 4 7]\n",
      " [2 5 8]\n",
      " [3 6 9]]\n",
      "6\n",
      "[ 6 15 24]\n",
      "[12 15 18]\n"
     ]
    }
   ],
   "source": [
    "arr=np.array([[1,2,3],\n",
    "              [4,5,6],\n",
    "              [7,8,9]])\n",
    "\n",
    "shape=arr.shape\n",
    "transpose=arr.T\n",
    "element_2_3=arr[1,2]\n",
    "row_sum=np.sum(arr, axis=1)\n",
    "col_sum=np.sum(arr, axis=0)\n",
    "print(shape)\n",
    "print(transpose)\n",
    "print(element_2_3)\n",
    "print(row_sum)\n",
    "print(col_sum)\n",
    "     "
   ]
  },
  {
   "cell_type": "code",
   "execution_count": 8,
   "id": "c45c977b-8acb-4c16-b071-e612a3538da1",
   "metadata": {},
   "outputs": [
    {
     "name": "stdout",
     "output_type": "stream",
     "text": [
      "minimum value: 45\n",
      "maximum value: 95\n",
      "[0.   0.3  0.54 0.86 1.  ]\n"
     ]
    }
   ],
   "source": [
    "# we have to perform min max for using normalization method \n",
    "scores=([45,60,72,88,95])\n",
    "min_val=np.min(scores)\n",
    "max_val=np.max(scores)\n",
    "normalize_scores=(scores-min_val)/(max_val-min_val)\n",
    "print(f\"minimum value:\",min_val)\n",
    "print(f\"maximum value:\",max_val)\n",
    "print(normalize_scores)"
   ]
  },
  {
   "cell_type": "code",
   "execution_count": 9,
   "id": "21cfe97c-e7cf-48c1-aa62-80579218274a",
   "metadata": {},
   "outputs": [
    {
     "name": "stdout",
     "output_type": "stream",
     "text": [
      "[25, 35, 45, 56, 67, 78]\n",
      "51.0\n",
      "18.15672510852843\n",
      "[22.19112342 32.19112342 42.19112342 53.19112342 64.19112342 75.19112342]\n"
     ]
    }
   ],
   "source": [
    "#we have to solve standardized method this is also known as z score normalization \n",
    "score=([25,35,45,56,67,78])\n",
    "mean=np.mean(score)\n",
    "std_dev=np.std(score)\n",
    "standardization=score-mean/std_dev\n",
    "print(score)\n",
    "print(mean)\n",
    "print(std_dev)\n",
    "print(standardization)"
   ]
  },
  {
   "cell_type": "code",
   "execution_count": 10,
   "id": "05b6fcd7-dd33-4ae6-b031-e4cce2ebea60",
   "metadata": {},
   "outputs": [],
   "source": [
    "arr=np.arange(1,13)"
   ]
  },
  {
   "cell_type": "code",
   "execution_count": 12,
   "id": "52f3f71e-acae-4aa7-9bad-8b4c9a6d565d",
   "metadata": {},
   "outputs": [],
   "source": [
    "re_shape=arr.reshape(3,4)"
   ]
  },
  {
   "cell_type": "code",
   "execution_count": 13,
   "id": "279b64c4-5b54-45ef-8c06-05fd30a22948",
   "metadata": {},
   "outputs": [
    {
     "name": "stdout",
     "output_type": "stream",
     "text": [
      "[ 1  2  3  4  5  6  7  8  9 10 11 12]\n",
      "[[ 1  2  3  4]\n",
      " [ 5  6  7  8]\n",
      " [ 9 10 11 12]]\n"
     ]
    }
   ],
   "source": [
    "print(arr)\n",
    "print(re_shape)"
   ]
  },
  {
   "cell_type": "code",
   "execution_count": 14,
   "id": "b3c09064-2f38-422a-8c85-ea616c77e4b7",
   "metadata": {},
   "outputs": [],
   "source": [
    "arr=np.array([[10,20,30],\n",
    "              [40,50,60],\n",
    "              [70,80,90]])\n"
   ]
  },
  {
   "cell_type": "code",
   "execution_count": 24,
   "id": "acd7c26d-359e-4cda-8ea8-4f20cf261277",
   "metadata": {},
   "outputs": [
    {
     "name": "stdout",
     "output_type": "stream",
     "text": [
      "[10 20 30]\n",
      "50\n",
      "[30 60 90]\n"
     ]
    }
   ],
   "source": [
    "print(arr[0])\n",
    "print(arr[1,1])\n",
    "print(arr[:,2])"
   ]
  },
  {
   "cell_type": "code",
   "execution_count": 27,
   "id": "6cd14f2e-cf4a-4941-907e-dd11501b5f9f",
   "metadata": {},
   "outputs": [
    {
     "name": "stdout",
     "output_type": "stream",
     "text": [
      "[ 5 12  7  9 21 17]\n",
      "[12 21 17]\n",
      "[ 5  7  9 21 17]\n"
     ]
    }
   ],
   "source": [
    "arr=np.array([5,12,7,9,21,17])\n",
    "greater=arr[arr>10]\n",
    "odd=arr[arr%2!=0]\n",
    "print(arr)\n",
    "print(greater)\n",
    "print(odd)"
   ]
  },
  {
   "cell_type": "code",
   "execution_count": 28,
   "id": "47e7b802-9467-4d7f-8217-5e9de6474cb4",
   "metadata": {},
   "outputs": [
    {
     "name": "stdout",
     "output_type": "stream",
     "text": [
      "[ 3  7 11]\n",
      "[1 1 1]\n",
      "[ 2 12 30]\n",
      "[2.         1.33333333 1.2       ]\n",
      "[ 4 16 36]\n"
     ]
    }
   ],
   "source": [
    "a=np.array([2,4,6])\n",
    "b=np.array([1,3,5])\n",
    "print(a+b)\n",
    "print(a-b)\n",
    "print(a*b)\n",
    "print(a/b)\n",
    "print(a**2)\n"
   ]
  },
  {
   "cell_type": "code",
   "execution_count": 29,
   "id": "96196e54-ecdb-4039-a155-c228b118de2b",
   "metadata": {},
   "outputs": [
    {
     "name": "stdout",
     "output_type": "stream",
     "text": [
      "20.0\n",
      "20.5\n",
      "8\n",
      "31\n",
      "7.302967433402215\n",
      "53.333333333333336\n"
     ]
    }
   ],
   "source": [
    "data = np.array([15, 22, 8, 19, 31, 25])\n",
    "mean=np.mean(data)\n",
    "median=np.median(data)\n",
    "min_=np.min(data)\n",
    "max_=np.max(data)\n",
    "std=np.std(data)\n",
    "var=np.var(data)\n",
    "print(mean)\n",
    "print(median)\n",
    "print(min_)\n",
    "print(max_)\n",
    "print(std)\n",
    "print(var)"
   ]
  },
  {
   "cell_type": "code",
   "execution_count": 30,
   "id": "1898ef31-b4ab-4939-9232-faa9af81e6c5",
   "metadata": {},
   "outputs": [],
   "source": [
    "# we are using pandas libraris\n",
    "import pandas as pd"
   ]
  },
  {
   "cell_type": "code",
   "execution_count": 33,
   "id": "0fa95ece-dd91-4e7d-a893-db71c70fbb6a",
   "metadata": {},
   "outputs": [
    {
     "name": "stdout",
     "output_type": "stream",
     "text": [
      "     Name  Age    City\n",
      "0    Yash   23  Nashik\n",
      "1  Aditya   24    Pune\n",
      "2   Monty   26   Delhi\n"
     ]
    }
   ],
   "source": [
    "data={'Name':['Yash','Aditya','Monty'],\n",
    "      'Age':[23,24,26],\n",
    "      'City':['Nashik','Pune','Delhi']}\n",
    "df=pd.DataFrame(data)\n",
    "print(df)"
   ]
  },
  {
   "cell_type": "code",
   "execution_count": 40,
   "id": "6f0a8527-a657-4b27-ab9b-e27ad5d43583",
   "metadata": {},
   "outputs": [
    {
     "data": {
      "text/plain": [
       "Name    Monty\n",
       "Age        26\n",
       "City    Delhi\n",
       "Name: 2, dtype: object"
      ]
     },
     "execution_count": 40,
     "metadata": {},
     "output_type": "execute_result"
    }
   ],
   "source": [
    "# Select a column\n",
    "df['Name']\n",
    "# Select multiple columns\n",
    "df[['Name', 'City']]\n",
    "\n",
    "# Select row by index label\n",
    "df.loc[1]     # Row for Bob\n",
    "# Select row by index position\n",
    "df.iloc[2]    # Row for Charlie\n",
    "\n",
    "\n",
    "\n"
   ]
  },
  {
   "cell_type": "code",
   "execution_count": 41,
   "id": "576df3cc-653a-488e-bd13-e1b2aa0a7f6c",
   "metadata": {},
   "outputs": [
    {
     "name": "stdout",
     "output_type": "stream",
     "text": [
      "     Name  Age  Score\n",
      "0    Yash   23     85\n",
      "1  Aditya   24     90\n",
      "2   Monty   26     88\n"
     ]
    }
   ],
   "source": [
    "# Add column\n",
    "df['Score'] = [85, 90, 88]\n",
    "\n",
    "# Remove column\n",
    "df.drop('City', axis=1, inplace=True)\n",
    "\n",
    "print(df)\n"
   ]
  },
  {
   "cell_type": "code",
   "execution_count": 42,
   "id": "60605b91-da47-4ddc-94c2-ab3d32f48dd4",
   "metadata": {},
   "outputs": [
    {
     "name": "stdout",
     "output_type": "stream",
     "text": [
      "     Name  Age  Score\n",
      "1  Aditya   24     90\n",
      "2   Monty   26     88\n"
     ]
    }
   ],
   "source": [
    "# Filter: Age > 23\n",
    "filtered = df[df['Age'] > 23]\n",
    "print(filtered)\n"
   ]
  },
  {
   "cell_type": "code",
   "execution_count": 45,
   "id": "0440def5-e028-4a45-bd96-101427b23ab8",
   "metadata": {},
   "outputs": [],
   "source": [
    "#loop Problem"
   ]
  },
  {
   "cell_type": "code",
   "execution_count": 63,
   "id": "3ef8179e-486d-460a-9018-7b478acd9b4d",
   "metadata": {},
   "outputs": [
    {
     "name": "stdout",
     "output_type": "stream",
     "text": [
      "Even:4,Odd:5\n"
     ]
    }
   ],
   "source": [
    "nums=[1,2,3,4,5,6,7,8,9]\n",
    "even=0\n",
    "odd=0\n",
    "for num in nums:\n",
    "    if num%2==0:\n",
    "        even+=1\n",
    "    else:\n",
    "        odd+=1\n",
    "print(f\"Even:{even},Odd:{odd}\")"
   ]
  },
  {
   "cell_type": "code",
   "execution_count": 49,
   "id": "492cf981-2cad-4eca-969c-271720c16841",
   "metadata": {},
   "outputs": [
    {
     "name": "stdout",
     "output_type": "stream",
     "text": [
      "Even: 4, Odd: 5\n"
     ]
    }
   ],
   "source": [
    "even = 0\n",
    "odd = 0\n",
    "\n",
    "for num in nums:\n",
    "    if num % 2 == 0:\n",
    "        even += 1\n",
    "    else:\n",
    "        odd += 1\n",
    "\n",
    "print(f\"Even: {even}, Odd: {odd}\")\n"
   ]
  },
  {
   "cell_type": "code",
   "execution_count": 61,
   "id": "fd7dec31-66cb-4038-8c09-796b39ffa7e3",
   "metadata": {},
   "outputs": [
    {
     "name": "stdout",
     "output_type": "stream",
     "text": [
      "[2, 4, 6, 8, 10]\n",
      "[1, 3, 5, 7, 9]\n"
     ]
    }
   ],
   "source": [
    "\n",
    "even_number=[]\n",
    "odd_number=[]\n",
    "for i in range(1,11):\n",
    "    if i%2==0:\n",
    "        even_number.append(i)\n",
    "    else:\n",
    "        odd_number.append(i)\n",
    "print(even_number)\n",
    "print(odd_number)\n",
    "\n",
    "    \n",
    "        "
   ]
  },
  {
   "cell_type": "code",
   "execution_count": 70,
   "id": "e83f0d98-d476-41e8-a332-cdafc3278c0b",
   "metadata": {},
   "outputs": [
    {
     "name": "stdout",
     "output_type": "stream",
     "text": [
      "3 5 6 9 10 12 15 18 20 21 24 25 27 30 33 35 36 39 40 42 45 48 50 "
     ]
    }
   ],
   "source": [
    "#2️⃣ Problem: Print Multiples of 3 or 5 from 1 to 50\n",
    "for i in range(1,51):\n",
    "    if i%3==0 or i%5==0:\n",
    "        print(i,end=\" \")"
   ]
  },
  {
   "cell_type": "code",
   "execution_count": 71,
   "id": "b2e5439b-2efa-4b6f-a9fb-d4082135ff7f",
   "metadata": {},
   "outputs": [
    {
     "name": "stdout",
     "output_type": "stream",
     "text": [
      "15 30 45 "
     ]
    }
   ],
   "source": [
    "for i in range(1, 51):\n",
    "    if i % 3 == 0 and i % 5 == 0:\n",
    "        print(i, end=' ')\n"
   ]
  },
  {
   "cell_type": "code",
   "execution_count": 73,
   "id": "424bda16-3ddf-4514-99ea-5b10c3076b4a",
   "metadata": {},
   "outputs": [
    {
     "name": "stdout",
     "output_type": "stream",
     "text": [
      "1\n",
      "2\n",
      "fizz\n",
      "4\n",
      "buzz\n",
      "fizz\n",
      "7\n",
      "8\n",
      "fizz\n",
      "buzz\n",
      "11\n",
      "fizz\n",
      "13\n",
      "14\n",
      "fizz\n",
      "16\n",
      "17\n",
      "fizz\n",
      "19\n",
      "buzz\n"
     ]
    }
   ],
   "source": [
    "#3️⃣ Problem: FizzBuzz fizzbuzz means if num is divisible by 3 then print fizz or divisible by 5 print buzz and divide by 3and 5 then print fizzbuzz\n",
    "for i in range(1,21):\n",
    "    if i%3==0:\n",
    "        print(\"fizz\")\n",
    "    elif i%5==0:\n",
    "        print(\"buzz\")\n",
    "    elif i%3==0 and i%5==0:\n",
    "        print(\"fizzbuzz\")\n",
    "    else:\n",
    "        print(i)\n",
    "    "
   ]
  },
  {
   "cell_type": "code",
   "execution_count": 74,
   "id": "1ac759c6-4d95-478c-8d1a-788836bba1bd",
   "metadata": {},
   "outputs": [
    {
     "name": "stdout",
     "output_type": "stream",
     "text": [
      "1\n",
      "2\n",
      "Fizz\n",
      "4\n",
      "Buzz\n",
      "Fizz\n",
      "7\n",
      "8\n",
      "Fizz\n",
      "Buzz\n",
      "11\n",
      "Fizz\n",
      "13\n",
      "14\n",
      "FizzBuzz\n",
      "16\n",
      "17\n",
      "Fizz\n",
      "19\n",
      "Buzz\n"
     ]
    }
   ],
   "source": [
    "for i in range(1, 21):\n",
    "    if i % 3 == 0 and i % 5 == 0:\n",
    "        print(\"FizzBuzz\")\n",
    "    elif i % 3 == 0:\n",
    "        print(\"Fizz\")\n",
    "    elif i % 5 == 0:\n",
    "        print(\"Buzz\")\n",
    "    else:\n",
    "        print(i)\n"
   ]
  },
  {
   "cell_type": "code",
   "execution_count": 4,
   "id": "d5d93068-4d4d-4be8-9b9d-fed1519acd2b",
   "metadata": {},
   "outputs": [
    {
     "name": "stdout",
     "output_type": "stream",
     "text": [
      "2 3 5 7 11 13 17 19 23 29 31 37 41 43 47 "
     ]
    }
   ],
   "source": [
    "#4️⃣ Problem: Find Prime Numbers from 1 to 50\n",
    "for num in range(2,51):\n",
    "    is_prime=True\n",
    "    for i in range(2,int(num**0.5)+1):\n",
    "        if num%i==0:\n",
    "            is_prime=False\n",
    "            break\n",
    "    if is_prime:\n",
    "        print(num,end=\" \")\n",
    "    \n",
    "    "
   ]
  },
  {
   "cell_type": "code",
   "execution_count": 83,
   "id": "5a4c559e-d3ee-44c1-9f47-f6b2fbe02926",
   "metadata": {},
   "outputs": [
    {
     "name": "stdout",
     "output_type": "stream",
     "text": [
      "[4, 3, 2, 1]\n"
     ]
    }
   ],
   "source": [
    "a=[1,2,3,4]\n",
    "b=a[::-1]\n",
    "print(b)"
   ]
  },
  {
   "cell_type": "code",
   "execution_count": 91,
   "id": "e9119630-92af-484f-a7ef-2c04585ba064",
   "metadata": {},
   "outputs": [
    {
     "data": {
      "text/plain": [
       "4321"
      ]
     },
     "execution_count": 91,
     "metadata": {},
     "output_type": "execute_result"
    }
   ],
   "source": [
    "a=1234\n",
    "reverse=str(a)[::-1]\n",
    "b=int(reverse)\n",
    "b"
   ]
  },
  {
   "cell_type": "code",
   "execution_count": 103,
   "id": "73922668-7016-4149-a9f4-3a563a270b19",
   "metadata": {},
   "outputs": [
    {
     "name": "stdout",
     "output_type": "stream",
     "text": [
      "4321\n"
     ]
    }
   ],
   "source": [
    "#without using slicing method\n",
    "def reverse_string(num):\n",
    "    result=\"\"\n",
    "    for i in str(num):\n",
    "        result=i+result\n",
    "    return result\n",
    "num = 1234\n",
    "print(reverse_string(num))"
   ]
  },
  {
   "cell_type": "code",
   "execution_count": 105,
   "id": "df11455e-7f96-4dee-a2ea-d7e5658ffc2f",
   "metadata": {},
   "outputs": [
    {
     "name": "stdout",
     "output_type": "stream",
     "text": [
      "True\n",
      "False\n"
     ]
    }
   ],
   "source": [
    "#palindrome method in that 121 is the panlidrome there first and last term are same\n",
    "def is_palindrome(num):\n",
    "    return str(num)==str(num)[::-1]\n",
    "print(is_palindrome(121))\n",
    "print(is_palindrome(123))"
   ]
  },
  {
   "cell_type": "code",
   "execution_count": 113,
   "id": "91c90f9e-f4a0-4cce-bc9e-60feecfb42e1",
   "metadata": {},
   "outputs": [
    {
     "name": "stdout",
     "output_type": "stream",
     "text": [
      "24\n"
     ]
    }
   ],
   "source": [
    "#sum of digit of number with loop method\n",
    "def a(num):\n",
    "    total=0\n",
    "    for digit in str(num):\n",
    "        total+=int(digit)\n",
    "    return total\n",
    "print(a(9102903))"
   ]
  },
  {
   "cell_type": "code",
   "execution_count": 114,
   "id": "4644069f-fe22-4ae6-acf8-2d6a319ed864",
   "metadata": {},
   "outputs": [
    {
     "name": "stdout",
     "output_type": "stream",
     "text": [
      "10\n"
     ]
    }
   ],
   "source": [
    "#this method without using loop and condition method\n",
    "def sum_of_digits(num):\n",
    "    return sum(map(int, str(num)))\n",
    "\n",
    "# Test\n",
    "print(sum_of_digits(1234))  # Output: 10\n"
   ]
  },
  {
   "cell_type": "code",
   "execution_count": 117,
   "id": "13eeadb4-2bb6-45e6-a3ba-310b734b9b35",
   "metadata": {},
   "outputs": [
    {
     "name": "stdout",
     "output_type": "stream",
     "text": [
      "1\n"
     ]
    }
   ],
   "source": [
    "#we count the vowels in letter \n",
    "def count_vowels(s):\n",
    "    vowels=\"aeiouAEIOU\"\n",
    "    count=0\n",
    "    for char in s:\n",
    "        if char in vowels:\n",
    "            count=+1\n",
    "    return count\n",
    "print(count_vowels('Hello'))\n"
   ]
  },
  {
   "cell_type": "code",
   "execution_count": 126,
   "id": "3ff0835a-56b4-49c2-ba8c-8c8fe4d5bbe1",
   "metadata": {},
   "outputs": [
    {
     "name": "stdout",
     "output_type": "stream",
     "text": [
      "8\n"
     ]
    }
   ],
   "source": [
    "#find Largest value in list its have teo method 1 is using loop and 2 is without using loop we see both method\n",
    "def find_largest(nums):\n",
    "    largest=nums[0]\n",
    "    for num in nums:\n",
    "        if num>largest:\n",
    "            largest=num\n",
    "    return largest\n",
    "print(find_largest([1,2,3,4,5,6,7,8]))"
   ]
  },
  {
   "cell_type": "code",
   "execution_count": 127,
   "id": "7a089c9e-d67d-484a-ac12-0a1b28064549",
   "metadata": {},
   "outputs": [
    {
     "name": "stdout",
     "output_type": "stream",
     "text": [
      "8\n"
     ]
    }
   ],
   "source": [
    "list1=[1,2,3,4,5,6,7,8]\n",
    "print(max(list1))"
   ]
  },
  {
   "cell_type": "code",
   "execution_count": 141,
   "id": "3e96ed21-4234-4a52-9888-f71d6d7afa70",
   "metadata": {},
   "outputs": [
    {
     "name": "stdout",
     "output_type": "stream",
     "text": [
      " * \n",
      " *  * \n",
      " *  *  * \n",
      " *  *  *  * \n",
      " *  *  *  *  * \n",
      " *  *  *  *  *  * \n"
     ]
    }
   ],
   "source": [
    "def print_pattern(n):\n",
    "    for i in range(1,n+1):\n",
    "        print(' * '* i)\n",
    "print_pattern(6)"
   ]
  },
  {
   "cell_type": "code",
   "execution_count": 163,
   "id": "3e7c8119-84a9-4829-a7a8-7c8c8e2b8052",
   "metadata": {},
   "outputs": [
    {
     "name": "stdout",
     "output_type": "stream",
     "text": [
      "* \n",
      "* * \n",
      "* * * \n",
      "* * * * \n",
      "* * * * * \n",
      "* * * * * * \n"
     ]
    }
   ],
   "source": [
    "#without using def method \n",
    "for i in range (n):\n",
    "    for j in range (i+1):\n",
    "        print('*',end=' ')\n",
    "    print()"
   ]
  },
  {
   "cell_type": "code",
   "execution_count": 146,
   "id": "89b0b96b-cad3-4f91-aa24-43ed470cb447",
   "metadata": {},
   "outputs": [
    {
     "name": "stdout",
     "output_type": "stream",
     "text": [
      "* * * * * * \n",
      "* * * * * \n",
      "* * * * \n",
      "* * * \n",
      "* * \n",
      "* \n"
     ]
    }
   ],
   "source": [
    "n=6\n",
    "for i in range(n):\n",
    "    for j in range(i,n):\n",
    "        print('*',end=' ')\n",
    "    print()"
   ]
  },
  {
   "cell_type": "code",
   "execution_count": 148,
   "id": "cf6b806b-8054-4412-81f2-2189d67d810f",
   "metadata": {},
   "outputs": [
    {
     "name": "stdout",
     "output_type": "stream",
     "text": [
      "            * \n",
      "          * * \n",
      "        * * * \n",
      "      * * * * \n",
      "    * * * * * \n",
      "  * * * * * * \n"
     ]
    }
   ],
   "source": [
    "n=6\n",
    "for i in range(n):\n",
    "    for j in range(i,n):\n",
    "        print(' ',end=' ')\n",
    "    for j in range(i+1):\n",
    "        print('*',end=' ')\n",
    "    print()"
   ]
  },
  {
   "cell_type": "code",
   "execution_count": 149,
   "id": "67be1065-5447-4cc3-b412-85c8f3b93c36",
   "metadata": {},
   "outputs": [
    {
     "name": "stdout",
     "output_type": "stream",
     "text": [
      "  * * * * * * \n",
      "    * * * * * \n",
      "      * * * * \n",
      "        * * * \n",
      "          * * \n",
      "            * \n"
     ]
    }
   ],
   "source": [
    "n=6\n",
    "for i in range(n):\n",
    "    for j in range(1+i):\n",
    "        print(' ',end=' ')\n",
    "    for j in range(i,n):\n",
    "        print('*',end=' ')\n",
    "    print()"
   ]
  },
  {
   "cell_type": "code",
   "execution_count": 151,
   "id": "4803d9a4-a8b5-4698-adc0-2238f7a415a2",
   "metadata": {},
   "outputs": [
    {
     "name": "stdout",
     "output_type": "stream",
     "text": [
      "            * \n",
      "          * * * \n",
      "        * * * * * \n",
      "      * * * * * * * \n",
      "    * * * * * * * * * \n",
      "  * * * * * * * * * * * \n"
     ]
    }
   ],
   "source": [
    "n=6\n",
    "for i in range(n):\n",
    "    for j in range(i,n):\n",
    "        print(' ',end=' ')\n",
    "    for j in range(i):\n",
    "        print('*',end=' ')\n",
    "    for j in range(i+1):\n",
    "        print('*',end=' ')\n",
    "    print()\n",
    "        "
   ]
  },
  {
   "cell_type": "code",
   "execution_count": 161,
   "id": "7ad12d7f-058a-40d8-8a6a-9a19d27ac905",
   "metadata": {},
   "outputs": [
    {
     "name": "stdout",
     "output_type": "stream",
     "text": [
      "* * * * * * \n",
      "* * * * * \n",
      "* * * * \n",
      "* * * \n",
      "* * \n",
      "* \n"
     ]
    }
   ],
   "source": [
    "def print_reverse_triangle(n):\n",
    "    for i in range(n):\n",
    "        for j in range(i, n):\n",
    "            print('*', end=' ')\n",
    "        print()\n",
    "\n",
    "# Call the function\n",
    "print_reverse_triangle(6)\n"
   ]
  },
  {
   "cell_type": "code",
   "execution_count": 171,
   "id": "16f629ba-03a8-4b4f-9429-37d7967f1252",
   "metadata": {},
   "outputs": [
    {
     "name": "stdout",
     "output_type": "stream",
     "text": [
      "Factorial: 120\n"
     ]
    }
   ],
   "source": [
    "#need to find an factorial number\n",
    "num=5\n",
    "fact=1\n",
    "for i in range(1,num+1):\n",
    "    fact=fact*i\n",
    "print(\"Factorial:\",fact)"
   ]
  },
  {
   "cell_type": "code",
   "execution_count": 167,
   "id": "31901ce7-71fe-424e-929d-bdf2ac56a69a",
   "metadata": {},
   "outputs": [
    {
     "name": "stdout",
     "output_type": "stream",
     "text": [
      "Factorial: 120\n"
     ]
    }
   ],
   "source": [
    "n = 5\n",
    "fact = 1\n",
    "for i in range(1, n + 1):\n",
    "    fact *= i\n",
    "print(\"Factorial:\", fact)\n"
   ]
  },
  {
   "cell_type": "code",
   "execution_count": 1,
   "id": "dd152064-533d-4ce6-b1b6-787729dc3e0e",
   "metadata": {},
   "outputs": [
    {
     "name": "stdout",
     "output_type": "stream",
     "text": [
      "Factorial: 120\n"
     ]
    }
   ],
   "source": [
    "n = 5\n",
    "fact = 1\n",
    "for i in range(1, n + 1):\n",
    "    fact *= i\n",
    "print(\"Factorial:\", fact)"
   ]
  },
  {
   "cell_type": "code",
   "execution_count": 2,
   "id": "1788c3cc-f707-4e36-a0bb-7591ad078228",
   "metadata": {},
   "outputs": [
    {
     "name": "stdout",
     "output_type": "stream",
     "text": [
      "0 1 1 2 3 5 8 13 21 34 "
     ]
    }
   ],
   "source": [
    "n = 10\n",
    "a, b = 0, 1\n",
    "for _ in range(n):\n",
    "    print(a, end=' ')\n",
    "    a, b = b, a + b\n"
   ]
  },
  {
   "cell_type": "code",
   "execution_count": 3,
   "id": "cd352d1a-e8f5-4024-82c9-b82c65e3f3aa",
   "metadata": {},
   "outputs": [
    {
     "name": "stdout",
     "output_type": "stream",
     "text": [
      "Digits: 5\n"
     ]
    }
   ],
   "source": [
    "num = 12345\n",
    "count = 0\n",
    "while num > 0:\n",
    "    count += 1\n",
    "    num //= 10\n",
    "print(\"Digits:\", count)\n"
   ]
  },
  {
   "cell_type": "code",
   "execution_count": 5,
   "id": "63d83afc-aa74-4abe-98c9-0a0ee88b2a7d",
   "metadata": {},
   "outputs": [
    {
     "name": "stdout",
     "output_type": "stream",
     "text": [
      "4321\n"
     ]
    }
   ],
   "source": [
    "def reverse_string(n):\n",
    "    total=\"\"\n",
    "    for i in str(n):\n",
    "        total=i+total\n",
    "    return total\n",
    "print(reverse_string(1234))"
   ]
  },
  {
   "cell_type": "code",
   "execution_count": 12,
   "id": "527c3a3d-1a6a-464b-b120-b7cb757181b6",
   "metadata": {},
   "outputs": [
    {
     "name": "stdout",
     "output_type": "stream",
     "text": [
      "41\n"
     ]
    }
   ],
   "source": [
    "def a(num):\n",
    "    total=0\n",
    "    for i in str(num):\n",
    "        total=total+int(i)\n",
    "    return total\n",
    "print(a(123456677))"
   ]
  },
  {
   "cell_type": "code",
   "execution_count": 24,
   "id": "68b3bdab-8c36-4140-ac3b-921632ffcfe7",
   "metadata": {},
   "outputs": [
    {
     "name": "stdout",
     "output_type": "stream",
     "text": [
      "Not prime\n"
     ]
    }
   ],
   "source": [
    "#✅ 11. Check if a number is prime\n",
    "n=300\n",
    "is_prime=True\n",
    "if num<2:\n",
    "    is_prime=False\n",
    "else:\n",
    "    for i in range (2,int(num**0.5)+ 1):\n",
    "        if num%i==0:\n",
    "            is_prime=False\n",
    "            break\n",
    "print(\"Prime\" if is_prime else \"Not prime\")\n"
   ]
  },
  {
   "cell_type": "code",
   "execution_count": 7,
   "id": "01656494-73a7-4988-b180-695a065ee12d",
   "metadata": {},
   "outputs": [
    {
     "name": "stdout",
     "output_type": "stream",
     "text": [
      "2,3,5,7,11,13,17,19,23,29,31,37,41,43,47,53,59,61,67,71,73,79,83,89,97,"
     ]
    }
   ],
   "source": [
    "for num in range(2,101):\n",
    "    is_prime=True\n",
    "    for i in range(2,int(num**0.5)+1):\n",
    "        if num%i==0:\n",
    "            is_prime=False\n",
    "            break\n",
    "    if is_prime:\n",
    "        print(num,end=',')"
   ]
  },
  {
   "cell_type": "code",
   "execution_count": 6,
   "id": "4c557b18-4bb0-429a-83fa-531c46350c6c",
   "metadata": {},
   "outputs": [
    {
     "name": "stdout",
     "output_type": "stream",
     "text": [
      "11 13 17 19 23 29 31 37 41 43 47 "
     ]
    }
   ],
   "source": [
    "#✅ 12. Print all prime numbers in a range\n",
    "for num in range (10,51):\n",
    "    is_prime=True\n",
    "    for i in range(2,int(num**0.5)+1):\n",
    "        if num%i==0:\n",
    "            is_prime=False\n",
    "            break\n",
    "    if is_prime:\n",
    "        print(num,end=' ')"
   ]
  },
  {
   "cell_type": "code",
   "execution_count": 8,
   "id": "2fe2dd64-1c7f-4fa6-9498-d51acd1207ae",
   "metadata": {},
   "outputs": [
    {
     "name": "stdout",
     "output_type": "stream",
     "text": [
      "Armstrong\n"
     ]
    }
   ],
   "source": [
    "#armstrong method using for loop method\n",
    "num=153\n",
    "order=len(str(num))\n",
    "total=0\n",
    "for digit in str(num):\n",
    "    total=total+int(digit)**order\n",
    "if total==num:\n",
    "    print(\"Armstrong\")\n",
    "else:\n",
    "    print(\"Not Armstrong\")"
   ]
  },
  {
   "cell_type": "code",
   "execution_count": 9,
   "id": "1ab79f7c-903a-4284-9947-31c704a636fc",
   "metadata": {},
   "outputs": [
    {
     "name": "stdin",
     "output_type": "stream",
     "text": [
      "Enter any Number 153\n"
     ]
    },
    {
     "name": "stdout",
     "output_type": "stream",
     "text": [
      "153\n",
      "0\n",
      "153\n",
      "Armstrong\n"
     ]
    }
   ],
   "source": [
    "#armstong method using while loop condition\n",
    "num=int(input(\"Enter any Number\"))\n",
    "sum=0\n",
    "cnum=num\n",
    "while (num>0):\n",
    "    rem=num%10\n",
    "    sum=sum+rem**3\n",
    "    num=num//10\n",
    "print(sum)\n",
    "print(num)\n",
    "print(cnum)\n",
    "if cnum==sum:\n",
    "    print(\"Armstrong\")\n",
    "else:\n",
    "    print(\"Not Armstrong\")"
   ]
  },
  {
   "cell_type": "code",
   "execution_count": 11,
   "id": "7aabcaa2-07d8-42cb-8086-cf322c9d4ec6",
   "metadata": {},
   "outputs": [
    {
     "name": "stdout",
     "output_type": "stream",
     "text": [
      "36\n"
     ]
    }
   ],
   "source": [
    "# we find out the lcm from the given digit by while loop and for loop\n",
    "#first while loop\n",
    "a,b=12,18\n",
    "lcm=max(a,b)\n",
    "while True:\n",
    "    if lcm%a==0 and lcm%b==0:\n",
    "        print(lcm)\n",
    "        break\n",
    "    lcm+=1"
   ]
  },
  {
   "cell_type": "code",
   "execution_count": 15,
   "id": "7bc7f424-b19f-4ed4-84de-a19c7abf9ebb",
   "metadata": {},
   "outputs": [
    {
     "name": "stdout",
     "output_type": "stream",
     "text": [
      "36\n"
     ]
    }
   ],
   "source": [
    "#for method\n",
    "a,b=12,18\n",
    "for lcm in range(max(a,b),(a*b)+1):\n",
    "    if lcm%a==0 and lcm%b==0:\n",
    "        print(lcm)\n",
    "        break"
   ]
  },
  {
   "cell_type": "code",
   "execution_count": 18,
   "id": "12bd4991-d4ee-443f-97ba-d9f5515fccfd",
   "metadata": {},
   "outputs": [
    {
     "name": "stdout",
     "output_type": "stream",
     "text": [
      "2\n",
      "4\n",
      "6\n",
      "8\n",
      "10\n"
     ]
    }
   ],
   "source": [
    "for i in range (1,11):\n",
    "    if i%2==0:\n",
    "        print(i)\n",
    "    "
   ]
  },
  {
   "cell_type": "code",
   "execution_count": 20,
   "id": "b11ab780-e6b9-42f9-9cd9-508b0789cb1c",
   "metadata": {},
   "outputs": [
    {
     "name": "stdin",
     "output_type": "stream",
     "text": [
      "enter any number 2\n"
     ]
    },
    {
     "name": "stdout",
     "output_type": "stream",
     "text": [
      "Even\n"
     ]
    }
   ],
   "source": [
    "num=int(input(\"enter any number\"))\n",
    "if i%2==0:\n",
    "    print(\"Even\")\n",
    "else:\n",
    "    print(\"odd\")"
   ]
  },
  {
   "cell_type": "code",
   "execution_count": 21,
   "id": "0b8a17ba-8eb8-45e0-bc26-796f979e948b",
   "metadata": {},
   "outputs": [
    {
     "name": "stdout",
     "output_type": "stream",
     "text": [
      "1 is Odd\n",
      "2 is Even\n",
      "3 is Odd\n",
      "4 is Even\n",
      "5 is Odd\n",
      "6 is Even\n",
      "7 is Odd\n",
      "8 is Even\n",
      "9 is Odd\n",
      "10 is Even\n"
     ]
    }
   ],
   "source": [
    "for i in range(1, 11):\n",
    "    if i % 2 == 0:\n",
    "        print(f\"{i} is Even\")\n",
    "    else:\n",
    "        print(f\"{i} is Odd\")\n"
   ]
  },
  {
   "cell_type": "code",
   "execution_count": 30,
   "id": "95c6fb9c-ff85-470c-8fa1-ee0cef3c680c",
   "metadata": {},
   "outputs": [
    {
     "name": "stdout",
     "output_type": "stream",
     "text": [
      "10\n"
     ]
    }
   ],
   "source": [
    "def sum_digit(s):\n",
    "    total=0\n",
    "    for i in str(s):\n",
    "        total=total+int(i)\n",
    "    return total\n",
    "print(sum_digit(1234))\n"
   ]
  },
  {
   "cell_type": "code",
   "execution_count": 35,
   "id": "a5ea3bfb-8309-4433-9f0a-7e2738dd0676",
   "metadata": {},
   "outputs": [
    {
     "name": "stdout",
     "output_type": "stream",
     "text": [
      "False\n",
      "True\n"
     ]
    }
   ],
   "source": [
    "def is_palindrome(num):\n",
    "    return str(num)==str(num)[::-1]\n",
    "print(is_palindrome(122))\n",
    "print(is_palindrome(121))"
   ]
  },
  {
   "cell_type": "code",
   "execution_count": 37,
   "id": "05298c43-0d5c-4242-b2f4-eea2e389de52",
   "metadata": {},
   "outputs": [
    {
     "name": "stdin",
     "output_type": "stream",
     "text": [
      "Enter any Number 153\n"
     ]
    },
    {
     "name": "stdout",
     "output_type": "stream",
     "text": [
      "1\n",
      "153\n",
      "153\n",
      "Armstrong\n"
     ]
    }
   ],
   "source": [
    "num=int(input(\"Enter any Number\"))\n",
    "sum=0\n",
    "cnum=num\n",
    "while (num>0):\n",
    "    rem=num%10\n",
    "    sum=sum+rem**3\n",
    "    num=num//10\n",
    "print(rem)\n",
    "print(sum)\n",
    "print(cnum)\n",
    "if cnum==sum:\n",
    "    print(\"Armstrong\")\n",
    "else:\n",
    "    print(\"Not Armstrong\")\n"
   ]
  },
  {
   "cell_type": "code",
   "execution_count": 47,
   "id": "32b68d25-6d86-415e-bada-f7f5e7d6e954",
   "metadata": {},
   "outputs": [
    {
     "name": "stdout",
     "output_type": "stream",
     "text": [
      "armstrong\n"
     ]
    }
   ],
   "source": [
    "num=153\n",
    "order=len(str(num))\n",
    "total=0\n",
    "for i in str(num):\n",
    "    total=total+int(i)**order\n",
    "if total==num:\n",
    "    print(\"armstrong\")\n",
    "else:\n",
    "    print(\"not armstrong\")"
   ]
  },
  {
   "cell_type": "code",
   "execution_count": 48,
   "id": "ca9153bb-2cea-405e-8121-639fa2e42afe",
   "metadata": {},
   "outputs": [
    {
     "name": "stdout",
     "output_type": "stream",
     "text": [
      "True\n"
     ]
    }
   ],
   "source": [
    "def is_armstrong(num):\n",
    "    order=len(str(num))\n",
    "    total=0\n",
    "    for i in str(num):\n",
    "        total=total+int(i)**order\n",
    "    return total==num\n",
    "\n",
    "print(is_armstrong(153))"
   ]
  },
  {
   "cell_type": "code",
   "execution_count": 57,
   "id": "ad75ce3a-6077-4c03-b2e8-ae279f882cf2",
   "metadata": {},
   "outputs": [
    {
     "name": "stdout",
     "output_type": "stream",
     "text": [
      "1 \n",
      "2 3 \n",
      "4 5 6 \n",
      "7 8 9 10 \n",
      "11 12 13 14 15 \n"
     ]
    }
   ],
   "source": [
    "def pyramid(n):\n",
    "    num=1\n",
    "    for i in range(1,n+1):\n",
    "        for j in range(i):\n",
    "            print(num,end=' ')\n",
    "            num+=1\n",
    "        print()\n",
    "pyramid(5)\n",
    "    \n",
    "            "
   ]
  },
  {
   "cell_type": "code",
   "execution_count": 57,
   "id": "97203b48",
   "metadata": {},
   "outputs": [
    {
     "name": "stdout",
     "output_type": "stream",
     "text": [
      "1 \n",
      "2 3 \n",
      "4 5 6 \n",
      "7 8 9 10 \n",
      "11 12 13 14 15 \n"
     ]
    }
   ],
   "source": [
    "def pyramid(n):\n",
    "    num=1\n",
    "    for i in range(1,n+1):\n",
    "        for j in range(i):\n",
    "            print(num,end=' ')\n",
    "            num+=1\n",
    "        print()\n",
    "pyramid(5)\n",
    "    \n",
    "            "
   ]
  },
  {
   "cell_type": "code",
   "execution_count": 59,
   "id": "0982e347-a7f6-4a7d-91a4-4950024987dc",
   "metadata": {},
   "outputs": [
    {
     "name": "stdout",
     "output_type": "stream",
     "text": [
      "1\n",
      "2\n",
      "Fizz\n",
      "4\n",
      "Buzz\n",
      "Fizz\n",
      "7\n",
      "8\n",
      "Fizz\n",
      "Buzz\n",
      "11\n",
      "Fizz\n",
      "13\n",
      "14\n",
      "FizzBuzz\n",
      "16\n",
      "17\n",
      "Fizz\n",
      "19\n"
     ]
    }
   ],
   "source": [
    "for i in range(1,20):\n",
    "    if i%3==0 and i%5==0:\n",
    "        print(\"FizzBuzz\")\n",
    "    elif i%3==0:\n",
    "        print(\"Fizz\")\n",
    "    elif i%5==0:\n",
    "        print(\"Buzz\")\n",
    "    else:\n",
    "        print(i)"
   ]
  },
  {
   "cell_type": "code",
   "execution_count": 61,
   "id": "f8cc24f0-ed99-4c13-a7a9-895e000f9259",
   "metadata": {},
   "outputs": [
    {
     "data": {
      "text/plain": [
       "6"
      ]
     },
     "execution_count": 61,
     "metadata": {},
     "output_type": "execute_result"
    }
   ],
   "source": [
    "num=123456\n",
    "count=len(str(num))\n",
    "count"
   ]
  },
  {
   "cell_type": "code",
   "execution_count": 73,
   "id": "6684c698-5913-413c-95c8-643234ade89e",
   "metadata": {},
   "outputs": [
    {
     "name": "stdout",
     "output_type": "stream",
     "text": [
      "1 \n",
      "1 2 \n",
      "1 2 3 \n",
      "1 2 3 4 \n",
      "1 2 3 4 5 \n"
     ]
    }
   ],
   "source": [
    "n=5\n",
    "for i in range(1,n+1):\n",
    "    for j in range(1,i+1):\n",
    "        print(j,end=' ')\n",
    "    print()"
   ]
  },
  {
   "cell_type": "code",
   "execution_count": 77,
   "id": "e50e4746-6199-4c36-afa3-d35908e38632",
   "metadata": {},
   "outputs": [
    {
     "name": "stdout",
     "output_type": "stream",
     "text": [
      "6765\n"
     ]
    }
   ],
   "source": [
    "#Fibonacci concept\n",
    "def fibonacci_iterative(n):\n",
    "    a,b=0,1\n",
    "    for i in range(n):\n",
    "        a,b=b,a+b\n",
    "    return a\n",
    "print(fibonacci_iterative(20))"
   ]
  },
  {
   "cell_type": "code",
   "execution_count": 80,
   "id": "ebe4e0cd-1ff3-4df1-ae54-86d0d4e8e60b",
   "metadata": {},
   "outputs": [
    {
     "name": "stdout",
     "output_type": "stream",
     "text": [
      "Fibonacci Series:\n",
      "0 1 1 2 3 5 8 13 21 34 55 89 144 233 377 610 987 1597 2584 4181 "
     ]
    }
   ],
   "source": [
    "def fibonacci_series(n):\n",
    "    a, b = 0, 1\n",
    "    print(\"Fibonacci Series:\")\n",
    "    for i in range(n):\n",
    "        print(a, end=' ')\n",
    "        a, b = b, a + b\n",
    "\n",
    "# Test\n",
    "fibonacci_series(20)\n"
   ]
  },
  {
   "cell_type": "code",
   "execution_count": 84,
   "id": "7a4f244e-59a5-473b-8050-914ac6f06203",
   "metadata": {},
   "outputs": [
    {
     "name": "stdout",
     "output_type": "stream",
     "text": [
      "Fibonacci Series:\n",
      "88\n"
     ]
    }
   ],
   "source": [
    "def fibonacci_series(n):\n",
    "    total=0\n",
    "    a, b = 0, 1\n",
    "    print(\"Fibonacci Series:\")\n",
    "    for i in range(n):\n",
    "        total+=a\n",
    "        a, b = b, a + b\n",
    "    return total\n",
    "print(fibonacci_series(10))"
   ]
  },
  {
   "cell_type": "code",
   "execution_count": null,
   "id": "f2e8b180-1e4b-4811-aef5-a64cbd566e0e",
   "metadata": {},
   "outputs": [],
   "source": []
  }
 ],
 "metadata": {
  "kernelspec": {
   "display_name": "Python [conda env:base] *",
   "language": "python",
   "name": "conda-base-py"
  },
  "language_info": {
   "codemirror_mode": {
    "name": "ipython",
    "version": 3
   },
   "file_extension": ".py",
   "mimetype": "text/x-python",
   "name": "python",
   "nbconvert_exporter": "python",
   "pygments_lexer": "ipython3",
   "version": "3.13.5"
  },
  "widgets": {
   "application/vnd.jupyter.widget-state+json": {
    "state": {},
    "version_major": 2,
    "version_minor": 0
   }
  }
 },
 "nbformat": 4,
 "nbformat_minor": 5
}
