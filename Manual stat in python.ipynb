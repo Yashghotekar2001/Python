{
 "cells": [
  {
   "cell_type": "code",
   "execution_count": 1,
   "id": "3d5838b1-4a36-48d2-870e-5d12a6d7630e",
   "metadata": {},
   "outputs": [],
   "source": [
    "# I want to implement statistics in python in that code we start from beginning lets start from basic python in stat "
   ]
  },
  {
   "cell_type": "code",
   "execution_count": 2,
   "id": "dabc61ef-bcf1-44cd-86b2-a3c8ed9b5710",
   "metadata": {},
   "outputs": [],
   "source": [
    "# We have Created sample data\n",
    "data = [10,15,20,20,25,30,35]\n"
   ]
  },
  {
   "cell_type": "code",
   "execution_count": 4,
   "id": "f432d2aa-030e-41c8-9120-1ff68728ca16",
   "metadata": {},
   "outputs": [],
   "source": [
    "# Mean (Average) In manual way\n",
    "mean = sum(data)/len(data)"
   ]
  },
  {
   "cell_type": "code",
   "execution_count": 6,
   "id": "961d2450-56b7-42cd-9d37-40d96a107e08",
   "metadata": {},
   "outputs": [],
   "source": [
    "# median\n",
    "sorted_data = sorted(data)\n",
    "n=len(sorted_data)\n",
    "if n%2==0:\n",
    "    median=(sorted_data[n/2-1]+sorted_data[n//2])/2\n",
    "else:\n",
    "    median = sorted_data[n//2]"
   ]
  },
  {
   "cell_type": "code",
   "execution_count": 8,
   "id": "a1db302e-7749-42bc-9334-064d3b12d309",
   "metadata": {},
   "outputs": [],
   "source": [
    "#mode\n",
    "mode = max(set(data),key=data.count)\n"
   ]
  },
  {
   "cell_type": "code",
   "execution_count": 9,
   "id": "dec33268-5c50-4c0f-bb3a-271926fb7c0c",
   "metadata": {},
   "outputs": [],
   "source": [
    "#variance\n",
    "variance = sum((x-mean)**2 for x in data)/len(data)"
   ]
  },
  {
   "cell_type": "code",
   "execution_count": 10,
   "id": "c69c8067-7f55-4587-9537-c96f6d8e7af0",
   "metadata": {},
   "outputs": [],
   "source": [
    "#standard deviation\n",
    "std_dev=variance**0.5"
   ]
  },
  {
   "cell_type": "code",
   "execution_count": 11,
   "id": "260473b0-39c4-493e-bbd5-a445f65a2046",
   "metadata": {},
   "outputs": [
    {
     "name": "stdout",
     "output_type": "stream",
     "text": [
      "22.142857142857142\n",
      "20\n",
      "20\n",
      "63.26530612244898\n",
      "7.953949089757175\n"
     ]
    }
   ],
   "source": [
    "print(mean)\n",
    "print(median)\n",
    "print(mode)\n",
    "print(variance)\n",
    "print(std_dev)"
   ]
  },
  {
   "cell_type": "code",
   "execution_count": 12,
   "id": "b3fddc47-d867-49a6-b787-a8b9fbf049ff",
   "metadata": {},
   "outputs": [],
   "source": [
    "import numpy as np\n",
    "import pandas as pd\n"
   ]
  },
  {
   "cell_type": "code",
   "execution_count": 13,
   "id": "1f2a5867-bb47-4e92-8796-54ce27465226",
   "metadata": {},
   "outputs": [
    {
     "name": "stdout",
     "output_type": "stream",
     "text": [
      "22.142857142857142\n"
     ]
    }
   ],
   "source": [
    "data = [10,15,20,20,25,30,35]\n",
    "print(np.mean(data))"
   ]
  },
  {
   "cell_type": "code",
   "execution_count": 14,
   "id": "57fe1902-6aeb-4da3-b807-031797680820",
   "metadata": {},
   "outputs": [
    {
     "name": "stdout",
     "output_type": "stream",
     "text": [
      "20.0\n"
     ]
    }
   ],
   "source": [
    "print(np.median(data))\n"
   ]
  },
  {
   "cell_type": "code",
   "execution_count": 16,
   "id": "ecd4944e-9a3c-4b64-96b1-0c91cd557f7d",
   "metadata": {},
   "outputs": [
    {
     "name": "stdout",
     "output_type": "stream",
     "text": [
      "20\n"
     ]
    }
   ],
   "source": [
    "print(pd.Series(data).mode().iloc[0])"
   ]
  },
  {
   "cell_type": "raw",
   "id": "9e333fe8-3c77-418b-b3ce-c134c98b8b6f",
   "metadata": {},
   "source": [
    "print(np.var(data))"
   ]
  },
  {
   "cell_type": "code",
   "execution_count": 17,
   "id": "31c22ea8-480a-48f0-b4f9-2205cc36498c",
   "metadata": {},
   "outputs": [
    {
     "name": "stdout",
     "output_type": "stream",
     "text": [
      "63.26530612244898\n"
     ]
    }
   ],
   "source": [
    "print(np.var(data))"
   ]
  },
  {
   "cell_type": "code",
   "execution_count": 18,
   "id": "87b4c697-fb8a-401d-b2e6-7e1ee219fcdd",
   "metadata": {},
   "outputs": [
    {
     "name": "stdout",
     "output_type": "stream",
     "text": [
      "7.953949089757175\n"
     ]
    }
   ],
   "source": [
    "print(np.std(data))"
   ]
  },
  {
   "cell_type": "code",
   "execution_count": null,
   "id": "1e470296-6429-4dee-99b4-e418dcb3fb6e",
   "metadata": {},
   "outputs": [],
   "source": []
  }
 ],
 "metadata": {
  "kernelspec": {
   "display_name": "Python [conda env:base] *",
   "language": "python",
   "name": "conda-base-py"
  },
  "language_info": {
   "codemirror_mode": {
    "name": "ipython",
    "version": 3
   },
   "file_extension": ".py",
   "mimetype": "text/x-python",
   "name": "python",
   "nbconvert_exporter": "python",
   "pygments_lexer": "ipython3",
   "version": "3.13.5"
  },
  "widgets": {
   "application/vnd.jupyter.widget-state+json": {
    "state": {},
    "version_major": 2,
    "version_minor": 0
   }
  }
 },
 "nbformat": 4,
 "nbformat_minor": 5
}
