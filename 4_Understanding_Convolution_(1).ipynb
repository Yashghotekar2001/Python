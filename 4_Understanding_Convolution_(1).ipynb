{
  "cells": [
    {
      "cell_type": "markdown",
      "metadata": {
        "id": "QtRW8zl4FE6d"
      },
      "source": [
        "# Why convolution?"
      ]
    },
    {
      "cell_type": "markdown",
      "metadata": {
        "id": "3_NSsRJOFMN7"
      },
      "source": [
        "SPATIAL INVARIANCE or LOSS IN FEATURES\n",
        "\n",
        "The spatial features of a 2D image are lost when it is flattened to a 1D vector input. Before feeding an image to the hidden layers of an MLP, we must flatten the image matrix to a 1D vector. This implies that all of the image's 2D information is discarded."
      ]
    },
    {
      "cell_type": "code",
      "execution_count": null,
      "metadata": {
        "id": "b8yceI2SFLa3"
      },
      "outputs": [],
      "source": [
        "from google.colab.patches import cv2_imshow\n",
        "import os, json, cv2, random\n",
        "\n",
        "!wget http://images.cocodataset.org/val2017/000000439715.jpg -q -O input.jpg\n",
        "im = cv2.imread(\"./input.jpg\")\n",
        "cv2_imshow(im)"
      ]
    },
    {
      "cell_type": "code",
      "execution_count": null,
      "metadata": {
        "id": "m6A0cIPvFLdk"
      },
      "outputs": [],
      "source": [
        "im"
      ]
    },
    {
      "cell_type": "markdown",
      "metadata": {
        "id": "yTNZ5o59MK-0"
      },
      "source": [
        "#### Sample Image\n",
        "\n",
        "![title](https://aishack.in/static/img/tut/conv-gaussian-blur.jpg)"
      ]
    },
    {
      "cell_type": "markdown",
      "metadata": {
        "id": "mW3v8Q-aMQWQ"
      },
      "source": [
        "## Increase in  Parameter Issue\n",
        "\n",
        "While increase in  Parameter Issue is not a big problem for the\n",
        "MNIST dataset because the images are really small in size (28 × 28), what happens when we try to process larger images?\n",
        "\n",
        "For example, if we have an image with dimensions 1,000 × 1,000, it will yield 1 million parameters for each node in the first hidden layer.\n",
        "\n",
        "- So if the first hidden layer has 1,000 neurons, this will yield 1 billion parameters even in such a small network. You can imagine the computational complexity of optimizing 1 billion parameters after only the first layer.\n",
        "\n",
        "\n",
        "### Fully Connected Neural Net\n",
        "\n",
        "![title](https://www.researchgate.net/profile/Arvind-Sreenivas/publication/343263135/figure/fig3/AS:918277995905024@1595945943003/Fully-connected-layer.jpg)\n",
        "\n",
        "\n",
        "### Local Connected Neural Net\n",
        "\n",
        "![title](https://www.cs.toronto.edu/~lczhang/360/lec/w04/imgs/local.png)\n",
        "\n",
        "[Source](https://www.cs.toronto.edu)\n",
        "\n",
        "\n",
        "### Guide for design of a neural network architecture suitable for computer vision\n",
        "\n",
        "- In the earliest layers, our network should respond similarly to the same patch, regardless of where it appears in the image. This principle is called translation invariance.\n",
        "- The earliest layers of the network should focus on local regions, without regard for the contents of the image in distant regions. This is the locality principle. Eventually, these local representations can be aggregated to make predictions at the whole image level."
      ]
    },
    {
      "cell_type": "markdown",
      "metadata": {
        "id": "54MAtx30UmG1"
      },
      "source": [
        "### Human Brain Visual Cortex processing"
      ]
    },
    {
      "cell_type": "markdown",
      "metadata": {
        "id": "GJz3CL5_UpiE"
      },
      "source": [
        "![](https://www.researchgate.net/profile/Bruno-Cessac/publication/233971662/figure/fig1/AS:393541936271366@1470839117205/Processing-steps-of-the-visual-stream-a-The-cellular-organization-of-the-retina-from.png)"
      ]
    },
    {
      "cell_type": "code",
      "execution_count": null,
      "metadata": {
        "id": "fJQm3N63-izT"
      },
      "outputs": [],
      "source": [
        "https://distill.pub/2017/feature-visualization/"
      ]
    },
    {
      "cell_type": "markdown",
      "metadata": {
        "id": "-5Co8rmVPGgN"
      },
      "source": [
        "# What are Convolutional Neural Networks?\n",
        "\n",
        "\n",
        "Convolutional Neural Networks (ConvNets or CNNs) are a category of Neural Networks that have proven very effective in areas such as image recognition and classification. ConvNets have been successful in identifying faces, objects and traffic signs apart from powering vision in robots and self driving cars.\n",
        "\n",
        "\n",
        "A Convolutional Neural Network (CNN) is comprised of one or more convolutional layers (often with a subsampling step) and then followed by one or more fully connected layers as in a standard multilayer neural network. The architecture of a CNN is designed to take advantage of the 2D structure of an input image (or other 2D input such as a speech signal). This is achieved with local connections and tied weights followed by some form of pooling which results in translation invariant features. Another benefit of CNNs is that they are easier to train and have many fewer parameters than fully connected networks with the same number of hidden units. In this article we will discuss the architecture of a CNN and the back propagation algorithm to compute the gradient with respect to the parameters of the model in order to use gradient based optimization."
      ]
    },
    {
      "cell_type": "markdown",
      "metadata": {
        "id": "vT4qMk6cQRbK"
      },
      "source": [
        "## Visualizing the Process\n",
        "\n",
        "\n",
        "## Simple Convolution\n",
        "\n",
        "![](https://miro.medium.com/max/1400/1*Fw-ehcNBR9byHtho-Rxbtw.gif)\n",
        "\n",
        "## Matrix Calculation\n",
        "\n",
        "![](https://miro.medium.com/max/535/1*Zx-ZMLKab7VOCQTxdZ1OAw.gif)\n",
        "\n",
        "## Padding Concept\n",
        "![](https://miro.medium.com/max/395/1*1okwhewf5KCtIPaFib4XaA.gif)\n",
        "\n",
        "## Stride Concept\n",
        "![](https://miro.medium.com/max/294/1*BMngs93_rm2_BpJFH2mS0Q.gif)\n",
        "\n",
        "## Feature Accumulation\n",
        "![](https://miro.medium.com/max/2000/1*8dx6nxpUh2JqvYWPadTwMQ.gif)\n",
        "\n",
        "## Feature Aggregation\n",
        "![](https://miro.medium.com/max/2000/1*CYB2dyR3EhFs1xNLK8ewiA.gif)\n",
        "\n",
        "## Convolution Operation\n",
        "\n",
        "![](https://cdn-media-1.freecodecamp.org/images/gb08-2i83P5wPzs3SL-vosNb6Iur5kb5ZH43)\n",
        "\n",
        "\n",
        "[Source](https://https://towardsdatascience.com/intuitively-understanding-convolutions-for-deep-learning-1f6f42faee1)\n",
        "\n",
        "[Source](https://cs231n.github.io/convolutional-networks/)\n",
        "\n",
        "\n",
        "# The CNN Complete Network Overview\n",
        "\n",
        "![CNN Image](https://res.cloudinary.com/practicaldev/image/fetch/s--w1RZuJPn--/c_imagga_scale,f_auto,fl_progressive,h_420,q_auto,w_1000/https://dev-to-uploads.s3.amazonaws.com/i/1inc9c00m35q12lidqde.png)\n"
      ]
    },
    {
      "cell_type": "code",
      "execution_count": null,
      "metadata": {
        "id": "xMVl1iuDKsJx"
      },
      "outputs": [],
      "source": [
        "import matplotlib.pyplot as plt\n",
        "import matplotlib.image as mpimg\n",
        "\n",
        "%matplotlib inline"
      ]
    },
    {
      "cell_type": "code",
      "execution_count": null,
      "metadata": {
        "id": "Sewq0IjWjE8n"
      },
      "outputs": [],
      "source": [
        "# Read in the image\n",
        "image = mpimg.imread('input.jpg')\n",
        "\n",
        "plt.imshow(image)"
      ]
    },
    {
      "cell_type": "code",
      "execution_count": null,
      "metadata": {
        "id": "6w0F0sOduS7Y"
      },
      "outputs": [],
      "source": [
        "image.shape"
      ]
    },
    {
      "cell_type": "code",
      "execution_count": null,
      "metadata": {
        "id": "RKdB4ug0ugWU"
      },
      "outputs": [],
      "source": [
        "image[:]"
      ]
    },
    {
      "cell_type": "code",
      "execution_count": null,
      "metadata": {
        "colab": {
          "background_save": true
        },
        "id": "oduXxTMIjhSz"
      },
      "outputs": [],
      "source": [
        "# Isolate RGB channels\n",
        "r = image[:,:,0]\n",
        "g = image[:,:,1]\n",
        "b = image[:,:,2]\n",
        "\n",
        "# Visualize the individual color channels\n",
        "f, (ax1, ax2, ax3) = plt.subplots(1, 3, figsize=(20,10))\n",
        "ax1.set_title('R channel')\n",
        "ax1.imshow(r, cmap='Reds')\n",
        "ax2.set_title('G channel')\n",
        "ax2.imshow(g, cmap='Greens')\n",
        "ax3.set_title('B channel')\n",
        "ax3.imshow(b, cmap='Blues')"
      ]
    },
    {
      "cell_type": "code",
      "execution_count": null,
      "metadata": {
        "id": "EjswaTqAnGdH"
      },
      "outputs": [],
      "source": [
        "# Isolate RGB channels\n",
        "r = image[:,:,0]\n",
        "g = image[:,:,1]\n",
        "b = image[:,:,2]\n",
        "\n",
        "# Visualize the individual color channels\n",
        "f, (ax1, ax2, ax3) = plt.subplots(1, 3, figsize=(20,10))\n",
        "ax1.set_title('R channel')\n",
        "ax1.imshow(r)\n",
        "ax2.set_title('G channel')\n",
        "ax2.imshow(g)\n",
        "ax3.set_title('B channel')\n",
        "ax3.imshow(b)"
      ]
    },
    {
      "cell_type": "markdown",
      "metadata": {
        "id": "QjXdUSzZnTug"
      },
      "source": [
        "# Focusing on Filters"
      ]
    },
    {
      "cell_type": "code",
      "execution_count": null,
      "metadata": {
        "colab": {
          "background_save": true
        },
        "id": "HraELjR1nUlZ"
      },
      "outputs": [],
      "source": [
        "import matplotlib.pyplot as plt\n",
        "import matplotlib.image as mpimg\n",
        "\n",
        "import cv2\n",
        "import numpy as np\n",
        "\n",
        "%matplotlib inline\n",
        "\n",
        "# Read in the image\n",
        "image = mpimg.imread('input.png')\n",
        "\n",
        "plt.imshow(image)"
      ]
    },
    {
      "cell_type": "code",
      "execution_count": null,
      "metadata": {
        "id": "e3_7SysTngzx"
      },
      "outputs": [],
      "source": [
        "# Convert to grayscale for filtering\n",
        "gray = cv2.cvtColor(image, cv2.COLOR_RGB2GRAY)\n",
        "\n",
        "plt.imshow(gray, cmap='gray')"
      ]
    },
    {
      "cell_type": "code",
      "execution_count": null,
      "metadata": {
        "id": "Fss9R9kXnmuM"
      },
      "outputs": [],
      "source": [
        "# Convert to grayscale for filtering\n",
        "gray = cv2.cvtColor(image, cv2.COLOR_RGB2GRAY)\n",
        "\n",
        "plt.imshow(gray)"
      ]
    },
    {
      "cell_type": "code",
      "execution_count": null,
      "metadata": {
        "colab": {
          "background_save": true
        },
        "id": "wKQalNein1P-"
      },
      "outputs": [],
      "source": [
        "sobel_y = np.array([[ -1, -2, -1],\n",
        "                   [ 0, 0, 0],\n",
        "                   [ 1, 2, 1]])\n",
        "# vertical edge detection\n",
        "sobel_x = np.array([[-1, 0, 1],\n",
        "                   [-2, 0, 2],\n",
        "                   [-1, 0, 1]])\n",
        "# filter the image using filter2D(grayscale image, bit-depth, kernel)\n",
        "filtered_image1 = cv2.filter2D(gray, -1, sobel_x)\n",
        "filtered_image2 = cv2.filter2D(gray, -1, sobel_y)\n",
        "f, ax = plt.subplots(1, 2, figsize=(15, 4))\n",
        "ax[0].set_title('horizontal edge detection')\n",
        "ax[0].imshow(filtered_image1, cmap='gray')\n",
        "ax[1].set_title('vertical edge detection')\n",
        "ax[1].imshow(filtered_image2, cmap='gray')"
      ]
    },
    {
      "cell_type": "markdown",
      "metadata": {
        "id": "-AXRLiTOoOoc"
      },
      "source": [
        "# Best Place to Explore Kernels\n",
        "\n",
        "[Kernels](https://setosa.io/ev/image-kernels/)\n",
        "\n",
        "[Kernels as Edge Detector](https://aishack.in/tutorials/image-convolution-examples/)"
      ]
    },
    {
      "cell_type": "markdown",
      "metadata": {
        "id": "kEousPCUpZVL"
      },
      "source": [
        "### Features extracted by Kernels\n",
        "\n",
        "![](https://cs231n.github.io/assets/cnn/weights.jpeg)\n",
        "\n",
        "### Features > Patterns > Parts of Object\n",
        "![](http://media5.datahacker.rs/2018/10/features_3images.png)\n",
        "\n",
        "[Source](https://cs231n.github.io/convolutional-networks/)"
      ]
    },
    {
      "cell_type": "markdown",
      "metadata": {
        "id": "ipv2dCj81QJq"
      },
      "source": [
        "## Intuition"
      ]
    },
    {
      "cell_type": "markdown",
      "metadata": {
        "id": "rQGlr4OD1Vv7"
      },
      "source": [
        "Let's develop better intuition for how Convolutional Neural Networks (CNN) work. We'll examine how humans classify images, and then see how CNNs use similar approaches.\n",
        "\n",
        "Let’s say we wanted to classify the following image of a dog as a Golden Retriever:"
      ]
    },
    {
      "cell_type": "markdown",
      "metadata": {
        "id": "J-LsWdna1arI"
      },
      "source": [
        "<img src=\"https://d17h27t6h515a5.cloudfront.net/topher/2016/November/58377b77_dog-1210559-1280/dog-1210559-1280.jpg\" width=\"500\" height=\"500\">"
      ]
    },
    {
      "cell_type": "markdown",
      "metadata": {
        "id": "6DJy1MK01cSw"
      },
      "source": [
        "As humans, how do we do this?\n",
        "\n",
        "One thing we do is that we identify certain parts of the dog, such as the nose, the eyes, and the fur. We essentially break up the image into smaller pieces, recognize the smaller pieces, and then combine those pieces to get an idea of the overall dog.\n",
        "\n",
        "In this case, we might break down the image into a combination of the following:\n",
        "\n",
        "* A nose\n",
        "* Two eyes\n",
        "* Golden fur\n",
        "\n",
        "These pieces can be seen below:"
      ]
    },
    {
      "cell_type": "markdown",
      "metadata": {
        "id": "iUfN-DM61fW8"
      },
      "source": [
        "As humans, how do we do this?\n",
        "\n",
        "One thing we do is that we identify certain parts of the dog, such as the nose, the eyes, and the fur. We essentially break up the image into smaller pieces, recognize the smaller pieces, and then combine those pieces to get an idea of the overall dog.\n",
        "\n",
        "In this case, we might break down the image into a combination of the following:\n",
        "\n",
        "* A nose\n",
        "* Two eyes\n",
        "* Golden fur\n",
        "\n",
        "These pieces can be seen below:"
      ]
    },
    {
      "cell_type": "markdown",
      "metadata": {
        "id": "iU-mLyj21i7x"
      },
      "source": [
        "\n",
        "<img src=\"https://d17h27t6h515a5.cloudfront.net/topher/2016/November/58377bdb_screen-shot-2016-11-24-at-12.49.08-pm/screen-shot-2016-11-24-at-12.49.08-pm.png\" width=\"250\" height=\"250\">\n",
        "<center>The eye of the dog.</center>\n",
        "<br>\n",
        "\n",
        "<img src=\"https://d17h27t6h515a5.cloudfront.net/topher/2016/November/58377bed_screen-shot-2016-11-24-at-12.49.43-pm/screen-shot-2016-11-24-at-12.49.43-pm.png\" width=\"250\" height=\"250\">\n",
        "<center>The nose of the dog.</center>\n",
        "<br>\n",
        "\n",
        "<img src=\"https://d17h27t6h515a5.cloudfront.net/topher/2016/November/58377bff_screen-shot-2016-11-24-at-12.50.54-pm/screen-shot-2016-11-24-at-12.50.54-pm.png\" width=\"250\" height=\"250\">\n",
        "<center>The fur of the dog.</center>"
      ]
    },
    {
      "cell_type": "markdown",
      "metadata": {
        "id": "36ubS2WE3HYn"
      },
      "source": [
        "### Going One Step Further"
      ]
    },
    {
      "cell_type": "markdown",
      "metadata": {
        "id": "qZHwtCQX3Nti"
      },
      "source": [
        "But let’s take this one step further. How do we determine what exactly a nose is? A Golden Retriever nose can be seen as an oval with two black holes inside it. Thus, one way of classifying a Retriever’s nose is to to break it up into smaller pieces and look for black holes (nostrils) and curves that define an oval as shown below:"
      ]
    },
    {
      "cell_type": "markdown",
      "metadata": {
        "id": "Zr4q2gQD3UxD"
      },
      "source": [
        "<img src=\"https://d17h27t6h515a5.cloudfront.net/topher/2016/November/58377c52_screen-shot-2016-11-24-at-12.51.47-pm/screen-shot-2016-11-24-at-12.51.47-pm.png\">\n",
        "<center>A curve that we can use to determine a nose</center>\n",
        "<br>\n",
        "\n",
        "<img src=\"https://d17h27t6h515a5.cloudfront.net/topher/2016/November/58377c68_screen-shot-2016-11-24-at-12.51.51-pm/screen-shot-2016-11-24-at-12.51.51-pm.png\">\n",
        "<center>A nostril that we can use to classify the nose of the dog</center>"
      ]
    },
    {
      "cell_type": "markdown",
      "metadata": {
        "id": "HEvB_--G3YrC"
      },
      "source": [
        "Broadly speaking, this is what a CNN learns to do. It learns to recognize basic lines and curves, then shapes and blobs, and then increasingly complex objects within the image. Finally, the CNN classifies the image by combining the larger, more complex objects.\n",
        "\n",
        "In our case, the levels in the hierarchy are:\n",
        "\n",
        "* Simple shapes, like ovals and dark circles\n",
        "* Complex objects (combinations of simple shapes), like eyes, nose, and fur\n",
        "* The dog as a whole (a combination of complex objects)\n",
        "\n",
        "With deep learning, we don't actually program the CNN to recognize these specific features. Rather, the CNN learns on its own to recognize such objects through forward propagation and backpropagation!\n",
        "\n",
        "It's amazing how well a CNN can learn to classify images, even though we never program the CNN with information about specific features to look for."
      ]
    },
    {
      "cell_type": "markdown",
      "metadata": {
        "id": "-HHNNyzX3ZmE"
      },
      "source": [
        "![](https://d17h27t6h515a5.cloudfront.net/topher/2016/November/583cb19d_heirarchy-diagram/heirarchy-diagram.jpg)\n",
        "<center>An example of what each layer in a CNN might recognize when classifying a picture of a dog</center>"
      ]
    },
    {
      "cell_type": "markdown",
      "metadata": {
        "id": "oShz1q6n3dVs"
      },
      "source": [
        "A CNN might have several layers, and each layer might capture a different level in the hierarchy of objects. The first layer is the lowest level in the hierarchy, where the CNN generally classifies small parts of the image into simple shapes like horizontal and vertical lines and simple blobs of colors. The subsequent layers tend to be higher levels in the hierarchy and generally classify more complex ideas like shapes (combinations of lines), and eventually full objects like dogs.\n",
        "\n",
        "Once again, the CNN **learns all of this on its own**. We don't ever have to tell the CNN to go looking for lines or curves or noses or fur. The CNN just learns from the training set and discovers which characteristics of a Golden Retriever are worth looking for."
      ]
    },
    {
      "cell_type": "markdown",
      "metadata": {
        "id": "tL7w7sEB3gzy"
      },
      "source": [
        "A CNN might have several layers, and each layer might capture a different level in the hierarchy of objects. The first layer is the lowest level in the hierarchy, where the CNN generally classifies small parts of the image into simple shapes like horizontal and vertical lines and simple blobs of colors. The subsequent layers tend to be higher levels in the hierarchy and generally classify more complex ideas like shapes (combinations of lines), and eventually full objects like dogs.\n",
        "\n",
        "Once again, the CNN **learns all of this on its own**. We don't ever have to tell the CNN to go looking for lines or curves or noses or fur. The CNN just learns from the training set and discovers which characteristics of a Golden Retriever are worth looking for."
      ]
    },
    {
      "cell_type": "markdown",
      "metadata": {
        "id": "9Pt91dVK3jVv"
      },
      "source": [
        "## Filters"
      ]
    },
    {
      "cell_type": "markdown",
      "metadata": {
        "id": "iW5G2NY14UIt"
      },
      "source": [
        "### Breaking up an Image"
      ]
    },
    {
      "cell_type": "markdown",
      "metadata": {
        "id": "SBkqxdEE4XCJ"
      },
      "source": [
        "The first step for a CNN is to break up the image into smaller pieces. We do this by selecting a width and height that defines a filter.\n",
        "\n",
        "The filter looks at small pieces, or patches, of the image. These patches are the same size as the filter."
      ]
    },
    {
      "cell_type": "markdown",
      "metadata": {
        "id": "K9faL9tP4jQ_"
      },
      "source": [
        "<img src=\"https://d17h27t6h515a5.cloudfront.net/topher/2016/November/58377d67_vlcsnap-2016-11-24-15h52m47s438/vlcsnap-2016-11-24-15h52m47s438.png\" width=600 height=400>\n",
        "<center>A CNN uses filters to split an image into smaller patches. The size of these patches matches the filter size.</center>"
      ]
    },
    {
      "cell_type": "markdown",
      "metadata": {
        "id": "9qERVlIg4spi"
      },
      "source": [
        "We then simply slide this filter horizontally or vertically to focus on a different piece of the image.\n",
        "\n",
        "The amount by which the filter slides is referred to as the **'stride'**. The stride is a hyperparameter which the engineer can tune. Increasing the stride reduces the size of your model by reducing the number of total patches each layer observes. However, this usually comes with a reduction in accuracy.\n",
        "\n",
        "Let’s look at an example. In this zoomed in image of the dog, we first start with the patch outlined in red. The width and height of our filter define the size of this square."
      ]
    },
    {
      "cell_type": "markdown",
      "metadata": {
        "id": "6_y6u0Bv4vQQ"
      },
      "source": [
        "<img src=\"https://d17h27t6h515a5.cloudfront.net/topher/2016/November/58377d67_vlcsnap-2016-11-24-15h52m47s438/vlcsnap-2016-11-24-15h52m47s438.png\" width=600 height=400>\n",
        "<center>A CNN uses filters to split an image into smaller patches. The size of these patches matches the filter size.</center>"
      ]
    },
    {
      "cell_type": "markdown",
      "metadata": {
        "id": "ITNkqV3u4zqS"
      },
      "source": [
        "We then simply slide this filter horizontally or vertically to focus on a different piece of the image.\n",
        "\n",
        "The amount by which the filter slides is referred to as the **'stride'**. The stride is a hyperparameter which the engineer can tune. Increasing the stride reduces the size of your model by reducing the number of total patches each layer observes. However, this usually comes with a reduction in accuracy.\n",
        "\n",
        "Let’s look at an example. In this zoomed in image of the dog, we first start with the patch outlined in red. The width and height of our filter define the size of this square."
      ]
    },
    {
      "cell_type": "markdown",
      "metadata": {
        "id": "ldkazNg442Jv"
      },
      "source": [
        "<img src=\"https://d17h27t6h515a5.cloudfront.net/topher/2016/December/5840fdac_retriever-patch/retriever-patch.png\" width=500 height=500>"
      ]
    },
    {
      "cell_type": "markdown",
      "metadata": {
        "id": "CaDlxv_y4_B6"
      },
      "source": [
        "We then move the square over to the right by a given stride (2 in this case) to get another patch."
      ]
    },
    {
      "cell_type": "markdown",
      "metadata": {
        "id": "ADA_ZRzV5B1I"
      },
      "source": [
        "<img src=\"https://d17h27t6h515a5.cloudfront.net/topher/2016/December/5840fe04_retriever-patch-shifted/retriever-patch-shifted.png\" width=500 height=500>\n",
        "<center>We move our square to the right by two pixels to create another patch.</center>"
      ]
    },
    {
      "cell_type": "markdown",
      "metadata": {
        "id": "yEIdh6oX5Fcl"
      },
      "source": [
        "What's important here is that we are **grouping together adjacent pixels** and treating them as a collective.\n",
        "\n",
        "In a normal, non-convolutional neural network, we would have ignored this adjacency. In a normal network, we would have connected every pixel in the input image to a neuron in the next layer. In doing so, we would not have taken advantage of the fact that pixels in an image are close together for a reason and have special meaning.\n",
        "\n",
        "By taking advantage of this local structure, our CNN learns to classify local patterns, like shapes and objects, in an image."
      ]
    },
    {
      "cell_type": "markdown",
      "metadata": {
        "id": "kS_4t6Wc5IYk"
      },
      "source": [
        "### Filter Depth"
      ]
    },
    {
      "cell_type": "markdown",
      "metadata": {
        "id": "bDcbuq2V5LFJ"
      },
      "source": [
        "It's common to have more than one filter. Different filters pick up different qualities of a patch. For example, one filter might look for a particular color, while another might look for a kind of object of a specific shape. The amount of filters in a convolutional layer is called the **filter depth**."
      ]
    },
    {
      "cell_type": "markdown",
      "metadata": {
        "id": "n0NxExN65OEY"
      },
      "source": [
        "![](https://d17h27t6h515a5.cloudfront.net/topher/2016/November/58377e4f_neilsen-pic/neilsen-pic.png)\n",
        "<center>In the above example, a patch is connected to a neuron in the next layer. Source: MIchael Neilsen.</center>"
      ]
    },
    {
      "cell_type": "markdown",
      "metadata": {
        "id": "Sz75z3Kc5m7d"
      },
      "source": [
        "How many neurons does each patch connect to?\n",
        "\n",
        "That’s dependent on our filter depth. If we have a depth of `k`, we connect each patch of pixels to `k` neurons in the next layer. This gives us the height of `k` in the next layer, as shown below. In practice, `k` is a hyperparameter we tune, and most CNNs tend to pick the same starting values."
      ]
    },
    {
      "cell_type": "markdown",
      "metadata": {
        "id": "8nZvVPEy5sT9"
      },
      "source": [
        "<img src=\"https://d17h27t6h515a5.cloudfront.net/topher/2016/December/5840ffda_filter-depth/filter-depth.png\" width=\"300\" height=\"500\">\n",
        "<center>Choosing a filter depth of k connects each path to k neurons in the next layer</center>"
      ]
    },
    {
      "cell_type": "markdown",
      "metadata": {
        "id": "2Np9Xr4w5yd2"
      },
      "source": [
        "But why connect a single patch to multiple neurons in the next layer? Isn’t one neuron good enough?\n",
        "\n",
        "Multiple neurons can be useful because a patch can have multiple interesting characteristics that we want to capture.\n",
        "\n",
        "For example, one patch might include some white teeth, some blonde whiskers, and part of a red tongue. In that case, we might want a filter depth of at least three - one for each of teeth, whiskers, and tongue."
      ]
    },
    {
      "cell_type": "markdown",
      "metadata": {
        "id": "sRKj-6qY52MH"
      },
      "source": [
        "<img src=\"https://d17h27t6h515a5.cloudfront.net/topher/2016/December/584104c8_teeth-whiskers-tongue/teeth-whiskers-tongue.png\" width=\"350\" height=\"400\">\n",
        "<center>This patch of the dog has many interesting features we may want to capture. These include the presence of teeth, the presence of whiskers, and the pink color of the tongue.</center>"
      ]
    },
    {
      "cell_type": "markdown",
      "metadata": {
        "id": "irOCPyDQ55DA"
      },
      "source": [
        "Having multiple neurons for a given patch ensures that our CNN can learn to capture whatever characteristics the CNN learns are important.\n",
        "\n",
        "Remember that the CNN isn't \"programmed\" to look for certain characteristics. Rather, it **learns on its own** which characteristics to notice."
      ]
    },
    {
      "cell_type": "markdown",
      "metadata": {
        "id": "o23De3wA58p5"
      },
      "source": [
        "## Parameters"
      ]
    },
    {
      "cell_type": "markdown",
      "metadata": {
        "id": "MmorKXWH6BsD"
      },
      "source": [
        "### Parameter Sharing"
      ]
    },
    {
      "cell_type": "markdown",
      "metadata": {
        "id": "bTeqmQPA6Nld"
      },
      "source": [
        "<img src=\"https://d17h27t6h515a5.cloudfront.net/topher/2016/November/58377f77_vlcsnap-2016-11-24-16h01m35s262/vlcsnap-2016-11-24-16h01m35s262.png\" width=600 height=400>\n",
        "<center>The weights, w, are shared across patches for a given layer in a CNN to detect the cat above regardless of where in the image it is located.</center>"
      ]
    },
    {
      "cell_type": "markdown",
      "metadata": {
        "id": "tLE47yOL6QYn"
      },
      "source": [
        "When we are trying to classify a picture of a cat, we don’t care where in the image a cat is. If it’s in the top left or the bottom right, it’s still a cat in our eyes. We would like our CNNs to also possess this ability known as translation invariance. How can we achieve this?\n",
        "\n",
        "As we saw earlier, the classification of a given patch in an image is determined by the weights and biases corresponding to that patch.\n",
        "\n",
        "If we want a cat that’s in the top left patch to be classified in the same way as a cat in the bottom right patch, we need the weights and biases corresponding to those patches to be the same, so that they are classified the same way.\n",
        "\n",
        "This is exactly what we do in CNNs. The weights and biases we learn for a given output layer are shared across all patches in a given input layer. Note that as we increase the depth of our filter, the number of weights and biases we have to learn still increases, as the weights aren't shared across the output channels.\n",
        "\n",
        "There’s an additional benefit to sharing our parameters. If we did not reuse the same weights across all patches, we would have to learn new parameters for every single patch and hidden layer neuron pair. This does not scale well, especially for higher fidelity images. Thus, sharing parameters not only helps us with translation invariance, but also gives us a smaller, more scalable model."
      ]
    },
    {
      "cell_type": "markdown",
      "metadata": {
        "id": "9hKjIeuO6TUf"
      },
      "source": [
        "### Padding"
      ]
    },
    {
      "cell_type": "markdown",
      "metadata": {
        "id": "YeKOiYlC6V2G"
      },
      "source": [
        "![](https://d17h27t6h515a5.cloudfront.net/topher/2016/November/5837d4d5_screen-shot-2016-11-24-at-10.05.37-pm/screen-shot-2016-11-24-at-10.05.37-pm.png)\n",
        "<center>A 5x5 grid with a 3x3 filter. Source: Andrej Karpathy.</center>"
      ]
    },
    {
      "cell_type": "markdown",
      "metadata": {
        "id": "IUyVtCq76ZRY"
      },
      "source": [
        "Let's say we have a `5x5` grid (as shown above) and a filter of size `3x3` with a stride of `1`. What's the width and height of the next layer? We see that we can fit at most three patches in each direction, giving us a dimension of `3x3` in our next layer. As we can see, the width and height of each subsequent layer decreases in such a scheme.\n",
        "\n",
        "In an ideal world, we'd be able to maintain the same width and height across layers so that we can continue to add layers without worrying about the dimensionality shrinking and so that we have consistency. How might we achieve this? One way is to simple add a border of `0`s to our original `5x5` image. You can see what this looks like in the below image:"
      ]
    },
    {
      "cell_type": "markdown",
      "metadata": {
        "id": "45NlYA5T6cPl"
      },
      "source": [
        "![](https://d17h27t6h515a5.cloudfront.net/topher/2016/November/5837d4ee_screen-shot-2016-11-24-at-10.05.46-pm/screen-shot-2016-11-24-at-10.05.46-pm.png)\n",
        "<center>The same grid with 0 padding. Source: Andrej Karpathy.</center>"
      ]
    },
    {
      "cell_type": "markdown",
      "metadata": {
        "id": "O9DEGBTN6jKW"
      },
      "source": [
        "This would expand our original image to a `7x7`. With this, we now see how our next layer's size is again a `5x5`, keeping our dimensionality consistent."
      ]
    },
    {
      "cell_type": "markdown",
      "metadata": {
        "id": "A5xUOf6E6mza"
      },
      "source": [
        "## Visualizing CNNs"
      ]
    },
    {
      "cell_type": "markdown",
      "metadata": {
        "id": "PWZi6dkp60dW"
      },
      "source": [
        "Let’s look at an example CNN to see how it works in action.\n",
        "\n",
        "The CNN we will look at is trained on ImageNet as described in [this paper](http://www.matthewzeiler.com/pubs/arxive2013/eccv2014.pdf) by Zeiler and Fergus. In the images below (from the same paper), we’ll see what each layer in this network detects and see *how* each layer detects more and more complex ideas."
      ]
    },
    {
      "cell_type": "markdown",
      "metadata": {
        "id": "0GiLu2Q5623y"
      },
      "source": [
        "### Layer 1"
      ]
    },
    {
      "cell_type": "markdown",
      "metadata": {
        "id": "eLoiMlKp66Or"
      },
      "source": [
        "![](https://d17h27t6h515a5.cloudfront.net/topher/2016/November/583cbd42_layer-1-grid/layer-1-grid.png)\n",
        "<center>Example patterns that cause activations in the first layer of the network. These range from simple diagonal lines (top left) to green blobs (bottom middle).</center>"
      ]
    },
    {
      "cell_type": "markdown",
      "metadata": {
        "id": "DviQyW8a68zk"
      },
      "source": [
        "The images above are from Matthew Zeiler and Rob Fergus' [deep visualization toolbox](https://www.youtube.com/watch?v=ghEmQSxT6tw), which lets us visualize what each layer in a CNN focuses on.\n",
        "\n",
        "Each image in the above grid represents a pattern that causes the neurons in the first layer to activate - in other words, they are patterns that the first layer recognizes. The top left image shows a -45 degree line, while the middle top square shows a +45 degree line. These squares are shown below again for reference:"
      ]
    },
    {
      "cell_type": "markdown",
      "metadata": {
        "id": "OV_eqA2t6_Nn"
      },
      "source": [
        "![](https://d17h27t6h515a5.cloudfront.net/topher/2016/November/583cbba2_diagonal-line-1/diagonal-line-1.png)\n",
        "<center>As visualized here, the first layer of the CNN can recognize -45 degree lines.</center>\n",
        "<br>\n",
        "\n",
        "![](https://d17h27t6h515a5.cloudfront.net/topher/2016/November/583cbc02_diagonal-line-2/diagonal-line-2.png)\n",
        "<center>The first layer of the CNN is also able to recognize +45 degree lines, like the one above.</center>"
      ]
    },
    {
      "cell_type": "markdown",
      "metadata": {
        "id": "Q1s6MwLL7GJo"
      },
      "source": [
        "Let's now see some example images that cause such activations. The below grid of images all activated the -45 degree line. Notice how they are all selected despite the fact that they have different colors, gradients, and patterns."
      ]
    },
    {
      "cell_type": "markdown",
      "metadata": {
        "id": "2jK1vv2l7z3c"
      },
      "source": [
        "![](https://d17h27t6h515a5.cloudfront.net/topher/2016/November/583cbace_grid-layer-1/grid-layer-1.png)\n",
        "<center>Example patches that activate the -45 degree line detector in the first layer.</center>"
      ]
    },
    {
      "cell_type": "markdown",
      "metadata": {
        "id": "sji8SarT72rZ"
      },
      "source": [
        "### Layer 2"
      ]
    },
    {
      "cell_type": "markdown",
      "metadata": {
        "id": "GzYFC_iZ8CD9"
      },
      "source": [
        "<img src=\"https://d17h27t6h515a5.cloudfront.net/topher/2016/November/583780f3_screen-shot-2016-11-24-at-12.09.02-pm/screen-shot-2016-11-24-at-12.09.02-pm.png\" width=700 height=700>\n",
        "<center>A visualization of the second layer in the CNN. Notice how we are picking up more complex ideas like circles and stripes. The gray grid on the left represents how this layer of the CNN activates (or \"what it sees\") based on the corresponding images from the grid on the right.</center>"
      ]
    },
    {
      "cell_type": "markdown",
      "metadata": {
        "id": "-S7zokvQ8FLX"
      },
      "source": [
        "The second layer of the CNN captures complex ideas.\n",
        "\n",
        "As you see in the image above, the second layer of the CNN recognizes circles (second row, second column), stripes (first row, second column), and rectangles (bottom right).\n",
        "\n",
        "**The CNN learns to do this on its own**. There is no special instruction for the CNN to focus on more complex objects in deeper layers. That's just how it normally works out when you feed training data into a CNN."
      ]
    },
    {
      "cell_type": "markdown",
      "metadata": {
        "id": "CUEjFNem8IUp"
      },
      "source": [
        "The second layer of the CNN captures complex ideas.\n",
        "\n",
        "As you see in the image above, the second layer of the CNN recognizes circles (second row, second column), stripes (first row, second column), and rectangles (bottom right).\n",
        "\n",
        "**The CNN learns to do this on its own**. There is no special instruction for the CNN to focus on more complex objects in deeper layers. That's just how it normally works out when you feed training data into a CNN."
      ]
    },
    {
      "cell_type": "markdown",
      "metadata": {
        "id": "ZWIAD8N28Kla"
      },
      "source": [
        "### Layer 3"
      ]
    },
    {
      "cell_type": "markdown",
      "metadata": {
        "id": "oVxfN-zB8OvQ"
      },
      "source": [
        "<img src=\"https://d17h27t6h515a5.cloudfront.net/topher/2016/November/5837811f_screen-shot-2016-11-24-at-12.09.24-pm/screen-shot-2016-11-24-at-12.09.24-pm.png\" width=700 height=700>\n",
        "<center>A visualization of the third layer in the CNN. The gray grid on the left represents how this layer of the CNN activates (or \"what it sees\") based on the corresponding images from the grid on the right.</center>"
      ]
    },
    {
      "cell_type": "markdown",
      "metadata": {
        "id": "YD9kAmJX8R7R"
      },
      "source": [
        "The third layer picks out complex combinations of features from the second layer. These include things like grids, and honeycombs (top left), wheels (second row, second column), and even faces (third row, third column)."
      ]
    },
    {
      "cell_type": "markdown",
      "metadata": {
        "id": "tfjvslDW8VgL"
      },
      "source": [
        "### Layer 5"
      ]
    },
    {
      "cell_type": "markdown",
      "metadata": {
        "id": "P7n5_x798YQI"
      },
      "source": [
        "<img src=\"https://d17h27t6h515a5.cloudfront.net/topher/2016/November/58378151_screen-shot-2016-11-24-at-12.08.11-pm/screen-shot-2016-11-24-at-12.08.11-pm.png\" width=500 height=500>\n",
        "<center>A visualization of the fifth and final layer of the CNN. The gray grid on the left represents how this layer of the CNN activates (or \"what it sees\") based on the corresponding images from the grid on the right.</center>"
      ]
    },
    {
      "cell_type": "markdown",
      "metadata": {
        "id": "wJrZU_mk8bL3"
      },
      "source": [
        "We'll skip layer 4, which continues this progression, and jump right to the fifth and final layer of this CNN.\n",
        "\n",
        "The last layer picks out the highest order ideas that we care about for classification, like dog faces, bird faces, and bicycles."
      ]
    },
    {
      "cell_type": "markdown",
      "metadata": {
        "id": "l2COu2SM8jDX"
      },
      "source": [
        "## Max Pooling"
      ]
    },
    {
      "cell_type": "markdown",
      "metadata": {
        "id": "bGkMixuF8j_J"
      },
      "source": [
        "![](https://d17h27t6h515a5.cloudfront.net/topher/2016/November/582aac09_max-pooling/max-pooling.png)"
      ]
    },
    {
      "cell_type": "markdown",
      "metadata": {
        "id": "BkAvyVJE8neo"
      },
      "source": [
        "### Convolutions"
      ]
    },
    {
      "cell_type": "markdown",
      "metadata": {
        "id": "8axu-SJ08sT6"
      },
      "source": [
        "![](https://d17h27t6h515a5.cloudfront.net/topher/2016/November/581a58be_convolution-schematic/convolution-schematic.gif)\n",
        "<centre>Convolution with 3×3 Filter. Source: http://deeplearning.stanford.edu/wiki/index.php/Feature_extraction_using_convolution</centre>"
      ]
    },
    {
      "cell_type": "markdown",
      "metadata": {
        "id": "JkVljrWd9KVF"
      },
      "source": [
        "The above is an example of a convolution with a 3x3 filter and a stride of 1 being applied to data with a range of 0 to 1. The convolution for each 3x3 section is calculated against the weight, `[[1, 0, 1], [0, 1, 0], [1, 0, 1]]`, then a bias is added to create the convolved feature on the right. In this case, the bias is zero."
      ]
    },
    {
      "cell_type": "markdown",
      "metadata": {
        "id": "vHyyUhL79NKS"
      },
      "source": [
        "\n",
        "\n",
        "Stride is an array of 4 elements; the first element in the stride array indicates the stride for batch and last element indicates stride for features. It's good practice to remove the batches or features you want to skip from the data set rather than use stride to skip them. You can always set the first and last element to 1 in stride in order to use all batches and features."
      ]
    },
    {
      "cell_type": "markdown",
      "metadata": {
        "id": "cYToNpfB9QCo"
      },
      "source": [
        "![](https://d17h27t6h515a5.cloudfront.net/topher/2016/November/581a57fe_maxpool/maxpool.jpeg)\n",
        "<centre>Max Pooling with 2x2 filter and stride of 2. Source: http://cs231n.github.io/convolutional-networks/</centre>"
      ]
    },
    {
      "cell_type": "markdown",
      "metadata": {
        "id": "bWZkc7Qp9TTd"
      },
      "source": [
        "The above is an example of max pooling with a 2x2 filter and stride of 2. The left square is the input and the right square is the output. The four 2x2 colors in input represents each time the filter was applied to create the max on the right side. For example, `[[1, 1], [5, 6]]` becomes `6` and `[[3, 2], [1, 2]]` becomes `3`."
      ]
    },
    {
      "cell_type": "markdown",
      "metadata": {
        "id": "WwFzjTWb9Xrs"
      },
      "source": [
        "# Practical Intuition with Code Explanation"
      ]
    },
    {
      "cell_type": "markdown",
      "metadata": {
        "id": "em6cCE0-9buz"
      },
      "source": [
        "In this notebook, we train a Convolutional Neural Network to classify images from the MNIST database.\n",
        "\n",
        "### 1. Load MNIST Database\n",
        "\n",
        "MNIST is one of the most famous datasets in the field of machine learning.\n",
        " - It has 70,000 images of hand-written digits\n",
        " - Very straight forward to download\n",
        " - Images dimensions are 28x28\n",
        " - Grayscale images"
      ]
    },
    {
      "cell_type": "code",
      "execution_count": null,
      "metadata": {
        "id": "o3sykT9QBf3B"
      },
      "outputs": [],
      "source": [
        "from tensorflow.keras.datasets import mnist\n",
        "\n",
        "# use Keras to import pre-shuffled MNIST database\n",
        "(X_train, y_train), (X_test, y_test) = mnist.load_data()\n",
        "\n",
        "print(\"The MNIST database has a training set of %d examples.\" % len(X_train))\n",
        "print(\"The MNIST database has a test set of %d examples.\" % len(X_test))"
      ]
    },
    {
      "cell_type": "markdown",
      "metadata": {
        "id": "Zwvr9-aDBiyt"
      },
      "source": [
        "### 2. Visualize the First Six Training Images"
      ]
    },
    {
      "cell_type": "code",
      "execution_count": null,
      "metadata": {
        "id": "t9suJbWagYzB"
      },
      "outputs": [],
      "source": [
        "import matplotlib.pyplot as plt\n",
        "%matplotlib inline\n",
        "import matplotlib.cm as cm\n",
        "import numpy as np\n",
        "\n",
        "plt.imshow(X_train[0],cmap='gray')"
      ]
    },
    {
      "cell_type": "code",
      "execution_count": null,
      "metadata": {
        "id": "cD6GQ3wsBj96"
      },
      "outputs": [],
      "source": [
        "import matplotlib.pyplot as plt\n",
        "%matplotlib inline\n",
        "import matplotlib.cm as cm\n",
        "import numpy as np\n",
        "\n",
        "# plot first six training images\n",
        "fig = plt.figure(figsize=(20,20))\n",
        "for i in range(6):\n",
        "    ax = fig.add_subplot(1, 6, i+1, xticks=[], yticks=[])\n",
        "    ax.imshow(X_train[i], cmap='gray')\n",
        "    ax.set_title(str(y_train[i]))"
      ]
    },
    {
      "cell_type": "markdown",
      "metadata": {
        "id": "Vds7BeuTBfli"
      },
      "source": [
        "### 3. View an Image in More Detail"
      ]
    },
    {
      "cell_type": "code",
      "source": [
        "import seaborn as sns\n",
        "sns.heatmap(X_train[0])"
      ],
      "metadata": {
        "id": "0zzK6AAUm818"
      },
      "execution_count": null,
      "outputs": []
    },
    {
      "cell_type": "markdown",
      "metadata": {
        "id": "iombPxrGB98f"
      },
      "source": [
        "### 4. Preprocess input images: Rescale the Images by Dividing Every Pixel in Every Image by 255"
      ]
    },
    {
      "cell_type": "code",
      "execution_count": null,
      "metadata": {
        "id": "E_KfvnJGhSMi"
      },
      "outputs": [],
      "source": [
        "import matplotlib.pyplot as plt\n",
        "import seaborn as sns\n",
        "plt.figure(figsize=(10,10))\n",
        "sns.heatmap(X_train[0]/255)"
      ]
    },
    {
      "cell_type": "code",
      "source": [
        "X_train.shape"
      ],
      "metadata": {
        "id": "pgfgIZQ3ng7k"
      },
      "execution_count": null,
      "outputs": []
    },
    {
      "cell_type": "code",
      "execution_count": null,
      "metadata": {
        "id": "joCWCNXCB-0o"
      },
      "outputs": [],
      "source": [
        "# rescale to have values within 0 - 1 range [0,255] --> [0,1]\n",
        "X_train = X_train.astype('float32')/255\n",
        "X_test = X_test.astype('float32')/255\n",
        "\n",
        "print('X_train shape:', X_train.shape)\n",
        "print(X_train.shape[0], 'train samples')\n",
        "print(X_test.shape[0], 'test samples')"
      ]
    },
    {
      "cell_type": "code",
      "execution_count": null,
      "metadata": {
        "id": "qRdB78bSiV48"
      },
      "outputs": [],
      "source": [
        "X_train[0].max()"
      ]
    },
    {
      "cell_type": "code",
      "execution_count": null,
      "metadata": {
        "id": "rVy1Z232iVsB"
      },
      "outputs": [],
      "source": [
        "X_train[0].min()"
      ]
    },
    {
      "cell_type": "code",
      "execution_count": null,
      "metadata": {
        "id": "YJiotzWsiVRV"
      },
      "outputs": [],
      "source": []
    },
    {
      "cell_type": "code",
      "execution_count": null,
      "metadata": {
        "id": "EPQFxWOyIVXB"
      },
      "outputs": [],
      "source": [
        "y_train"
      ]
    },
    {
      "cell_type": "markdown",
      "metadata": {
        "id": "BBy25angByey"
      },
      "source": [
        "### 5. Preprocess the labels: Encode Categorical Integer Labels Using a One-Hot Scheme"
      ]
    },
    {
      "cell_type": "code",
      "source": [
        "from tensorflow.keras.utils import to_categorical\n",
        "\n"
      ],
      "metadata": {
        "id": "CUbBdz0prH5k"
      },
      "execution_count": null,
      "outputs": []
    },
    {
      "cell_type": "code",
      "source": [
        "y_train"
      ],
      "metadata": {
        "id": "RZ8HqBc27IMp"
      },
      "execution_count": null,
      "outputs": []
    },
    {
      "cell_type": "code",
      "source": [],
      "metadata": {
        "id": "7e3a8xiIW5_F"
      },
      "execution_count": null,
      "outputs": []
    },
    {
      "cell_type": "code",
      "execution_count": null,
      "metadata": {
        "id": "AXrGWlYTCF6K"
      },
      "outputs": [],
      "source": [
        "# from keras.utils import np_utils\n",
        "from tensorflow.keras.utils import to_categorical\n",
        "num_classes = 10\n",
        "# print first ten (integer-valued) training labels\n",
        "print('Integer-valued labels:')\n",
        "# print(y_train[:10])\n",
        "\n",
        "# one-hot encode the labels\n",
        "# convert class vectors to binary class matrices\n",
        "y_train = to_categorical(y_train, num_classes)\n",
        "y_test = to_categorical(y_test, num_classes)\n",
        "\n",
        "# # print first ten (one-hot) training labels\n",
        "# print('One-hot labels:')\n",
        "# print(y_train[:10])"
      ]
    },
    {
      "cell_type": "code",
      "source": [
        "y_train.shape"
      ],
      "metadata": {
        "id": "tJHWhZKY7Vc4"
      },
      "execution_count": null,
      "outputs": []
    },
    {
      "cell_type": "markdown",
      "metadata": {
        "id": "0LfqHt6eCMYz"
      },
      "source": [
        "### 6. Reshape data to fit our CNN (and input_shape)"
      ]
    },
    {
      "cell_type": "code",
      "execution_count": null,
      "metadata": {
        "id": "X31FyvzKCRzf"
      },
      "outputs": [],
      "source": [
        "# input image dimensions 28x28 pixel images. Specifically done when using CNN function from ten\n",
        "img_rows, img_cols = 28, 28\n",
        "\n",
        "X_train = X_train.reshape(X_train.shape[0], 28, 28, 1)\n",
        "X_test = X_test.reshape(10000, 28, 28, 1)\n",
        "# input_shape = (img_rows, img_cols, 1)\n",
        "\n",
        "# print('input_shape: ', input_shape)\n",
        "print('x_train shape:', X_train.shape)\n",
        "print('x_test shape:', X_test.shape)"
      ]
    },
    {
      "cell_type": "markdown",
      "metadata": {
        "id": "b03tcbOxCZDK"
      },
      "source": [
        "### 7. Define the Model Architecture\n",
        "\n",
        "You must pass the following arguments:\n",
        "- filters - The number of filters.\n",
        "- kernel_size - Number specifying both the height and width of the (square) convolution window.\n",
        "\n",
        "There are some additional, optional arguments that you might like to tune:\n",
        "\n",
        "- strides - The stride of the convolution. If you don't specify anything, strides is set to 1.\n",
        "- padding - One of 'valid' or 'same'. If you don't specify anything, padding is set to 'valid'.\n",
        "- activation - Typically 'relu'. If you don't specify anything, no activation is applied. You are strongly encouraged to add a ReLU activation function to every convolutional layer in your networks.\n",
        "\n",
        "** Things to remember **\n",
        "- Always add a ReLU activation function to the **Conv2D** layers in your CNN. With the exception of the final layer in the network, Dense layers should also have a ReLU activation function.\n",
        "- When constructing a network for classification, the final layer in the network should be a **Dense** layer with a softmax activation function. The number of nodes in the final layer should equal the total number of classes in the dataset."
      ]
    },
    {
      "cell_type": "code",
      "execution_count": null,
      "metadata": {
        "id": "R_Rm6jRbmMcm"
      },
      "outputs": [],
      "source": [
        "from tensorflow.keras.models import Sequential\n",
        "from tensorflow.keras.layers import Conv2D, MaxPooling2D, Flatten, Dense, Dropout"
      ]
    },
    {
      "cell_type": "code",
      "execution_count": null,
      "metadata": {
        "id": "bNv17_ahCXwQ"
      },
      "outputs": [],
      "source": [
        "from tensorflow.keras.models import Sequential\n",
        "from tensorflow.keras.layers import Conv2D, MaxPooling2D, Flatten, Dense, Dropout\n",
        "\n",
        "# build the model object\n",
        "model = Sequential()\n",
        "\n",
        "# CONV_1: add CONV layer with RELU activation and depth = 32 kernels\n",
        "model.add(Conv2D(32, kernel_size=(3, 3), padding='same',activation='relu',input_shape=(28,28,1)))\n",
        "# POOL_1: downsample the image to choose the best features\n",
        "model.add(MaxPooling2D(pool_size=(2, 2)))\n",
        "\n",
        "# CONV_2: here we increase the depth to 64\n",
        "model.add(Conv2D(64,(3, 3),padding='same', activation='relu'))\n",
        "# POOL_2: more downsampling\n",
        "model.add(MaxPooling2D(pool_size=(2, 2)))\n",
        "\n",
        "# flatten since too many dimensions, we only want a classification output\n",
        "model.add(Flatten())\n",
        "\n",
        "# FC_1: fully connected to get all relevant data\n",
        "model.add(Dense(64, activation='relu'))\n",
        "\n",
        "# FC_2: output a softmax to squash the matrix into output probabilities for the 10 classes\n",
        "model.add(Dense(10, activation='softmax'))\n",
        "\n",
        "model.summary()"
      ]
    },
    {
      "cell_type": "markdown",
      "metadata": {
        "id": "3dhXGG4iCnZX"
      },
      "source": [
        "#### Things to notice:\n",
        "\n",
        "- The network begins with a sequence of two convolutional layers, followed by max pooling layers.\n",
        "- The final layer has one entry for each object class in the dataset, and has a softmax activation function, so that it returns probabilities.\n",
        "- The Conv2D depth increases from the input layer of 1 to 32 to 64.\n",
        "- We also want to decrease the height and width - This is where maxpooling comes in. Notice that the image dimensions decrease from 28 to 14 after the pooling layer.\n",
        "- You can see that every output shape has **None** in place of the batch-size. This is so as to facilitate changing of batch size at runtime.\n",
        "- Finally, we add one or more fully connected layers to determine what object is contained in the image. For instance, if wheels were found in the last max pooling layer, this FC layer will transform that information to predict that a car is present in the image with higher probability. If there were eyes, legs and a tails, then this could mean that there is a dog in the image."
      ]
    },
    {
      "cell_type": "markdown",
      "metadata": {
        "id": "G8TB31f-CrLO"
      },
      "source": [
        "### 8. Compile the Model"
      ]
    },
    {
      "cell_type": "code",
      "execution_count": null,
      "metadata": {
        "id": "ojalKaD1Cl5a"
      },
      "outputs": [],
      "source": [
        "# compile the model\n",
        "model.compile(loss='categorical_crossentropy', optimizer='rmsprop',\n",
        "              metrics=['accuracy'])"
      ]
    },
    {
      "cell_type": "markdown",
      "metadata": {
        "id": "nZMww5_cCykw"
      },
      "source": [
        "### 9. Train the Model"
      ]
    },
    {
      "cell_type": "code",
      "execution_count": null,
      "metadata": {
        "id": "wVR2VoEoCzz2"
      },
      "outputs": [],
      "source": [
        "from tensorflow.keras.callbacks import ModelCheckpoint\n",
        "\n",
        "# train the model\n",
        "checkpointer = ModelCheckpoint(filepath='model.weights.best.hdf5', verbose=1,\n",
        "                               save_best_only=True)\n",
        "hist = model.fit(X_train, y_train, batch_size=64, epochs=1,\n",
        "          validation_data=(X_test, y_test), callbacks=[checkpointer],\n",
        "          verbose=2, shuffle=True)"
      ]
    },
    {
      "cell_type": "code",
      "execution_count": null,
      "metadata": {
        "id": "GBOP1gRDDuKI"
      },
      "outputs": [],
      "source": [
        "### 10. Load the Model with the Best Classification Accuracy on the Validation Set\n",
        "# load the weights that yielded the best validation accuracy\n",
        "model.load_weights('model.weights.best.hdf5')"
      ]
    },
    {
      "cell_type": "code",
      "execution_count": null,
      "metadata": {
        "id": "f64NYt4LD0zx"
      },
      "outputs": [],
      "source": [
        "#### 11. Calculate the Classification Accuracy on the Test Set\n",
        "# evaluate test accuracy\n",
        "score = model.evaluate(X_test, y_test, verbose=0)\n",
        "score\n"
      ]
    },
    {
      "cell_type": "code",
      "execution_count": null,
      "metadata": {
        "id": "8gado4fHK-vp"
      },
      "outputs": [],
      "source": [
        "keras.io code refernce"
      ]
    },
    {
      "cell_type": "markdown",
      "metadata": {
        "id": "mRs_7GmtEA1d"
      },
      "source": [
        "# CNNs will truly OUTPERFORM MLPs."
      ]
    },
    {
      "cell_type": "markdown",
      "metadata": {
        "id": "xgH5wS1CEEvI"
      },
      "source": [
        "#### Here we will train a CNN to classify images from the CIFAR-10 dataset.\n",
        "\n",
        "\n",
        "### 1. Load CIFAR-10 Database"
      ]
    },
    {
      "cell_type": "code",
      "execution_count": null,
      "metadata": {
        "id": "atVFp1zEEBwB"
      },
      "outputs": [],
      "source": [
        "import keras\n",
        "from keras.datasets import cifar10\n",
        "\n",
        "# load the pre-shuffled train and test data\n",
        "(x_train, y_train), (x_test, y_test) = cifar10.load_data()\n",
        "print(x_train.shape)\n",
        "print(x_test.shape)"
      ]
    },
    {
      "cell_type": "code",
      "source": [],
      "metadata": {
        "id": "tA4NOl5nEmr3"
      },
      "execution_count": null,
      "outputs": []
    },
    {
      "cell_type": "markdown",
      "metadata": {
        "id": "hUOte0PwELKM"
      },
      "source": [
        "### 2. Visualize the First 10 Training Images"
      ]
    },
    {
      "cell_type": "code",
      "execution_count": null,
      "metadata": {
        "id": "Zg_6ohoIEKXs"
      },
      "outputs": [],
      "source": [
        "import numpy as np\n",
        "import matplotlib.pyplot as plt\n",
        "%matplotlib inline\n",
        "\n",
        "fig = plt.figure(figsize=(20,5))\n",
        "for i in range(10):\n",
        "    ax = fig.add_subplot(1, 10, i + 1, xticks=[], yticks=[])\n",
        "    ax.imshow(x_train[i])"
      ]
    },
    {
      "cell_type": "markdown",
      "metadata": {
        "id": "lAVERQHGESD1"
      },
      "source": [
        "### 3. Rescale the Images by Dividing Every Pixel in Every Image by 255\n",
        "In fact, the cost function has the shape of a bowl, but it can be an elongated bowl if the features have very\n",
        "different scales. Figure below shows Gradient Descent on a training set where features 1 and 2 have the\n",
        "same scale (on the left), and on a training set where feature 1 has much smaller values than feature 2 (on\n",
        "the right).\n",
        "\n",
        "** Tip: ** When using Gradient Descent, you should ensure that all features have a similar scale to speed up training or else it will take much longer to converge."
      ]
    },
    {
      "cell_type": "code",
      "execution_count": null,
      "metadata": {
        "id": "2VLGNWTxuaH4"
      },
      "outputs": [],
      "source": [
        "x_train.dtype"
      ]
    },
    {
      "cell_type": "code",
      "execution_count": null,
      "metadata": {
        "id": "egArh8JwudPN"
      },
      "outputs": [],
      "source": [
        "(x_train/255).dtype"
      ]
    },
    {
      "cell_type": "code",
      "execution_count": null,
      "metadata": {
        "id": "4zk_on1yETMu"
      },
      "outputs": [],
      "source": [
        "x_train = x_train.astype('float32')/255\n",
        "x_test = x_test.astype('float32')/255"
      ]
    },
    {
      "cell_type": "markdown",
      "metadata": {
        "id": "hSUzwVTNEcNY"
      },
      "source": [
        "### 4.  Break Dataset into Training, Testing, and Validation Sets"
      ]
    },
    {
      "cell_type": "code",
      "execution_count": null,
      "metadata": {
        "id": "J-82TmJ2Ec4q"
      },
      "outputs": [],
      "source": [
        "# from tenorflow.keras.utils import to_categorical\n",
        "# from tensorflow import keras\n",
        "\n",
        "# # one-hot encode the labels\n",
        "# num_classes = len(np.unique(y_train))\n",
        "# y_train = to_categorical(y_train, num_classes)\n",
        "# y_test = to_categorical(y_test, num_classes)\n",
        "\n",
        "# # break training set into training and validation sets\n",
        "# (x_train, x_valid) = x_train[5000:], x_train[:5000]\n",
        "# (y_train, y_valid) = y_train[5000:], y_train[:5000]\n",
        "\n",
        "# # print shape of training set\n",
        "# print('x_train shape:', x_train.shape)\n",
        "\n",
        "# # print number of training, validation, and test images\n",
        "# print(x_train.shape[0], 'train samples')\n",
        "# print(x_test.shape[0], 'test samples')\n",
        "# print(x_valid.shape[0], 'validation samples')"
      ]
    },
    {
      "cell_type": "markdown",
      "metadata": {
        "id": "5-ne4T_9ElSl"
      },
      "source": [
        "### 5. Define the Model Architecture"
      ]
    },
    {
      "cell_type": "code",
      "source": [
        "(x_train, x_valid) = x_train[5000:], x_train[:5000]\n",
        "(y_train, y_valid) = y_train[5000:], y_train[:5000]\n"
      ],
      "metadata": {
        "id": "IYF32_Q4dN_C"
      },
      "execution_count": null,
      "outputs": []
    },
    {
      "cell_type": "code",
      "execution_count": null,
      "metadata": {
        "id": "-v2-LKMVEZCe"
      },
      "outputs": [],
      "source": [
        "from keras.models import Sequential\n",
        "from keras.layers import Conv2D, MaxPooling2D, Flatten, Dense, Dropout\n",
        "\n",
        "model = Sequential()\n",
        "model.add(Conv2D(filters=16, kernel_size=3, padding='same', activation='relu',\n",
        "                        input_shape=(32, 32, 3)))\n",
        "model.add(MaxPooling2D(pool_size=2))\n",
        "model.add(Conv2D(filters=32, kernel_size=3, padding='same', activation='relu'))\n",
        "model.add(MaxPooling2D(pool_size=2))\n",
        "model.add(Conv2D(filters=64, kernel_size=3, padding='same', activation='relu'))\n",
        "model.add(MaxPooling2D(pool_size=2))\n",
        "model.add(Dropout(0.3))\n",
        "model.add(Flatten())\n",
        "model.add(Dense(500, activation='relu'))\n",
        "model.add(Dropout(0.4))\n",
        "model.add(Dense(10, activation='softmax'))\n",
        "\n",
        "model.summary()"
      ]
    },
    {
      "cell_type": "markdown",
      "metadata": {
        "id": "ymR5BLFhEslL"
      },
      "source": [
        "### 6. Compile the Model"
      ]
    },
    {
      "cell_type": "code",
      "execution_count": null,
      "metadata": {
        "id": "lA4fBPwsEtcO"
      },
      "outputs": [],
      "source": [
        "model.compile(loss='sparse_categorical_crossentropy', optimizer='rmsprop', metrics=['accuracy'])"
      ]
    },
    {
      "cell_type": "markdown",
      "metadata": {
        "id": "V8x2e5BkEx2S"
      },
      "source": [
        "### 7. Train the Model"
      ]
    },
    {
      "cell_type": "code",
      "execution_count": null,
      "metadata": {
        "id": "Q7UTvA6EE0lY"
      },
      "outputs": [],
      "source": [
        "from keras.callbacks import ModelCheckpoint\n",
        "\n",
        "# train the model\n",
        "checkpointer = ModelCheckpoint(filepath='model.weights.best.hdf5', verbose=1, save_best_only=True)\n",
        "\n",
        "hist = model.fit(x_train, y_train, batch_size=32, epochs=1,\n",
        "          validation_data=(x_valid, y_valid), callbacks=[checkpointer],\n",
        "          verbose=2, shuffle=True)"
      ]
    },
    {
      "cell_type": "markdown",
      "metadata": {
        "id": "TxsVftZZE6rA"
      },
      "source": [
        "### 8. Load the Model with the Best Validation Accuracy"
      ]
    },
    {
      "cell_type": "code",
      "source": [
        "hist.history.keys()"
      ],
      "metadata": {
        "id": "KPsEq0Z4HqST"
      },
      "execution_count": null,
      "outputs": []
    },
    {
      "cell_type": "code",
      "execution_count": null,
      "metadata": {
        "id": "76Be_1h4E3uI"
      },
      "outputs": [],
      "source": [
        "model.load_weights('model.weights.best.hdf5')"
      ]
    },
    {
      "cell_type": "markdown",
      "metadata": {
        "id": "AT6VNFoDFC61"
      },
      "source": [
        "### 9. Visualize Some Predictions"
      ]
    },
    {
      "cell_type": "code",
      "source": [
        "print(x_train.shape)\n",
        "print(y_train.shape)\n",
        "print(x_test.shape)\n",
        "print(y_test.shape)"
      ],
      "metadata": {
        "id": "pX7QktB07whI"
      },
      "execution_count": null,
      "outputs": []
    },
    {
      "cell_type": "code",
      "execution_count": null,
      "metadata": {
        "id": "bUvWMYd9FA0T"
      },
      "outputs": [],
      "source": [
        "# get predictions on the test set\n",
        "y_hat = model.predict(x_test)\n",
        "\n",
        "# define text labels (source: https://www.cs.toronto.edu/~kriz/cifar.html)\n",
        "cifar10_labels = ['airplane', 'automobile', 'bird', 'cat', 'deer', 'dog', 'frog', 'horse', 'ship', 'truck']"
      ]
    },
    {
      "cell_type": "code",
      "execution_count": null,
      "metadata": {
        "id": "xNL1rrgZFPds"
      },
      "outputs": [],
      "source": [
        "# plot a random sample of test images, their predicted labels, and ground truth\n",
        "fig = plt.figure(figsize=(20, 8))\n",
        "for i, idx in enumerate(np.random.choice(x_test.shape[0], size=32, replace=False)):\n",
        "    ax = fig.add_subplot(4, 8, i + 1, xticks=[], yticks=[])\n",
        "    ax.imshow(x_test[idx])\n",
        "    pred_idx = np.argmax(y_hat[idx])\n",
        "    # true_idx = np.argmax(y_test[idx])\n",
        "    true_idx = y_test[idx][0]\n",
        "    ax.set_title(\"{} ({})\".format(cifar10_labels[pred_idx], cifar10_labels[true_idx]),\n",
        "                 color=(\"blue\" if pred_idx == true_idx else \"red\"))"
      ]
    },
    {
      "cell_type": "code",
      "execution_count": null,
      "metadata": {
        "id": "ldFhB_kwNJg4"
      },
      "outputs": [],
      "source": []
    },
    {
      "cell_type": "code",
      "execution_count": null,
      "metadata": {
        "id": "PggMH3H2CWPe"
      },
      "outputs": [],
      "source": [
        "# evaluate test accuracy\n",
        "score = model.evaluate(x_test, y_test, verbose=0)\n",
        "accuracy = 100*score[1]\n",
        "\n",
        "# print test accuracy\n",
        "print('Test accuracy: %.4f%%' % accuracy)"
      ]
    },
    {
      "cell_type": "code",
      "execution_count": null,
      "metadata": {
        "id": "bSCYu2Qmivbr"
      },
      "outputs": [],
      "source": [
        "['airplane', 'automobile', 'bird', 'cat', 'deer', 'dog', 'frog', 'horse', 'ship', 'truck']"
      ]
    },
    {
      "cell_type": "code",
      "execution_count": null,
      "metadata": {
        "id": "VB2GLlLJF5G-"
      },
      "outputs": [],
      "source": [
        "cifar10_labels[np.argmax(score)]\n"
      ]
    }
  ],
  "metadata": {
    "accelerator": "GPU",
    "colab": {
      "provenance": []
    },
    "gpuClass": "standard",
    "kernelspec": {
      "display_name": "Python 3 (ipykernel)",
      "language": "python",
      "name": "python3"
    },
    "language_info": {
      "codemirror_mode": {
        "name": "ipython",
        "version": 3
      },
      "file_extension": ".py",
      "mimetype": "text/x-python",
      "name": "python",
      "nbconvert_exporter": "python",
      "pygments_lexer": "ipython3",
      "version": "3.9.12"
    }
  },
  "nbformat": 4,
  "nbformat_minor": 0
}