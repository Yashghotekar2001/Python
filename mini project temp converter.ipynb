{
 "cells": [
  {
   "cell_type": "code",
   "execution_count": null,
   "id": "d54e5e3d-855d-4441-864b-b7b5443375ef",
   "metadata": {},
   "outputs": [],
   "source": [
    "# I have created one mini project for Temperature converter like \"Celsius to Fahrenheit"
   ]
  },
  {
   "cell_type": "code",
   "execution_count": 1,
   "id": "b8efcbe1-9eff-48ef-bd6d-fc855c1cd8a7",
   "metadata": {},
   "outputs": [],
   "source": [
    "# lets start to work"
   ]
  },
  {
   "cell_type": "code",
   "execution_count": 16,
   "id": "83b00c9a-193c-4e96-8682-6756f921125d",
   "metadata": {},
   "outputs": [
    {
     "name": "stdout",
     "output_type": "stream",
     "text": [
      "1.Celsius to Fahrenheit\n",
      "2.Fahrenheit to Celsius\n"
     ]
    },
    {
     "name": "stdin",
     "output_type": "stream",
     "text": [
      "choice (1 or 2): 1\n",
      "Enter Celsius: 537.77777777778\n"
     ]
    },
    {
     "name": "stdout",
     "output_type": "stream",
     "text": [
      "537.77777777778°C=1000.000000000004°F\n"
     ]
    }
   ],
   "source": [
    "def temperature_converter():\n",
    "    print(\"1.Celsius to Fahrenheit\")\n",
    "    print(\"2.Fahrenheit to Celsius\")\n",
    "    choice=input(\"choice (1 or 2):\")\n",
    "\n",
    "    if choice=='1':\n",
    "        c=float(input(\"Enter Celsius:\"))\n",
    "        f=(c*9/5)+32\n",
    "        print(f\"{c}°C={f}°F\")\n",
    "    elif choice=='2':\n",
    "        f=float(input(\"Enter a Fahrenheit:\"))\n",
    "        c=(f-32)*5/9\n",
    "        print(f\"{f}°F={c}°C\")\n",
    "    else:\n",
    "        print(\"Invalid Choice.\")\n",
    "\n",
    "temperature_converter()\n",
    "        \n",
    "\n",
    "    "
   ]
  },
  {
   "cell_type": "code",
   "execution_count": 14,
   "id": "bba3d1ed-ecd9-4a10-a348-213e85ffeb14",
   "metadata": {},
   "outputs": [
    {
     "name": "stdout",
     "output_type": "stream",
     "text": [
      "1.Celsius to Fahrenheit\n",
      "2.Fahrenheit to Celsius\n"
     ]
    },
    {
     "name": "stdin",
     "output_type": "stream",
     "text": [
      "choice (1 or 2): 2\n",
      "Enter a Fahrenheit: 1000\n"
     ]
    },
    {
     "name": "stdout",
     "output_type": "stream",
     "text": [
      "1000.0°F = 537.7777777777778°C\n"
     ]
    }
   ],
   "source": [
    "def temperature_converter():\n",
    "    print(\"1.Celsius to Fahrenheit\")\n",
    "    print(\"2.Fahrenheit to Celsius\")\n",
    "    choice=input(\"choice (1 or 2):\")\n",
    "    if choice=='1':\n",
    "        c=float(input(\"Enter a Celsius:\"))\n",
    "        f=(c*9/5)+35\n",
    "        print(f\"{c}°C = {f}°F\")\n",
    "    elif choice=='2':\n",
    "        f=float(input(\"Enter a Fahrenheit:\"))\n",
    "        c=(f-32)*5/9\n",
    "        print(f\"{f}°F = {c}°C\")\n",
    "    else:\n",
    "        print(\"Invalid Choice\")\n",
    "\n",
    "temperature_converter()"
   ]
  },
  {
   "cell_type": "code",
   "execution_count": null,
   "id": "e60051a5-ecc9-4bcc-82eb-573f6fb25c7f",
   "metadata": {},
   "outputs": [],
   "source": [
    "# in that we seen we converted celsius to fahrenheit and aslo we have converted fahrenheit to celsius "
   ]
  },
  {
   "cell_type": "code",
   "execution_count": null,
   "id": "747e49f9-7b50-49f4-9033-132908c4364d",
   "metadata": {},
   "outputs": [],
   "source": [
    "# i have created one more basic mini project like password generator"
   ]
  },
  {
   "cell_type": "code",
   "execution_count": 23,
   "id": "edc2afbe-697c-43b3-9c96-16c65002d60a",
   "metadata": {},
   "outputs": [],
   "source": [
    "import random\n",
    "import string"
   ]
  },
  {
   "cell_type": "code",
   "execution_count": 30,
   "id": "182e7bb2-d5fd-40dd-ac59-47bd77077bed",
   "metadata": {},
   "outputs": [
    {
     "name": "stdout",
     "output_type": "stream",
     "text": [
      "Generate paasword: _|xpwL<'\n"
     ]
    }
   ],
   "source": [
    "import random\n",
    "import string\n",
    "\n",
    "def generate_password(length=8):\n",
    "    characters=string.ascii_letters + string.digits + string.punctuation\n",
    "    password=''.join(random.choice(characters) for _ in range(length))\n",
    "    print(\"Generate paasword:\", password)\n",
    "generate_password()"
   ]
  },
  {
   "cell_type": "code",
   "execution_count": 27,
   "id": "7a4e8429-fe75-4de9-b1a1-810601a99be5",
   "metadata": {},
   "outputs": [
    {
     "name": "stdout",
     "output_type": "stream",
     "text": [
      "Generated password: \\XR[MzXQ\n"
     ]
    }
   ],
   "source": [
    "import random\n",
    "import string\n",
    "\n",
    "def generate_password(length=8):\n",
    "    characters = string.ascii_letters + string.digits + string.punctuation\n",
    "    password = ''.join(random.choice(characters) for _ in range(length))\n",
    "    print(\"Generated password:\", password)\n",
    "\n",
    "generate_password()\n"
   ]
  },
  {
   "cell_type": "code",
   "execution_count": null,
   "id": "e440a7e2-ced5-46cc-85fa-67299006304a",
   "metadata": {},
   "outputs": [],
   "source": []
  },
  {
   "cell_type": "code",
   "execution_count": null,
   "id": "743c7d7f-bb38-4865-a6cc-1f207fb7cb58",
   "metadata": {},
   "outputs": [],
   "source": []
  },
  {
   "cell_type": "code",
   "execution_count": null,
   "id": "da26c6e8-d99f-4105-aca4-3957a5ee1613",
   "metadata": {},
   "outputs": [],
   "source": []
  },
  {
   "cell_type": "code",
   "execution_count": null,
   "id": "c92ecc9e-ac84-4507-a1c7-53dd50d09263",
   "metadata": {},
   "outputs": [],
   "source": []
  },
  {
   "cell_type": "code",
   "execution_count": null,
   "id": "6aafeb8b-f03b-475d-83a3-db2d1c37acb5",
   "metadata": {},
   "outputs": [],
   "source": []
  },
  {
   "cell_type": "code",
   "execution_count": null,
   "id": "230c1965-069c-457c-a010-3fe822ae1abf",
   "metadata": {},
   "outputs": [],
   "source": []
  },
  {
   "cell_type": "code",
   "execution_count": null,
   "id": "e34026b6-a0b8-4015-a596-21d8357ce62c",
   "metadata": {},
   "outputs": [],
   "source": []
  },
  {
   "cell_type": "code",
   "execution_count": null,
   "id": "4a048a58-2c14-4851-8b1e-5c761ff7107f",
   "metadata": {},
   "outputs": [],
   "source": []
  },
  {
   "cell_type": "code",
   "execution_count": null,
   "id": "c0766da1-635c-4a6f-b8bb-26d8ecd92190",
   "metadata": {},
   "outputs": [],
   "source": []
  },
  {
   "cell_type": "code",
   "execution_count": null,
   "id": "f0b46e75-f2a9-4e4d-8dd9-c4dba6735f1b",
   "metadata": {},
   "outputs": [],
   "source": []
  }
 ],
 "metadata": {
  "kernelspec": {
   "display_name": "Python [conda env:base] *",
   "language": "python",
   "name": "conda-base-py"
  },
  "language_info": {
   "codemirror_mode": {
    "name": "ipython",
    "version": 3
   },
   "file_extension": ".py",
   "mimetype": "text/x-python",
   "name": "python",
   "nbconvert_exporter": "python",
   "pygments_lexer": "ipython3",
   "version": "3.13.5"
  },
  "widgets": {
   "application/vnd.jupyter.widget-state+json": {
    "state": {},
    "version_major": 2,
    "version_minor": 0
   }
  }
 },
 "nbformat": 4,
 "nbformat_minor": 5
}
