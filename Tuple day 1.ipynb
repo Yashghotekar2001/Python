{
 "cells": [
  {
   "cell_type": "code",
   "execution_count": 1,
   "id": "f8b75404-f6b3-43c3-8277-6ec48744f27e",
   "metadata": {},
   "outputs": [],
   "source": [
    "#Create a tuple with 5 elements.\n",
    "#Access the 3rd element.\n",
    "#Slice the first 3 elements.\n",
    "#Check if an item exists in the tuple.\n",
    "#Concatenate two tuples.\n",
    "#Find the length of the tuple.\n",
    "#Count occurrences of a value.\n",
    "#Find the index of a value.\n",
    "#Convert a list to a tuple.\n",
    "#Try to modify an element in a tuple and explain what happens."
   ]
  },
  {
   "cell_type": "code",
   "execution_count": 4,
   "id": "041b9ee5-d5d4-446f-a1d0-c1447ce30a4a",
   "metadata": {},
   "outputs": [
    {
     "data": {
      "text/plain": [
       "(10, 20, 30, 40, 50)"
      ]
     },
     "execution_count": 4,
     "metadata": {},
     "output_type": "execute_result"
    }
   ],
   "source": [
    "Tup=(10,20,30,40,50)\n",
    "Tup"
   ]
  },
  {
   "cell_type": "code",
   "execution_count": 6,
   "id": "9a12f952-505d-40b8-aa4a-21dc7e1901ee",
   "metadata": {},
   "outputs": [
    {
     "data": {
      "text/plain": [
       "40"
      ]
     },
     "execution_count": 6,
     "metadata": {},
     "output_type": "execute_result"
    }
   ],
   "source": [
    "Tup1 = Tup[3]\n",
    "Tup1"
   ]
  },
  {
   "cell_type": "code",
   "execution_count": 8,
   "id": "59701a39-0cd9-41dd-bf49-08973fcb3cc7",
   "metadata": {},
   "outputs": [
    {
     "data": {
      "text/plain": [
       "(10, 20, 30)"
      ]
     },
     "execution_count": 8,
     "metadata": {},
     "output_type": "execute_result"
    }
   ],
   "source": [
    "Tup[:3]"
   ]
  },
  {
   "cell_type": "code",
   "execution_count": 9,
   "id": "24878425-a6c7-4c63-bb01-9806417c918f",
   "metadata": {},
   "outputs": [
    {
     "data": {
      "text/plain": [
       "True"
      ]
     },
     "execution_count": 9,
     "metadata": {},
     "output_type": "execute_result"
    }
   ],
   "source": [
    "exists=20 in Tup\n",
    "exists"
   ]
  },
  {
   "cell_type": "code",
   "execution_count": 10,
   "id": "69da6250-dd3d-42ba-b1e2-d3495b38428a",
   "metadata": {},
   "outputs": [
    {
     "data": {
      "text/plain": [
       "(10, 20, 30, 40, 50, 60, 70)"
      ]
     },
     "execution_count": 10,
     "metadata": {},
     "output_type": "execute_result"
    }
   ],
   "source": [
    "new_tup=Tup+(60,70)\n",
    "new_tup"
   ]
  },
  {
   "cell_type": "code",
   "execution_count": 12,
   "id": "37c19b9b-81b0-4922-b6c9-1e1bdfcd5a16",
   "metadata": {},
   "outputs": [
    {
     "data": {
      "text/plain": [
       "7"
      ]
     },
     "execution_count": 12,
     "metadata": {},
     "output_type": "execute_result"
    }
   ],
   "source": [
    "len(new_tup)"
   ]
  },
  {
   "cell_type": "code",
   "execution_count": 13,
   "id": "65626a4f-3b6c-46a0-b9a5-e46dfdb52c4c",
   "metadata": {},
   "outputs": [
    {
     "data": {
      "text/plain": [
       "5"
      ]
     },
     "execution_count": 13,
     "metadata": {},
     "output_type": "execute_result"
    }
   ],
   "source": [
    "len(Tup)"
   ]
  },
  {
   "cell_type": "code",
   "execution_count": 15,
   "id": "9a312955-4b6a-4773-9fea-9bcd31055af3",
   "metadata": {},
   "outputs": [
    {
     "data": {
      "text/plain": [
       "1"
      ]
     },
     "execution_count": 15,
     "metadata": {},
     "output_type": "execute_result"
    }
   ],
   "source": [
    "Tup.count(20)"
   ]
  },
  {
   "cell_type": "code",
   "execution_count": 19,
   "id": "5917b7cc-be7c-455f-ac72-14a52e47ca64",
   "metadata": {},
   "outputs": [
    {
     "data": {
      "text/plain": [
       "2"
      ]
     },
     "execution_count": 19,
     "metadata": {},
     "output_type": "execute_result"
    }
   ],
   "source": [
    "Tup.index(30)\n"
   ]
  },
  {
   "cell_type": "code",
   "execution_count": 18,
   "id": "7c45b25d-7e0f-4586-a328-90ea2e590d14",
   "metadata": {},
   "outputs": [
    {
     "data": {
      "text/plain": [
       "3"
      ]
     },
     "execution_count": 18,
     "metadata": {},
     "output_type": "execute_result"
    }
   ],
   "source": [
    "Tup.index(40)"
   ]
  },
  {
   "cell_type": "code",
   "execution_count": 23,
   "id": "abb65efa-4ffc-45ac-986c-c984787b5643",
   "metadata": {},
   "outputs": [
    {
     "data": {
      "text/plain": [
       "(1, 2, 3, 4, 5, 6)"
      ]
     },
     "execution_count": 23,
     "metadata": {},
     "output_type": "execute_result"
    }
   ],
   "source": [
    "list1=[1,2,3,4,5,6]\n",
    "Tup1=tuple(list1)\n",
    "Tup1"
   ]
  },
  {
   "cell_type": "code",
   "execution_count": 24,
   "id": "12bd5f12-5dd9-470b-83c2-ab4ca4b2675b",
   "metadata": {},
   "outputs": [
    {
     "ename": "TypeError",
     "evalue": "'tuple' object does not support item assignment",
     "output_type": "error",
     "traceback": [
      "\u001b[1;31m---------------------------------------------------------------------------\u001b[0m",
      "\u001b[1;31mTypeError\u001b[0m                                 Traceback (most recent call last)",
      "Cell \u001b[1;32mIn[24], line 1\u001b[0m\n\u001b[1;32m----> 1\u001b[0m Tup[\u001b[38;5;241m2\u001b[39m]\u001b[38;5;241m=\u001b[39m\u001b[38;5;241m100\u001b[39m\n",
      "\u001b[1;31mTypeError\u001b[0m: 'tuple' object does not support item assignment"
     ]
    }
   ],
   "source": [
    "Tup[2]=100 # Tuple are immutable we cant modify their item"
   ]
  },
  {
   "cell_type": "code",
   "execution_count": 41,
   "id": "5c0b1d3e-4442-427f-bb6e-0458893db39a",
   "metadata": {},
   "outputs": [],
   "source": [
    "#1. **Create a tuple of squares from 1 to 10.**\n",
    "#2. **Sort a list of tuples by the second item.**\n"
   ]
  },
  {
   "cell_type": "code",
   "execution_count": 42,
   "id": "a525c076-d314-4c4b-8d2a-31201e43275f",
   "metadata": {},
   "outputs": [
    {
     "data": {
      "text/plain": [
       "(1, 4, 9, 16, 25, 36, 49, 64, 81, 100)"
      ]
     },
     "execution_count": 42,
     "metadata": {},
     "output_type": "execute_result"
    }
   ],
   "source": [
    "Tup3 = tuple(i**2 for i in range(1,11))\n",
    "Tup3\n",
    "          "
   ]
  },
  {
   "cell_type": "code",
   "execution_count": 43,
   "id": "2cb8aaad-9de3-4c8f-83ff-917f110b11c7",
   "metadata": {},
   "outputs": [
    {
     "data": {
      "text/plain": [
       "[(4, 1), (2, 2), (1, 3)]"
      ]
     },
     "execution_count": 43,
     "metadata": {},
     "output_type": "execute_result"
    }
   ],
   "source": [
    "items = [(1, 3), (4, 1), (2, 2)]\n",
    "sorted_items = sorted(items, key=lambda x: x[1])\n",
    "sorted_items\n"
   ]
  },
  {
   "cell_type": "code",
   "execution_count": 44,
   "id": "e896e187-4193-42df-90a0-3b03b4307267",
   "metadata": {},
   "outputs": [
    {
     "data": {
      "text/plain": [
       "[(4, 1), (2, 2), (1, 3)]"
      ]
     },
     "execution_count": 44,
     "metadata": {},
     "output_type": "execute_result"
    }
   ],
   "source": [
    "items=[(1,3),(4,1),(2,2)]\n",
    "sorted_items=sorted(items,key=lambda x: x[1])\n",
    "sorted_items"
   ]
  },
  {
   "cell_type": "code",
   "execution_count": null,
   "id": "0e8e9fe5-f843-4a8b-b353-d96a99454093",
   "metadata": {},
   "outputs": [],
   "source": []
  },
  {
   "cell_type": "code",
   "execution_count": null,
   "id": "3e526af6-7076-448e-9cdd-9edce09f4a4d",
   "metadata": {},
   "outputs": [],
   "source": []
  },
  {
   "cell_type": "code",
   "execution_count": null,
   "id": "e9686e17-5ef4-401b-b2b4-8c8df6d36bdc",
   "metadata": {},
   "outputs": [],
   "source": []
  },
  {
   "cell_type": "code",
   "execution_count": null,
   "id": "37243a66-408d-42e8-bfa6-708fdde7eeab",
   "metadata": {},
   "outputs": [],
   "source": []
  },
  {
   "cell_type": "code",
   "execution_count": null,
   "id": "9565ead7-84f9-452b-8093-cee5c7c40fb6",
   "metadata": {},
   "outputs": [],
   "source": []
  }
 ],
 "metadata": {
  "kernelspec": {
   "display_name": "Python [conda env:base] *",
   "language": "python",
   "name": "conda-base-py"
  },
  "language_info": {
   "codemirror_mode": {
    "name": "ipython",
    "version": 3
   },
   "file_extension": ".py",
   "mimetype": "text/x-python",
   "name": "python",
   "nbconvert_exporter": "python",
   "pygments_lexer": "ipython3",
   "version": "3.13.5"
  },
  "widgets": {
   "application/vnd.jupyter.widget-state+json": {
    "state": {},
    "version_major": 2,
    "version_minor": 0
   }
  }
 },
 "nbformat": 4,
 "nbformat_minor": 5
}
