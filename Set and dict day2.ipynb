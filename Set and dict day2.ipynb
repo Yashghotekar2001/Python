{
 "cells": [
  {
   "cell_type": "code",
   "execution_count": 1,
   "id": "acfc952b-3326-4064-b13f-3d60715a2391",
   "metadata": {},
   "outputs": [],
   "source": [
    "#set and Dictionary"
   ]
  },
  {
   "cell_type": "code",
   "execution_count": 2,
   "id": "6afe5604-aad0-4dc8-8485-e300cce60b3f",
   "metadata": {},
   "outputs": [
    {
     "name": "stdout",
     "output_type": "stream",
     "text": [
      "{1, 2, 3}\n"
     ]
    }
   ],
   "source": [
    "#1️⃣ Q: What is a set in Python?\n",
    "my_set = {1, 2, 3, 3}\n",
    "print(my_set) \n"
   ]
  },
  {
   "cell_type": "code",
   "execution_count": 3,
   "id": "54d77922-1b6a-4dd5-a4bd-ee80cd1f2bed",
   "metadata": {},
   "outputs": [
    {
     "name": "stdout",
     "output_type": "stream",
     "text": [
      "{1, 3}\n"
     ]
    }
   ],
   "source": [
    "#2️⃣ Q: How do you add and remove items in a set?\n",
    "s = {1, 2}\n",
    "s.add(3)        \n",
    "s.remove(2)     \n",
    "s.discard(10)   \n",
    "print(s)        "
   ]
  },
  {
   "cell_type": "code",
   "execution_count": 4,
   "id": "f46f9174-3e2c-43f9-8918-3341118d5495",
   "metadata": {},
   "outputs": [
    {
     "name": "stdout",
     "output_type": "stream",
     "text": [
      "{1, 2, 3, 4, 5}\n",
      "{3}\n"
     ]
    }
   ],
   "source": [
    "#3️⃣ Q: How to find the union and intersection of two sets?\n",
    "a = {1, 2, 3}\n",
    "b = {3, 4, 5}\n",
    "print(a.union(b))       \n",
    "print(a.intersection(b)) \n"
   ]
  },
  {
   "cell_type": "code",
   "execution_count": 6,
   "id": "eb9ed461-62c8-44ee-9da6-237858c752f6",
   "metadata": {},
   "outputs": [
    {
     "name": "stdout",
     "output_type": "stream",
     "text": [
      "[1, 2, 3]\n"
     ]
    }
   ],
   "source": [
    "#4️⃣ Q: How to remove duplicates from a list using a set?\n",
    "lst = [1, 2, 2, 3, 3, 3]\n",
    "unique = list(set(lst))\n",
    "print(unique)  "
   ]
  },
  {
   "cell_type": "code",
   "execution_count": 7,
   "id": "0a2ab934-80c4-40e0-ad4e-8eb594bd5179",
   "metadata": {},
   "outputs": [
    {
     "ename": "KeyError",
     "evalue": "3",
     "output_type": "error",
     "traceback": [
      "\u001b[1;31m---------------------------------------------------------------------------\u001b[0m",
      "\u001b[1;31mKeyError\u001b[0m                                  Traceback (most recent call last)",
      "Cell \u001b[1;32mIn[7], line 3\u001b[0m\n\u001b[0;32m      1\u001b[0m \u001b[38;5;66;03m#5️⃣ Q: Difference between remove() and discard() in sets?\u001b[39;00m\n\u001b[0;32m      2\u001b[0m s \u001b[38;5;241m=\u001b[39m {\u001b[38;5;241m1\u001b[39m, \u001b[38;5;241m2\u001b[39m}\n\u001b[1;32m----> 3\u001b[0m s\u001b[38;5;241m.\u001b[39mremove(\u001b[38;5;241m3\u001b[39m)     \n\u001b[0;32m      4\u001b[0m s\u001b[38;5;241m.\u001b[39mdiscard(\u001b[38;5;241m3\u001b[39m)\n",
      "\u001b[1;31mKeyError\u001b[0m: 3"
     ]
    }
   ],
   "source": [
    "#5️⃣ Q: Difference between remove() and discard() in sets?\n",
    "s = {1, 2}\n",
    "s.remove(3)     \n",
    "s.discard(3)    \n",
    "#remove(x) raises an error if x not found.\n",
    "#discard(x) does not raise an error."
   ]
  },
  {
   "cell_type": "code",
   "execution_count": 8,
   "id": "27a0fca1-9cc9-44c4-8c9a-3c2d8e7d24ce",
   "metadata": {},
   "outputs": [
    {
     "name": "stdout",
     "output_type": "stream",
     "text": [
      "{'a': 10}\n"
     ]
    }
   ],
   "source": [
    "#2️⃣ Q: How do you add, update, and delete key-value pairs?\n",
    "d = {'a': 1}\n",
    "d['b'] = 2           \n",
    "d['a'] = 10          \n",
    "del d['b']           \n",
    "print(d)            \n",
    "\n"
   ]
  },
  {
   "cell_type": "code",
   "execution_count": null,
   "id": "78041edb-4b2d-4f4e-a3db-470ee1be27ea",
   "metadata": {},
   "outputs": [],
   "source": [
    "#5️⃣ Q: How to use get() safely on a dictionary?\n",
    "d = {'a': 1}\n",
    "print(d.get('a'))       # 1\n",
    "print(d.get('b'))       # None\n",
    "print(d.get('b', 0))    # 0\n"
   ]
  }
 ],
 "metadata": {
  "kernelspec": {
   "display_name": "Python [conda env:base] *",
   "language": "python",
   "name": "conda-base-py"
  },
  "language_info": {
   "codemirror_mode": {
    "name": "ipython",
    "version": 3
   },
   "file_extension": ".py",
   "mimetype": "text/x-python",
   "name": "python",
   "nbconvert_exporter": "python",
   "pygments_lexer": "ipython3",
   "version": "3.13.5"
  },
  "widgets": {
   "application/vnd.jupyter.widget-state+json": {
    "state": {},
    "version_major": 2,
    "version_minor": 0
   }
  }
 },
 "nbformat": 4,
 "nbformat_minor": 5
}
