{
 "cells": [
  {
   "cell_type": "code",
   "execution_count": 2,
   "id": "0dbca37f-efcb-458e-9b94-3d26ee0eb4ef",
   "metadata": {},
   "outputs": [],
   "source": [
    "import math"
   ]
  },
  {
   "cell_type": "code",
   "execution_count": 4,
   "id": "3163ff06-b8a9-41ff-8b6a-5d4da7c7c403",
   "metadata": {},
   "outputs": [
    {
     "data": {
      "text/plain": [
       "5.0"
      ]
     },
     "execution_count": 4,
     "metadata": {},
     "output_type": "execute_result"
    }
   ],
   "source": [
    "math.sqrt(25)"
   ]
  },
  {
   "cell_type": "code",
   "execution_count": 6,
   "id": "0c412be7-9e7d-47b3-9039-d21c1724306e",
   "metadata": {},
   "outputs": [
    {
     "data": {
      "text/plain": [
       "2"
      ]
     },
     "execution_count": 6,
     "metadata": {},
     "output_type": "execute_result"
    }
   ],
   "source": [
    "math.floor(2.4)"
   ]
  },
  {
   "cell_type": "code",
   "execution_count": 8,
   "id": "9fe54024-9781-4d79-88c2-b63ea85b0226",
   "metadata": {},
   "outputs": [
    {
     "ename": "AttributeError",
     "evalue": "module 'math' has no attribute 'power'",
     "output_type": "error",
     "traceback": [
      "\u001b[1;31m---------------------------------------------------------------------------\u001b[0m",
      "\u001b[1;31mAttributeError\u001b[0m                            Traceback (most recent call last)",
      "Cell \u001b[1;32mIn[8], line 1\u001b[0m\n\u001b[1;32m----> 1\u001b[0m math\u001b[38;5;241m.\u001b[39mpower(\u001b[38;5;241m2\u001b[39m,\u001b[38;5;241m4\u001b[39m)\n",
      "\u001b[1;31mAttributeError\u001b[0m: module 'math' has no attribute 'power'"
     ]
    }
   ],
   "source": [
    "math.power(2,4)#there no attribute in math function"
   ]
  },
  {
   "cell_type": "code",
   "execution_count": 9,
   "id": "12499424-bcb8-422f-bcf4-6fa428ccf518",
   "metadata": {},
   "outputs": [
    {
     "name": "stdout",
     "output_type": "stream",
     "text": [
      "Collecting camelcase\n",
      "  Downloading camelcase-0.2.tar.gz (1.3 kB)\n",
      "  Preparing metadata (setup.py): started\n",
      "  Preparing metadata (setup.py): finished with status 'done'\n",
      "Building wheels for collected packages: camelcase\n",
      "  Building wheel for camelcase (setup.py): started\n",
      "  Building wheel for camelcase (setup.py): finished with status 'done'\n",
      "  Created wheel for camelcase: filename=camelcase-0.2-py3-none-any.whl size=1779 sha256=48d1ad251fe5aca7055c38521d74d7270a5b17bfdb648a129132f4c898bd9666\n",
      "  Stored in directory: c:\\users\\ghote\\appdata\\local\\pip\\cache\\wheels\\05\\ec\\2d\\8af1da08772881c30648a3fc62453a9437ab3b1bfea15e4df6\n",
      "Successfully built camelcase\n",
      "Installing collected packages: camelcase\n",
      "Successfully installed camelcase-0.2\n",
      "Note: you may need to restart the kernel to use updated packages.\n"
     ]
    },
    {
     "name": "stderr",
     "output_type": "stream",
     "text": [
      "  DEPRECATION: Building 'camelcase' using the legacy setup.py bdist_wheel mechanism, which will be removed in a future version. pip 25.3 will enforce this behaviour change. A possible replacement is to use the standardized build interface by setting the `--use-pep517` option, (possibly combined with `--no-build-isolation`), or adding a `pyproject.toml` file to the source tree of 'camelcase'. Discussion can be found at https://github.com/pypa/pip/issues/6334\n"
     ]
    }
   ],
   "source": [
    "pip install camelcase"
   ]
  },
  {
   "cell_type": "code",
   "execution_count": 15,
   "id": "022717c2-781e-441c-8f56-19e3032c8d69",
   "metadata": {},
   "outputs": [
    {
     "ename": "AttributeError",
     "evalue": "module 'math' has no attribute 'camelcase'",
     "output_type": "error",
     "traceback": [
      "\u001b[1;31m---------------------------------------------------------------------------\u001b[0m",
      "\u001b[1;31mAttributeError\u001b[0m                            Traceback (most recent call last)",
      "Cell \u001b[1;32mIn[15], line 1\u001b[0m\n\u001b[1;32m----> 1\u001b[0m math\u001b[38;5;241m.\u001b[39mcamelcase(\u001b[38;5;241m2\u001b[39m)\n",
      "\u001b[1;31mAttributeError\u001b[0m: module 'math' has no attribute 'camelcase'"
     ]
    }
   ],
   "source": []
  },
  {
   "cell_type": "code",
   "execution_count": 14,
   "id": "b75e8c01-3154-4b51-a401-b590800ef92f",
   "metadata": {},
   "outputs": [
    {
     "name": "stdout",
     "output_type": "stream",
     "text": [
      "This is a Sentence That Needs CamelCasing!\n"
     ]
    }
   ],
   "source": [
    "from camelcase import CamelCase\n",
    "c = CamelCase()\n",
    "s = 'this is a sentence that needs CamelCasing!'\n",
    "print (c.hump(s))\n",
    "# This is a Sentence That Needs CamelCasing!"
   ]
  },
  {
   "cell_type": "code",
   "execution_count": 17,
   "id": "aa05e1e8-1fd5-4847-8975-7358d9082dca",
   "metadata": {},
   "outputs": [
    {
     "name": "stdout",
     "output_type": "stream",
     "text": [
      "My Name Yash Ghotekar\n"
     ]
    }
   ],
   "source": [
    "c = CamelCase()\n",
    "s = 'my name yash ghotekar'\n",
    "print (c.hump(s))"
   ]
  },
  {
   "cell_type": "code",
   "execution_count": 23,
   "id": "ab17fd01-34a3-4d61-91af-d6b8ffc7da20",
   "metadata": {},
   "outputs": [
    {
     "name": "stdout",
     "output_type": "stream",
     "text": [
      "Aditya From Pandas\n"
     ]
    }
   ],
   "source": [
    "c = CamelCase()\n",
    "s = 'aditya from pandas'\n",
    "print (c.hump(s))"
   ]
  },
  {
   "cell_type": "code",
   "execution_count": null,
   "id": "66ffcbac-93eb-4e78-841c-63e44f51e9d2",
   "metadata": {},
   "outputs": [],
   "source": []
  }
 ],
 "metadata": {
  "kernelspec": {
   "display_name": "Python [conda env:base] *",
   "language": "python",
   "name": "conda-base-py"
  },
  "language_info": {
   "codemirror_mode": {
    "name": "ipython",
    "version": 3
   },
   "file_extension": ".py",
   "mimetype": "text/x-python",
   "name": "python",
   "nbconvert_exporter": "python",
   "pygments_lexer": "ipython3",
   "version": "3.13.5"
  },
  "widgets": {
   "application/vnd.jupyter.widget-state+json": {
    "state": {},
    "version_major": 2,
    "version_minor": 0
   }
  }
 },
 "nbformat": 4,
 "nbformat_minor": 5
}
