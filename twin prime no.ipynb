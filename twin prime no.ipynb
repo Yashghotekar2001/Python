{
 "cells": [
  {
   "cell_type": "code",
   "execution_count": null,
   "id": "8492f8b2-1195-44e9-ba24-6ca3e81f6a43",
   "metadata": {},
   "outputs": [],
   "source": []
  },
  {
   "cell_type": "code",
   "execution_count": null,
   "id": "ed9168a6-55ac-4eba-a092-9cc96ce1c880",
   "metadata": {},
   "outputs": [],
   "source": []
  },
  {
   "cell_type": "code",
   "execution_count": 3,
   "id": "6e1b9992-bd62-4167-9ea9-2c30883c2a30",
   "metadata": {},
   "outputs": [
    {
     "name": "stdin",
     "output_type": "stream",
     "text": [
      "Enter a First Number: 11\n",
      "Enter a Second Number: 13\n"
     ]
    },
    {
     "name": "stdout",
     "output_type": "stream",
     "text": [
      "11 and 13 are two prime number\n"
     ]
    }
   ],
   "source": [
    "def IsPrime(num):\n",
    "    if num<=1:\n",
    "        return False\n",
    "    for i in range(2,num):\n",
    "        if num%i==0:\n",
    "            return False\n",
    "    return True\n",
    "\n",
    "\n",
    "\n",
    "num1=int(input(\"Enter a First Number:\"))\n",
    "num2=int(input(\"Enter a Second Number:\"))\n",
    "if IsPrime(num1) and IsPrime(num2):\n",
    "    if abs(num1-num2)==2:\n",
    "        print(f\"{num1} and {num2} are two prime number\")\n",
    "\n",
    "    else:\n",
    "        print(f\"{num1} and {num2} not two prime number\")\n",
    "else:\n",
    "    print(\"numbers are not prime\")"
   ]
  },
  {
   "cell_type": "code",
   "execution_count": 5,
   "id": "858a06ea-7c95-4aaf-8daa-325175d5e689",
   "metadata": {},
   "outputs": [
    {
     "name": "stdin",
     "output_type": "stream",
     "text": [
      "enter first number: 17\n",
      "enter second number: 19\n"
     ]
    },
    {
     "name": "stdout",
     "output_type": "stream",
     "text": [
      "17 and 19 are prime numbers\n"
     ]
    }
   ],
   "source": [
    "def IsPrime(num):\n",
    "    if num<=1:\n",
    "        return False\n",
    "    for i in range(2,num):\n",
    "        if num%i==0:\n",
    "            return False\n",
    "        \n",
    "    return True\n",
    "\n",
    "\n",
    "\n",
    "\n",
    "num1=int(input(\"enter first number:\"))\n",
    "num2=int(input(\"enter second number:\"))\n",
    "if IsPrime(num1) and IsPrime(num2):\n",
    "    if abs(num1-num2)==2:\n",
    "        print(f\"{num1} and {num2} are prime numbers\")\n",
    "    else:\n",
    "        print(f\"{num1} and {num2} are not prime numbers\")\n",
    "else:\n",
    "    print(\"numbers are not prime\")"
   ]
  },
  {
   "cell_type": "code",
   "execution_count": null,
   "id": "c65a7cd7-b989-4307-b2aa-65c8c5f86ef4",
   "metadata": {},
   "outputs": [],
   "source": []
  },
  {
   "cell_type": "code",
   "execution_count": null,
   "id": "ae73fbb4-e55e-4924-8e1c-934e422fbee4",
   "metadata": {},
   "outputs": [],
   "source": []
  },
  {
   "cell_type": "code",
   "execution_count": null,
   "id": "a8b38adc-b97d-4308-a799-088ae2b157e6",
   "metadata": {},
   "outputs": [],
   "source": []
  },
  {
   "cell_type": "code",
   "execution_count": null,
   "id": "2a08d62d-f690-4e40-8ac8-fb05e0f8269e",
   "metadata": {},
   "outputs": [],
   "source": []
  },
  {
   "cell_type": "code",
   "execution_count": null,
   "id": "a7e78248-7977-4c0b-a901-6224c7ccf855",
   "metadata": {},
   "outputs": [],
   "source": []
  },
  {
   "cell_type": "code",
   "execution_count": null,
   "id": "6362392e-acf3-49ff-bf49-55f027285aa1",
   "metadata": {},
   "outputs": [],
   "source": []
  }
 ],
 "metadata": {
  "kernelspec": {
   "display_name": "Python [conda env:base] *",
   "language": "python",
   "name": "conda-base-py"
  },
  "language_info": {
   "codemirror_mode": {
    "name": "ipython",
    "version": 3
   },
   "file_extension": ".py",
   "mimetype": "text/x-python",
   "name": "python",
   "nbconvert_exporter": "python",
   "pygments_lexer": "ipython3",
   "version": "3.13.5"
  },
  "widgets": {
   "application/vnd.jupyter.widget-state+json": {
    "state": {},
    "version_major": 2,
    "version_minor": 0
   }
  }
 },
 "nbformat": 4,
 "nbformat_minor": 5
}
