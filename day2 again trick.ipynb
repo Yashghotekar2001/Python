{
 "cells": [
  {
   "cell_type": "code",
   "execution_count": 1,
   "id": "a8f24a63-ec91-4f2f-b69c-213f1e9efe90",
   "metadata": {},
   "outputs": [
    {
     "name": "stdout",
     "output_type": "stream",
     "text": [
      "4\n"
     ]
    }
   ],
   "source": [
    "# Task 1: Count total digits in a number\n",
    "def count_num(n):\n",
    "    count=0\n",
    "    while n!=0:\n",
    "        n=n//10\n",
    "        count+=1\n",
    "    return count\n",
    "n=1234\n",
    "print(count_num(n))"
   ]
  },
  {
   "cell_type": "code",
   "execution_count": 8,
   "id": "8476dd4e-6ca9-446f-8391-902c18517bd9",
   "metadata": {},
   "outputs": [
    {
     "name": "stdin",
     "output_type": "stream",
     "text": [
      "Enter a number 1234567\n"
     ]
    },
    {
     "name": "stdout",
     "output_type": "stream",
     "text": [
      "28\n"
     ]
    }
   ],
   "source": [
    "#Task 2: Sum of digits in a number using for loop\n",
    "def sum_digit(num):\n",
    "    sum=0\n",
    "    for i in str(num):\n",
    "        if i.isdigit():\n",
    "            sum+=int(i)\n",
    "    return sum\n",
    "num=int(input(\"Enter a number\"))\n",
    "print(sum_digit(num))\n",
    "            \n",
    "            "
   ]
  },
  {
   "cell_type": "code",
   "execution_count": 6,
   "id": "5b744058-7b2e-4e0c-9b0f-d753a28a63f5",
   "metadata": {},
   "outputs": [
    {
     "name": "stdout",
     "output_type": "stream",
     "text": [
      "30\n"
     ]
    }
   ],
   "source": [
    "#using while loop \n",
    "def sum_digit(num):\n",
    "    sum=0\n",
    "    while num!=0:\n",
    "        sum+=num%10\n",
    "        num//=10\n",
    "    return sum\n",
    "print(sum_digit(12345456))"
   ]
  },
  {
   "cell_type": "code",
   "execution_count": 13,
   "id": "fb8776cb-ad17-4ecb-b518-cc874b76b2ed",
   "metadata": {},
   "outputs": [
    {
     "data": {
      "text/plain": [
       "'4321'"
      ]
     },
     "execution_count": 13,
     "metadata": {},
     "output_type": "execute_result"
    }
   ],
   "source": [
    "# reverse number  for using for loop\n",
    "def reverse_number(num):\n",
    "    reverse=\"\"\n",
    "    for i in num:\n",
    "        reverse=i+reverse\n",
    "    return reverse\n",
    "reverse_string(num='1234')"
   ]
  },
  {
   "cell_type": "code",
   "execution_count": 16,
   "id": "bc86c51f-10e5-4d60-93c9-c53aebfcac1c",
   "metadata": {},
   "outputs": [
    {
     "name": "stdout",
     "output_type": "stream",
     "text": [
      "8765\n"
     ]
    }
   ],
   "source": [
    "# reverse number for using while loop\n",
    "def reverse_number(num):\n",
    "    reverse=0\n",
    "    while num>0:\n",
    "        reverse=reverse*10+num%10\n",
    "        num//=10\n",
    "    return reverse\n",
    "print(reverse_number(num=5678))"
   ]
  },
  {
   "cell_type": "code",
   "execution_count": 3,
   "id": "26f07c8a-661d-4fe5-96cf-78a1906458bd",
   "metadata": {},
   "outputs": [
    {
     "name": "stdout",
     "output_type": "stream",
     "text": [
      "[1, 2, 3, 4, 5, 6, 7, 8, 9, 10]\n",
      "55\n",
      "[2, 4, 6, 8, 10]\n",
      "30\n",
      "[1, 3, 5, 7, 9]\n",
      "25\n"
     ]
    }
   ],
   "source": [
    "#Lists – Even/Odd and Aggregation\n",
    "#Focus: List operations, loops, conditionals\n",
    "def analyzed_list(num):\n",
    "    even_num=[i for i in num if i%2==0]\n",
    "    odd_num=[i for i in num if i%2!=0]\n",
    "    print(num)\n",
    "    print(sum(num))\n",
    "    print(even_num)\n",
    "    print(sum(even_num))\n",
    "    print(odd_num)\n",
    "    print(sum(odd_num))\n",
    "analyzed_list(list(range(1,11)))"
   ]
  },
  {
   "cell_type": "code",
   "execution_count": null,
   "id": "7ce5071f-4aca-4ab2-aa0f-96e0a473395a",
   "metadata": {},
   "outputs": [],
   "source": []
  },
  {
   "cell_type": "code",
   "execution_count": null,
   "id": "db4f9974-14f5-4f4d-9ce0-90378c7c6bc1",
   "metadata": {},
   "outputs": [],
   "source": []
  },
  {
   "cell_type": "code",
   "execution_count": null,
   "id": "e4733c32-dfce-493e-b970-d1afb8131225",
   "metadata": {},
   "outputs": [],
   "source": []
  },
  {
   "cell_type": "code",
   "execution_count": null,
   "id": "f78284fb-26c4-4de1-bb45-45f0e39402bc",
   "metadata": {},
   "outputs": [],
   "source": []
  },
  {
   "cell_type": "code",
   "execution_count": null,
   "id": "a7f30ba8-c93c-4ab5-a41c-6af437987d6f",
   "metadata": {},
   "outputs": [],
   "source": []
  }
 ],
 "metadata": {
  "kernelspec": {
   "display_name": "Python [conda env:base] *",
   "language": "python",
   "name": "conda-base-py"
  },
  "language_info": {
   "codemirror_mode": {
    "name": "ipython",
    "version": 3
   },
   "file_extension": ".py",
   "mimetype": "text/x-python",
   "name": "python",
   "nbconvert_exporter": "python",
   "pygments_lexer": "ipython3",
   "version": "3.13.5"
  },
  "widgets": {
   "application/vnd.jupyter.widget-state+json": {
    "state": {},
    "version_major": 2,
    "version_minor": 0
   }
  }
 },
 "nbformat": 4,
 "nbformat_minor": 5
}
