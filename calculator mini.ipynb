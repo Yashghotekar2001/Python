{
 "cells": [
  {
   "cell_type": "code",
   "execution_count": 1,
   "id": "7a59b506-3f38-47ce-9474-afbc830d25ef",
   "metadata": {},
   "outputs": [],
   "source": [
    "# i started my journey for python thats why created a basic level project "
   ]
  },
  {
   "cell_type": "code",
   "execution_count": null,
   "id": "232f98ba-a35c-4b2a-a2c4-440ce9a2ff12",
   "metadata": {},
   "outputs": [],
   "source": [
    "# we build step by step this calculator to modern calculator "
   ]
  },
  {
   "cell_type": "code",
   "execution_count": 2,
   "id": "0e208851-f840-4945-9d21-07fa744f10c8",
   "metadata": {},
   "outputs": [],
   "source": [
    "# mini project name is calculator"
   ]
  },
  {
   "cell_type": "code",
   "execution_count": 8,
   "id": "504ee5c1-9625-4d30-b14e-53b6e55553b1",
   "metadata": {},
   "outputs": [
    {
     "name": "stdout",
     "output_type": "stream",
     "text": [
      "Simple Calculator\n"
     ]
    },
    {
     "name": "stdin",
     "output_type": "stream",
     "text": [
      "Enter first number: 190\n",
      "choose operator(+,-,/,*): *\n",
      "Enter second number: 5\n"
     ]
    },
    {
     "name": "stdout",
     "output_type": "stream",
     "text": [
      "Result:950.0\n"
     ]
    }
   ],
   "source": [
    "def calculator():\n",
    "    print(\"Simple Calculator\")\n",
    "    num1=float(input(\"Enter first number:\"))\n",
    "    operator=input(\"choose operator(+,-,/,*):\")\n",
    "    num2=float(input(\"Enter second number:\"))\n",
    "\n",
    "    if operator=='+':\n",
    "        result=num1+num2\n",
    "    elif operator=='-':\n",
    "        result=num1-num2\n",
    "    elif operator=='*':\n",
    "        result=num1*num2\n",
    "    elif operator=='/':\n",
    "        result=num1/num2\n",
    "    else:\n",
    "        print(\"invalid operator.\")\n",
    "        return\n",
    "    print(f\"Result:{result}\")\n",
    "calculator()"
   ]
  },
  {
   "cell_type": "code",
   "execution_count": 9,
   "id": "982f0afc-52e7-4109-be83-976924a4c522",
   "metadata": {},
   "outputs": [
    {
     "name": "stdout",
     "output_type": "stream",
     "text": [
      "Simple Calculator\n"
     ]
    },
    {
     "name": "stdin",
     "output_type": "stream",
     "text": [
      "Enter first number: 10000\n",
      "choose operator(+,-,/,*): /\n",
      "Enter second number: 0\n"
     ]
    },
    {
     "ename": "ZeroDivisionError",
     "evalue": "float division by zero",
     "output_type": "error",
     "traceback": [
      "\u001b[1;31m---------------------------------------------------------------------------\u001b[0m",
      "\u001b[1;31mZeroDivisionError\u001b[0m                         Traceback (most recent call last)",
      "Cell \u001b[1;32mIn[9], line 19\u001b[0m\n\u001b[0;32m     17\u001b[0m         \u001b[38;5;28;01mreturn\u001b[39;00m\n\u001b[0;32m     18\u001b[0m     \u001b[38;5;28mprint\u001b[39m(\u001b[38;5;124mf\u001b[39m\u001b[38;5;124m\"\u001b[39m\u001b[38;5;124mResult:\u001b[39m\u001b[38;5;132;01m{\u001b[39;00mresult\u001b[38;5;132;01m}\u001b[39;00m\u001b[38;5;124m\"\u001b[39m)\n\u001b[1;32m---> 19\u001b[0m calculator()\n",
      "Cell \u001b[1;32mIn[9], line 14\u001b[0m, in \u001b[0;36mcalculator\u001b[1;34m()\u001b[0m\n\u001b[0;32m     12\u001b[0m     result\u001b[38;5;241m=\u001b[39mnum1\u001b[38;5;241m*\u001b[39mnum2\n\u001b[0;32m     13\u001b[0m \u001b[38;5;28;01melif\u001b[39;00m operator\u001b[38;5;241m==\u001b[39m\u001b[38;5;124m'\u001b[39m\u001b[38;5;124m/\u001b[39m\u001b[38;5;124m'\u001b[39m:\n\u001b[1;32m---> 14\u001b[0m     result\u001b[38;5;241m=\u001b[39mnum1\u001b[38;5;241m/\u001b[39mnum2\n\u001b[0;32m     15\u001b[0m \u001b[38;5;28;01melse\u001b[39;00m:\n\u001b[0;32m     16\u001b[0m     \u001b[38;5;28mprint\u001b[39m(\u001b[38;5;124m\"\u001b[39m\u001b[38;5;124minvalid operator.\u001b[39m\u001b[38;5;124m\"\u001b[39m)\n",
      "\u001b[1;31mZeroDivisionError\u001b[0m: float division by zero"
     ]
    }
   ],
   "source": [
    "def calculator():\n",
    "    print(\"Simple Calculator\")\n",
    "    num1=float(input(\"Enter first number:\"))\n",
    "    operator=input(\"choose operator(+,-,/,*):\")\n",
    "    num2=float(input(\"Enter second number:\"))\n",
    "\n",
    "    if operator=='+':\n",
    "        result=num1+num2\n",
    "    elif operator=='-':\n",
    "        result=num1-num2\n",
    "    elif operator=='*':\n",
    "        result=num1*num2\n",
    "    elif operator=='/':\n",
    "        result=num1/num2\n",
    "    else:\n",
    "        print(\"invalid operator.\")\n",
    "        return\n",
    "    print(f\"Result:{result}\")\n",
    "calculator()"
   ]
  },
  {
   "cell_type": "code",
   "execution_count": 10,
   "id": "d3b7d786-5b08-48d3-8eb3-6eadd3b096c0",
   "metadata": {},
   "outputs": [],
   "source": [
    "# in that mini project we have to add some more detailed if we divide by zero then they show erro"
   ]
  },
  {
   "cell_type": "code",
   "execution_count": 15,
   "id": "4cb8b079-c887-43f4-b404-3154704c71ed",
   "metadata": {},
   "outputs": [
    {
     "name": "stdout",
     "output_type": "stream",
     "text": [
      "Simple Calculator\n"
     ]
    },
    {
     "name": "stdin",
     "output_type": "stream",
     "text": [
      "Enter first number: 100\n",
      "choose operator(+,-,/,*): /\n",
      "Enter second number: 0\n"
     ]
    },
    {
     "name": "stdout",
     "output_type": "stream",
     "text": [
      "Error: Cannot divide by zero.\n"
     ]
    }
   ],
   "source": [
    "def calculator():\n",
    "    print(\"Simple Calculator\")\n",
    "    try:\n",
    "        num1=float(input(\"Enter first number:\"))\n",
    "        operator=input(\"choose operator(+,-,/,*):\")\n",
    "        num2=float(input(\"Enter second number:\"))\n",
    "\n",
    "        if operator=='+':\n",
    "            result=num1+num2\n",
    "        elif operator=='-':\n",
    "            result=num1-num2\n",
    "        elif operator=='*':\n",
    "            result=num1*num2\n",
    "        elif operator=='/':\n",
    "            if num2==0:\n",
    "                print(\"Error: Cannot divide by zero.\")\n",
    "                return\n",
    "            result = num1/num2\n",
    "        else:\n",
    "            print(\"invalid operator.\")\n",
    "            return\n",
    "        print(f\"Result:{result}\")\n",
    "    except ValueError:\n",
    "        print(\"Error: Please enter a valid numbers.\")\n",
    "calculator()"
   ]
  },
  {
   "cell_type": "code",
   "execution_count": 19,
   "id": "8be34fae-4901-4761-85fe-06374b38db84",
   "metadata": {},
   "outputs": [
    {
     "name": "stdout",
     "output_type": "stream",
     "text": [
      "Simple Calculator\n"
     ]
    },
    {
     "name": "stdin",
     "output_type": "stream",
     "text": [
      "Enter first number: 1000\n",
      "choose operator(+,-,/,*,**,%): %\n",
      "Enter second number: 0\n"
     ]
    },
    {
     "name": "stdout",
     "output_type": "stream",
     "text": [
      "Error: Cannot modulo by zero.\n"
     ]
    }
   ],
   "source": [
    "def calculator():\n",
    "    print(\"Simple Calculator\")\n",
    "    try:\n",
    "        num1=float(input(\"Enter first number:\"))\n",
    "        operator=input(\"choose operator(+,-,/,*,**,%):\")\n",
    "        num2=float(input(\"Enter second number:\"))\n",
    "\n",
    "        if operator=='+':\n",
    "            result=num1+num2\n",
    "        elif operator=='-':\n",
    "            result=num1-num2\n",
    "        elif operator=='*':\n",
    "            result=num1*num2\n",
    "        elif operator=='/':\n",
    "            if num2==0:\n",
    "                print(\"Error: Cannot divide by zero.\")\n",
    "                return\n",
    "            result = num1/num2\n",
    "        elif operator=='**':\n",
    "            result=num1**num2\n",
    "        elif operator=='%':\n",
    "            if num2==0:\n",
    "                print(\"Error: Cannot modulo by zero.\")\n",
    "                return\n",
    "            result=num1%num2\n",
    "        else:\n",
    "            print(\"invalid operator.\")\n",
    "            return\n",
    "        print(f\"Result:{result}\")\n",
    "    except ValueError:\n",
    "        print(\"Error: Please enter a valid numbers.\")\n",
    "calculator()"
   ]
  },
  {
   "cell_type": "code",
   "execution_count": 20,
   "id": "f45c185c-691d-469f-879f-5490bb7d62f4",
   "metadata": {},
   "outputs": [],
   "source": [
    "# I want to use continue this calculator we add something more on this code then we handle it or we are continue made calculation without stopping we add something in that"
   ]
  },
  {
   "cell_type": "code",
   "execution_count": 3,
   "id": "e0f67fc0-41bc-4a17-9056-8a8ee7759176",
   "metadata": {},
   "outputs": [
    {
     "name": "stdout",
     "output_type": "stream",
     "text": [
      "Simple Calculator\n"
     ]
    },
    {
     "name": "stdin",
     "output_type": "stream",
     "text": [
      "Enter first number: 20\n",
      "choose operator(+,-,/,*,**,%): **\n",
      "Enter second number: 5\n"
     ]
    },
    {
     "name": "stdout",
     "output_type": "stream",
     "text": [
      "Result:3200000.0\n"
     ]
    },
    {
     "name": "stdin",
     "output_type": "stream",
     "text": [
      "Do you want to perform anothe calculation? (yes/no): yes\n",
      "Enter first number: 20\n",
      "choose operator(+,-,/,*,**,%): /\n",
      "Enter second number: 0\n"
     ]
    },
    {
     "name": "stdout",
     "output_type": "stream",
     "text": [
      "Error: Cannot divide by zero.\n"
     ]
    },
    {
     "name": "stdin",
     "output_type": "stream",
     "text": [
      "Enter first number: 5\n",
      "choose operator(+,-,/,*,**,%): +\n",
      "Enter second number: 25\n"
     ]
    },
    {
     "name": "stdout",
     "output_type": "stream",
     "text": [
      "Result:30.0\n"
     ]
    },
    {
     "name": "stdin",
     "output_type": "stream",
     "text": [
      "Do you want to perform anothe calculation? (yes/no): yes\n",
      "Enter first number: 2\n",
      "choose operator(+,-,/,*,**,%): +\n",
      "Enter second number: 5\n"
     ]
    },
    {
     "name": "stdout",
     "output_type": "stream",
     "text": [
      "Result:7.0\n"
     ]
    },
    {
     "name": "stdin",
     "output_type": "stream",
     "text": [
      "Do you want to perform anothe calculation? (yes/no): no\n"
     ]
    },
    {
     "name": "stdout",
     "output_type": "stream",
     "text": [
      "Goodbye!\n"
     ]
    }
   ],
   "source": [
    " def calculator():\n",
    "    print(\"Simple Calculator\")\n",
    "    while True:\n",
    "        try:\n",
    "            num1=float(input(\"Enter first number:\"))\n",
    "            operator=input(\"choose operator(+,-,/,*,**,%):\")\n",
    "            num2=float(input(\"Enter second number:\"))\n",
    "            \n",
    "            if operator=='+':\n",
    "                result=num1+num2\n",
    "            elif operator=='-':\n",
    "                result=num1-num2\n",
    "            elif operator=='*':\n",
    "                result=num1*num2\n",
    "            elif operator=='/':\n",
    "                if num2==0:\n",
    "                    print(\"Error: Cannot divide by zero.\")\n",
    "                    continue\n",
    "                result = num1/num2\n",
    "            elif operator=='**':\n",
    "                result=num1**num2\n",
    "            elif operator=='%':\n",
    "                if num2==0:\n",
    "                    print(\"Error: Cannot modulo by zero.\")\n",
    "                    continue\n",
    "                result=num1%num2\n",
    "            else:\n",
    "                print(\"invalid operator.\")\n",
    "                continue\n",
    "            print(f\"Result:{result}\")\n",
    "        except ValueError:\n",
    "            print(\"Error: Please enter a valid numbers.\")\n",
    "            continue\n",
    "        choice=input(\"Do you want to perform anothe calculation? (yes/no):\")\n",
    "        if choice !='yes':\n",
    "            print(\"Goodbye!\")\n",
    "            break\n",
    "        \n",
    "calculator()"
   ]
  },
  {
   "cell_type": "code",
   "execution_count": 3,
   "id": "9cfd845f-e160-4aff-905d-ea90531627f7",
   "metadata": {},
   "outputs": [
    {
     "name": "stdout",
     "output_type": "stream",
     "text": [
      "Simple Calculator\n"
     ]
    },
    {
     "name": "stdin",
     "output_type": "stream",
     "text": [
      "Enter first number: 72\n",
      "Choose operator (+, -, *, /, **, %, sqrt, area circle):  sqrt\n"
     ]
    },
    {
     "name": "stdout",
     "output_type": "stream",
     "text": [
      "√72.0 = 8.48528137423857\n"
     ]
    },
    {
     "name": "stdin",
     "output_type": "stream",
     "text": [
      "Do you want to perform anothe calculation? (yes/no): no\n"
     ]
    },
    {
     "name": "stdout",
     "output_type": "stream",
     "text": [
      "Goodbye!\n"
     ]
    }
   ],
   "source": [
    "# In this calculator add something thats make my calculator is smart calculator in this\n",
    "# code we have add like square root , area of circle \n",
    "def calculator():\n",
    "    print(\"Simple Calculator\")\n",
    "    while True:\n",
    "        try:\n",
    "            num1=float(input(\"Enter first number:\"))\n",
    "            operator = input(\"Choose operator (+, -, *, /, **, %, sqrt, area circle): \").lower()\n",
    "            if operator == 'sqrt':\n",
    "                if num1 < 0:\n",
    "                    print(\"❌ Error: Cannot take square root of negative number.\")\n",
    "                    continue\n",
    "                result = num1 ** 0.5\n",
    "                print(f\"√{num1} = {result}\")\n",
    "            elif operator == 'area circle':\n",
    "                radius = num1\n",
    "                result = 3.14159 * (radius ** 2)\n",
    "                print(f\"🟢 Area of circle with radius {radius} = {result:.2f}\")\n",
    "            else:\n",
    "                num2=float(input(\"Enter second number:\"))\n",
    "                if operator=='+':\n",
    "                    result=num1+num2\n",
    "                elif operator=='-':\n",
    "                    result=num1-num2\n",
    "                elif operator=='*':\n",
    "                    result=num1*num2\n",
    "                elif operator=='/':\n",
    "                    if num2==0:\n",
    "                        print(\"Error: Cannot divide by zero.\")\n",
    "                        continue\n",
    "                    result = num1/num2\n",
    "                elif operator=='**':\n",
    "                    result=num1**num2\n",
    "                elif operator=='%':\n",
    "                    if num2==0:\n",
    "                        print(\"Error: Cannot modulo by zero.\")\n",
    "                        continue\n",
    "                    result=num1%num2\n",
    "                else:\n",
    "                    print(\"invalid operator.\")\n",
    "                    continue\n",
    "                print(f\"Result:{result}\")\n",
    "        except ValueError:\n",
    "            print(\"Error: Please enter a valid numbers.\")\n",
    "            continue\n",
    "        choice=input(\"Do you want to perform anothe calculation? (yes/no):\")\n",
    "        if choice !='yes':\n",
    "            print(\"Goodbye!\")\n",
    "            break\n",
    "calculator()"
   ]
  },
  {
   "cell_type": "code",
   "execution_count": null,
   "id": "bedb0fbc-af3c-46b6-9078-0c4eb96e8b4a",
   "metadata": {},
   "outputs": [],
   "source": []
  }
 ],
 "metadata": {
  "kernelspec": {
   "display_name": "Python [conda env:base] *",
   "language": "python",
   "name": "conda-base-py"
  },
  "language_info": {
   "codemirror_mode": {
    "name": "ipython",
    "version": 3
   },
   "file_extension": ".py",
   "mimetype": "text/x-python",
   "name": "python",
   "nbconvert_exporter": "python",
   "pygments_lexer": "ipython3",
   "version": "3.13.5"
  },
  "widgets": {
   "application/vnd.jupyter.widget-state+json": {
    "state": {},
    "version_major": 2,
    "version_minor": 0
   }
  }
 },
 "nbformat": 4,
 "nbformat_minor": 5
}
