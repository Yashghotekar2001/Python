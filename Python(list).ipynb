{
 "cells": [
  {
   "cell_type": "code",
   "execution_count": 1,
   "id": "bea636c5-35bf-45e9-9b9e-e71601053463",
   "metadata": {},
   "outputs": [
    {
     "data": {
      "text/plain": [
       "list"
      ]
     },
     "execution_count": 1,
     "metadata": {},
     "output_type": "execute_result"
    }
   ],
   "source": [
    "l3=[10,20,30,40,50]\n",
    "type(l3)"
   ]
  },
  {
   "cell_type": "code",
   "execution_count": 2,
   "id": "27b5dbe5-fddf-432d-8165-f57c03e6e55c",
   "metadata": {},
   "outputs": [
    {
     "name": "stdout",
     "output_type": "stream",
     "text": [
      "<class 'list'>\n"
     ]
    }
   ],
   "source": [
    "print(type(l3))"
   ]
  },
  {
   "cell_type": "code",
   "execution_count": 3,
   "id": "e2b25a61-6b44-4b72-82bf-570f0b16239c",
   "metadata": {},
   "outputs": [
    {
     "data": {
      "text/plain": [
       "30"
      ]
     },
     "execution_count": 3,
     "metadata": {},
     "output_type": "execute_result"
    }
   ],
   "source": [
    "l3[2]"
   ]
  },
  {
   "cell_type": "code",
   "execution_count": 4,
   "id": "061c37bc-a49b-4d58-bb47-61c1906ae2ea",
   "metadata": {},
   "outputs": [
    {
     "data": {
      "text/plain": [
       "30"
      ]
     },
     "execution_count": 4,
     "metadata": {},
     "output_type": "execute_result"
    }
   ],
   "source": [
    "l3[-3]"
   ]
  },
  {
   "cell_type": "code",
   "execution_count": 5,
   "id": "1531caa2-dac1-47e8-9c4d-110dbd67172c",
   "metadata": {},
   "outputs": [
    {
     "data": {
      "text/plain": [
       "[]"
      ]
     },
     "execution_count": 5,
     "metadata": {},
     "output_type": "execute_result"
    }
   ],
   "source": [
    "l3[1:4:-1]"
   ]
  },
  {
   "cell_type": "code",
   "execution_count": 6,
   "id": "180f48f8-d3a0-4066-a669-7ee3dc62f0d0",
   "metadata": {},
   "outputs": [
    {
     "data": {
      "text/plain": [
       "[20, 30]"
      ]
     },
     "execution_count": 6,
     "metadata": {},
     "output_type": "execute_result"
    }
   ],
   "source": [
    "l3[1:3]"
   ]
  },
  {
   "cell_type": "code",
   "execution_count": 7,
   "id": "01ce355c-1582-48a5-b23e-0e38fd8caedb",
   "metadata": {},
   "outputs": [
    {
     "data": {
      "text/plain": [
       "[10, 20, 30, 40]"
      ]
     },
     "execution_count": 7,
     "metadata": {},
     "output_type": "execute_result"
    }
   ],
   "source": [
    "l3[:4]"
   ]
  },
  {
   "cell_type": "code",
   "execution_count": 8,
   "id": "d5f9dba9-830f-4251-93e0-c14b208ac885",
   "metadata": {},
   "outputs": [
    {
     "data": {
      "text/plain": [
       "[10, 20, 30, 40, 50]"
      ]
     },
     "execution_count": 8,
     "metadata": {},
     "output_type": "execute_result"
    }
   ],
   "source": [
    "l3[:]"
   ]
  },
  {
   "cell_type": "code",
   "execution_count": 9,
   "id": "07de0f3b-0f0b-4f42-b423-c77e19275f6c",
   "metadata": {},
   "outputs": [
    {
     "data": {
      "text/plain": [
       "[]"
      ]
     },
     "execution_count": 9,
     "metadata": {},
     "output_type": "execute_result"
    }
   ],
   "source": [
    "l3[-1:-5]"
   ]
  },
  {
   "cell_type": "code",
   "execution_count": 11,
   "id": "65bb185a-7924-422e-81a5-11897458f22d",
   "metadata": {},
   "outputs": [
    {
     "data": {
      "text/plain": [
       "[50, 40, 30, 20]"
      ]
     },
     "execution_count": 11,
     "metadata": {},
     "output_type": "execute_result"
    }
   ],
   "source": [
    "l3[-1:-5:-1]"
   ]
  },
  {
   "cell_type": "code",
   "execution_count": 12,
   "id": "2e75d075-d379-4d3f-b942-ee4318d15ada",
   "metadata": {},
   "outputs": [],
   "source": [
    "l4=[1,\"ram\",78.95]"
   ]
  },
  {
   "cell_type": "code",
   "execution_count": 13,
   "id": "52454f6b-3048-490a-823b-2c3663e35a7a",
   "metadata": {},
   "outputs": [
    {
     "data": {
      "text/plain": [
       "[10, 20, 30, 40, 50, 1, 'ram', 78.95]"
      ]
     },
     "execution_count": 13,
     "metadata": {},
     "output_type": "execute_result"
    }
   ],
   "source": [
    "l3+l4"
   ]
  },
  {
   "cell_type": "code",
   "execution_count": 14,
   "id": "8e8b9a64-2da6-4a56-aa88-61672962dc9f",
   "metadata": {},
   "outputs": [
    {
     "data": {
      "text/plain": [
       "5"
      ]
     },
     "execution_count": 14,
     "metadata": {},
     "output_type": "execute_result"
    }
   ],
   "source": [
    "len(l3)"
   ]
  },
  {
   "cell_type": "code",
   "execution_count": 15,
   "id": "72c955c3-3320-4e48-8003-2aaee57d3fc9",
   "metadata": {},
   "outputs": [],
   "source": [
    "l3.append(60)"
   ]
  },
  {
   "cell_type": "code",
   "execution_count": 16,
   "id": "a4f482d8-9960-439a-a591-e807ee650850",
   "metadata": {},
   "outputs": [
    {
     "data": {
      "text/plain": [
       "[10, 20, 30, 40, 50, 60]"
      ]
     },
     "execution_count": 16,
     "metadata": {},
     "output_type": "execute_result"
    }
   ],
   "source": [
    "l3"
   ]
  },
  {
   "cell_type": "code",
   "execution_count": 35,
   "id": "8eb8cc3c-30e1-408d-946b-ac871231516e",
   "metadata": {},
   "outputs": [
    {
     "data": {
      "text/plain": [
       "[10, 20, 30, 100, 100, 100, 100, 70, 70, 70, 40, 50, 60, 70, 100, 200]"
      ]
     },
     "execution_count": 35,
     "metadata": {},
     "output_type": "execute_result"
    }
   ],
   "source": [
    "l3.insert(3,100)\n",
    "l3"
   ]
  },
  {
   "cell_type": "code",
   "execution_count": 37,
   "id": "111d2fed-59bb-4d44-9794-46fdcb95ff38",
   "metadata": {},
   "outputs": [
    {
     "data": {
      "text/plain": [
       "[10, 20, 30, 100, 100, 70, 70, 70, 40, 50, 60, 70, 100, 200]"
      ]
     },
     "execution_count": 37,
     "metadata": {},
     "output_type": "execute_result"
    }
   ],
   "source": [
    "l3.remove(100)\n",
    "l3"
   ]
  },
  {
   "cell_type": "code",
   "execution_count": 41,
   "id": "28101ccb-803b-485d-aafe-9e1853f33eb2",
   "metadata": {},
   "outputs": [
    {
     "data": {
      "text/plain": [
       "[10, 20, 30, 40, 50]"
      ]
     },
     "execution_count": 41,
     "metadata": {},
     "output_type": "execute_result"
    }
   ],
   "source": [
    "l3=[10,20,30,40,50]\n",
    "l3"
   ]
  },
  {
   "cell_type": "code",
   "execution_count": 43,
   "id": "ac5a9cc3-2040-4ff8-90e9-33ace0d7a959",
   "metadata": {},
   "outputs": [
    {
     "data": {
      "text/plain": [
       "[10, 20, 30, 40, 50, 60, 60]"
      ]
     },
     "execution_count": 43,
     "metadata": {},
     "output_type": "execute_result"
    }
   ],
   "source": [
    "l3.append(60)\n",
    "l3"
   ]
  },
  {
   "cell_type": "code",
   "execution_count": 44,
   "id": "7b160490-82de-48ee-81b4-75ff54e30201",
   "metadata": {},
   "outputs": [
    {
     "name": "stdout",
     "output_type": "stream",
     "text": [
      "[10, 20, 30, 100, 40, 50, 60, 60]\n"
     ]
    }
   ],
   "source": [
    "l3.insert(3,100)\n",
    "print(l3)"
   ]
  },
  {
   "cell_type": "code",
   "execution_count": 48,
   "id": "a0ea5625-9ffa-4911-b60b-97c99b6205d4",
   "metadata": {},
   "outputs": [
    {
     "data": {
      "text/plain": [
       "[10, 20, 30, 100, 40, 50, 60, 60, 100, 100, 200, 300]"
      ]
     },
     "execution_count": 48,
     "metadata": {},
     "output_type": "execute_result"
    }
   ],
   "source": [
    "l3.extend([100,200,300])\n",
    "l3"
   ]
  },
  {
   "cell_type": "code",
   "execution_count": 49,
   "id": "8b1ef7f3-3b74-4e75-966f-2b78830ca2a2",
   "metadata": {},
   "outputs": [
    {
     "name": "stdout",
     "output_type": "stream",
     "text": [
      "<class 'list'>\n"
     ]
    }
   ],
   "source": [
    "print(type(l4))"
   ]
  },
  {
   "cell_type": "code",
   "execution_count": 50,
   "id": "ac97fd35-4a37-40a3-9f35-6b092d5bf2b3",
   "metadata": {},
   "outputs": [
    {
     "data": {
      "text/plain": [
       "[10, 20, 30, 100, 40, 50, 60, 60, 100, 100, 200]"
      ]
     },
     "execution_count": 50,
     "metadata": {},
     "output_type": "execute_result"
    }
   ],
   "source": [
    "l3.pop()\n",
    "l3"
   ]
  },
  {
   "cell_type": "code",
   "execution_count": 51,
   "id": "1a4c2535-8c47-4441-a1ec-533aacb63f89",
   "metadata": {},
   "outputs": [
    {
     "data": {
      "text/plain": [
       "50"
      ]
     },
     "execution_count": 51,
     "metadata": {},
     "output_type": "execute_result"
    }
   ],
   "source": [
    "l3.pop(5)"
   ]
  },
  {
   "cell_type": "code",
   "execution_count": 55,
   "id": "79f051f9-bc3d-4550-a2ea-e991a97fdf30",
   "metadata": {},
   "outputs": [
    {
     "data": {
      "text/plain": [
       "[10, 20, 30, 40, 60, 60, 100, 100, 200]"
      ]
     },
     "execution_count": 55,
     "metadata": {},
     "output_type": "execute_result"
    }
   ],
   "source": [
    "l3.remove(100)\n",
    "l3"
   ]
  },
  {
   "cell_type": "code",
   "execution_count": 56,
   "id": "108e1f40-3312-4c99-b4fa-ac5d603d89ed",
   "metadata": {},
   "outputs": [
    {
     "data": {
      "text/plain": [
       "[10, 20, 30, 40, 60, 60, 100, 200]"
      ]
     },
     "execution_count": 56,
     "metadata": {},
     "output_type": "execute_result"
    }
   ],
   "source": [
    "l3.remove(100)\n",
    "l3"
   ]
  },
  {
   "cell_type": "code",
   "execution_count": 58,
   "id": "ec388d4a-b219-4f6a-8caf-551813e50ba1",
   "metadata": {},
   "outputs": [
    {
     "data": {
      "text/plain": [
       "[10, 20, 30, 40, 60, 200]"
      ]
     },
     "execution_count": 58,
     "metadata": {},
     "output_type": "execute_result"
    }
   ],
   "source": [
    "del l3[5]\n",
    "l3"
   ]
  },
  {
   "cell_type": "code",
   "execution_count": null,
   "id": "d498e31f-faaf-4169-8d50-8e47d85a4db2",
   "metadata": {},
   "outputs": [],
   "source": [
    "# create a list of i to 10 no. print sum of all element , sum of even elements,sum of odd elements,list of odd elements, list of even elements\n"
   ]
  },
  {
   "cell_type": "code",
   "execution_count": 1,
   "id": "5d0145a4-d61b-42d0-82ed-94872863c65b",
   "metadata": {},
   "outputs": [
    {
     "data": {
      "text/plain": [
       "[1, 2, 3, 4, 5, 6, 7, 8, 9, 10]"
      ]
     },
     "execution_count": 1,
     "metadata": {},
     "output_type": "execute_result"
    }
   ],
   "source": [
    "l1=[1,2,3,4,5,6,7,8,9,10]\n",
    "l1"
   ]
  },
  {
   "cell_type": "code",
   "execution_count": 2,
   "id": "af0e664b-d216-4cea-a40b-fbf957c259c6",
   "metadata": {},
   "outputs": [
    {
     "data": {
      "text/plain": [
       "55"
      ]
     },
     "execution_count": 2,
     "metadata": {},
     "output_type": "execute_result"
    }
   ],
   "source": [
    "l1=[1,2,3,4,5,6,7,8,9,10]\n",
    "total=sum(l1)\n",
    "total"
   ]
  },
  {
   "cell_type": "code",
   "execution_count": 3,
   "id": "f574e4aa-4505-426f-b86e-5a6e4f7f825b",
   "metadata": {},
   "outputs": [
    {
     "data": {
      "text/plain": [
       "[1, 2, 3, 4, 5]"
      ]
     },
     "execution_count": 3,
     "metadata": {},
     "output_type": "execute_result"
    }
   ],
   "source": [
    "l2=[1,2,3,4,5]\n",
    "l2\n"
   ]
  },
  {
   "cell_type": "code",
   "execution_count": 4,
   "id": "1d4d8ce4-83f5-4560-82fa-ba72862d5f26",
   "metadata": {},
   "outputs": [
    {
     "data": {
      "text/plain": [
       "15"
      ]
     },
     "execution_count": 4,
     "metadata": {},
     "output_type": "execute_result"
    }
   ],
   "source": [
    "total = sum(l2)\n",
    "total"
   ]
  },
  {
   "cell_type": "code",
   "execution_count": null,
   "id": "d478e292-9528-45e0-a23e-41ce73708eda",
   "metadata": {},
   "outputs": [],
   "source": []
  }
 ],
 "metadata": {
  "kernelspec": {
   "display_name": "Python [conda env:base] *",
   "language": "python",
   "name": "conda-base-py"
  },
  "language_info": {
   "codemirror_mode": {
    "name": "ipython",
    "version": 3
   },
   "file_extension": ".py",
   "mimetype": "text/x-python",
   "name": "python",
   "nbconvert_exporter": "python",
   "pygments_lexer": "ipython3",
   "version": "3.13.5"
  },
  "widgets": {
   "application/vnd.jupyter.widget-state+json": {
    "state": {},
    "version_major": 2,
    "version_minor": 0
   }
  }
 },
 "nbformat": 4,
 "nbformat_minor": 5
}
