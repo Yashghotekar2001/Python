{
 "cells": [
  {
   "cell_type": "code",
   "execution_count": 1,
   "id": "732f1e60-eca1-4794-84c9-42b90098d523",
   "metadata": {},
   "outputs": [],
   "source": [
    "import numpy as np\n",
    "import statistics as stats"
   ]
  },
  {
   "cell_type": "code",
   "execution_count": 2,
   "id": "c2b53c77-fd8e-4ca6-b965-90bbb1ad0288",
   "metadata": {},
   "outputs": [],
   "source": [
    "data = [12, 15, 12, 18, 19, 20, 21, 22, 22, 22, 24]"
   ]
  },
  {
   "cell_type": "code",
   "execution_count": 5,
   "id": "fc817adf-02a3-4762-802b-b8dcba154e03",
   "metadata": {},
   "outputs": [
    {
     "name": "stdout",
     "output_type": "stream",
     "text": [
      "18.818181818181817\n",
      "20\n",
      "22\n",
      "4.1429019254185055\n",
      "17.163636363636364\n"
     ]
    }
   ],
   "source": [
    "print(stats.mean(data))\n",
    "print(stats.median(data))\n",
    "print(stats.mode(data))\n",
    "print(stats.stdev(data))\n",
    "print(stats.variance(data))"
   ]
  },
  {
   "cell_type": "code",
   "execution_count": 10,
   "id": "5480ea15-b44d-456a-ba82-406aa742f768",
   "metadata": {},
   "outputs": [
    {
     "name": "stdout",
     "output_type": "stream",
     "text": [
      "18.818181818181817\n",
      "20.0\n",
      "3.9501019968000786\n",
      "15.603305785123966\n"
     ]
    }
   ],
   "source": [
    "print(np.mean(data))\n",
    "print(np.median(data))\n",
    "print(np.std(data))\n",
    "print(np.var(data))"
   ]
  },
  {
   "cell_type": "code",
   "execution_count": 11,
   "id": "bd1f3783-d68d-4944-8943-81d24aeb5790",
   "metadata": {},
   "outputs": [
    {
     "name": "stdout",
     "output_type": "stream",
     "text": [
      "           marks\n",
      "count   8.000000\n",
      "mean   33.750000\n",
      "std    15.979898\n",
      "min    10.000000\n",
      "25%    20.000000\n",
      "50%    35.000000\n",
      "75%    50.000000\n",
      "max    50.000000\n"
     ]
    }
   ],
   "source": [
    "import pandas as pd\n",
    "\n",
    "df = pd.DataFrame({'marks': [10, 20, 20, 30, 40, 50, 50, 50]})\n",
    "print(df.describe())  # Gives count, mean, std, min, max, etc.\n"
   ]
  },
  {
   "cell_type": "code",
   "execution_count": 16,
   "id": "14f33e2e-77f1-470e-a000-7e6317da9130",
   "metadata": {},
   "outputs": [],
   "source": [
    "import numpy as np\n",
    "import scipy.stats as stats\n",
    "import matplotlib.pyplot as plt\n"
   ]
  },
  {
   "cell_type": "code",
   "execution_count": null,
   "id": "9b3b54fd-5ff8-44bc-91ec-f4b190df1da2",
   "metadata": {},
   "outputs": [],
   "source": [
    "population = np.random.normal(loc=50, scale=10, size=1000)  # mean=50, std=10\n",
    "\n",
    "# Take a sample from population\n",
    "sample = np.random.choice(population, size=100, replace=False)\n",
    "\n",
    "# Descriptive statistics on sample\n",
    "sample_mean = np.mean(sample)\n",
    "sample_std = np.std(sample, ddof=1)\n",
    "\n",
    "print(\"Sample Mean:\", sample_mean)\n",
    "print(\"Sample Standard Deviation:\", sample_std)\n",
    "\n",
    "# Inferential Statistics: Confidence Interval for the mean\n",
    "conf_int = stats.t.interval(0.95, df=len(sample)-1, loc=sample_mean, scale=stats.sem(sample))\n",
    "print(\"95% Confidence Interval for the Mean:\", conf_int)\n",
    "\n",
    "# Plotting\n",
    "plt.hist(population, bins=30, alpha=0.5, label='Population')\n",
    "plt.hist(sample, bins=30, alpha=0.5, label='Sample')\n",
    "plt.axvline(sample_mean, color='red', label='Sample Mean')\n",
    "plt.legend()\n",
    "plt.title(\"Population vs Sample\")\n",
    "plt.xlabel(\"Value\")\n",
    "plt.ylabel(\"Frequency\")\n",
    "plt.show()\n"
   ]
  },
  {
   "cell_type": "code",
   "execution_count": null,
   "id": "dbfc7673-3df6-41c9-88b0-56a51d9d3af9",
   "metadata": {},
   "outputs": [
    {
     "name": "stdout",
     "output_type": "stream",
     "text": [
      "\n",
      "1. Add Task\n",
      "2. View Tasks\n",
      "3. Delete Task\n",
      "4. Exit\n"
     ]
    },
    {
     "name": "stdin",
     "output_type": "stream",
     "text": [
      "Choose an option:  Python complete project\n"
     ]
    },
    {
     "name": "stdout",
     "output_type": "stream",
     "text": [
      "Invalid choice!\n",
      "\n",
      "1. Add Task\n",
      "2. View Tasks\n",
      "3. Delete Task\n",
      "4. Exit\n"
     ]
    },
    {
     "name": "stdin",
     "output_type": "stream",
     "text": [
      "Choose an option:  1\n",
      "Enter a new task:  Python complete project\n"
     ]
    },
    {
     "name": "stdout",
     "output_type": "stream",
     "text": [
      "Task added!\n",
      "\n",
      "1. Add Task\n",
      "2. View Tasks\n",
      "3. Delete Task\n",
      "4. Exit\n"
     ]
    },
    {
     "name": "stdin",
     "output_type": "stream",
     "text": [
      "Choose an option:  3\n"
     ]
    },
    {
     "name": "stdout",
     "output_type": "stream",
     "text": [
      "1. Python complete project\n"
     ]
    }
   ],
   "source": [
    "import json\n",
    "\n",
    "def load_tasks():\n",
    "    try:\n",
    "        with open(\"tasks.json\", \"r\") as file:\n",
    "            return json.load(file)\n",
    "    except FileNotFoundError:\n",
    "        return []\n",
    "\n",
    "def save_tasks(tasks):\n",
    "    with open(\"tasks.json\", \"w\") as file:\n",
    "        json.dump(tasks, file)\n",
    "\n",
    "def display_tasks(tasks):\n",
    "    if not tasks:\n",
    "        print(\"No tasks found!\")\n",
    "    for i, task in enumerate(tasks, 1):\n",
    "        print(f\"{i}. {task}\")\n",
    "\n",
    "def main():\n",
    "    tasks = load_tasks()\n",
    "    while True:\n",
    "        print(\"\\n1. Add Task\\n2. View Tasks\\n3. Delete Task\\n4. Exit\")\n",
    "        choice = input(\"Choose an option: \")\n",
    "        \n",
    "        if choice == \"1\":\n",
    "            task = input(\"Enter a new task: \")\n",
    "            tasks.append(task)\n",
    "            save_tasks(tasks)\n",
    "            print(\"Task added!\")\n",
    "        \n",
    "        elif choice == \"2\":\n",
    "            display_tasks(tasks)\n",
    "        \n",
    "        elif choice == \"3\":\n",
    "            display_tasks(tasks)\n",
    "            task_num = int(input(\"Enter task number to delete: \"))\n",
    "            if 1 <= task_num <= len(tasks):\n",
    "                tasks.pop(task_num - 1)\n",
    "                save_tasks(tasks)\n",
    "                print(\"Task deleted!\")\n",
    "            else:\n",
    "                print(\"Invalid task number!\")\n",
    "        \n",
    "        elif choice == \"4\":\n",
    "            print(\"Goodbye!\")\n",
    "            break\n",
    "        else:\n",
    "            print(\"Invalid choice!\")\n",
    "\n",
    "if __name__ == \"__main__\":\n",
    "    main()\n"
   ]
  },
  {
   "cell_type": "code",
   "execution_count": null,
   "id": "2bcdab5f-a662-4f65-923a-7bdbe78a6150",
   "metadata": {},
   "outputs": [],
   "source": []
  }
 ],
 "metadata": {
  "kernelspec": {
   "display_name": "Python [conda env:base] *",
   "language": "python",
   "name": "conda-base-py"
  },
  "language_info": {
   "codemirror_mode": {
    "name": "ipython",
    "version": 3
   },
   "file_extension": ".py",
   "mimetype": "text/x-python",
   "name": "python",
   "nbconvert_exporter": "python",
   "pygments_lexer": "ipython3",
   "version": "3.13.5"
  },
  "widgets": {
   "application/vnd.jupyter.widget-state+json": {
    "state": {},
    "version_major": 2,
    "version_minor": 0
   }
  }
 },
 "nbformat": 4,
 "nbformat_minor": 5
}
