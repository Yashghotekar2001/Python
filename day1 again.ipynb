{
 "cells": [
  {
   "cell_type": "code",
   "execution_count": 8,
   "id": "009a1ca2-811e-4d0a-865e-978a55b28242",
   "metadata": {},
   "outputs": [
    {
     "name": "stdout",
     "output_type": "stream",
     "text": [
      "1 occurs 3 times\n",
      "2 occurs 3 times\n",
      "3 occurs 3 times\n",
      "4 occurs 2 times\n"
     ]
    }
   ],
   "source": [
    "list1=[1,2,3,2,2,3,3,4,4,1,1]\n",
    "freq={}\n",
    "for i in list1:\n",
    "    if i in freq:\n",
    "        freq[i]+=1\n",
    "    else:\n",
    "        freq[i]=1\n",
    "for key,value in freq.items():\n",
    "    print(f\"{key} occurs {value} times\")"
   ]
  },
  {
   "cell_type": "code",
   "execution_count": 10,
   "id": "23356e05-a63d-4c5a-a6e2-078e77140428",
   "metadata": {},
   "outputs": [
    {
     "name": "stdout",
     "output_type": "stream",
     "text": [
      "{1: 3, 2: 3, 3: 3, 4: 2}\n"
     ]
    }
   ],
   "source": [
    "list1=[1,2,3,2,2,3,3,4,4,1,1]\n",
    "freq={}\n",
    "for i in list1:\n",
    "    if i in freq:\n",
    "        freq[i]+=1\n",
    "    else:\n",
    "        freq[i]=1\n",
    "print(freq)"
   ]
  },
  {
   "cell_type": "code",
   "execution_count": 13,
   "id": "9f79c801-10bc-44ee-932d-aa3871643835",
   "metadata": {},
   "outputs": [
    {
     "name": "stdout",
     "output_type": "stream",
     "text": [
      "{'apple': 3, 'banana': 2, 'orange': 1}\n"
     ]
    }
   ],
   "source": [
    "orders = ['apple', 'banana', 'apple', 'orange', 'banana', 'apple']\n",
    "fruits={}\n",
    "for i in orders:\n",
    "    if i in fruits:\n",
    "        fruits[i]+=1\n",
    "    else:\n",
    "        fruits[i]=1\n",
    "print(fruits)"
   ]
  },
  {
   "cell_type": "code",
   "execution_count": 14,
   "id": "ec535b81-5a58-44e0-b0dc-954fd35141b1",
   "metadata": {},
   "outputs": [
    {
     "name": "stdout",
     "output_type": "stream",
     "text": [
      "apple occurs 3 times\n",
      "banana occurs 2 times\n",
      "orange occurs 1 times\n"
     ]
    }
   ],
   "source": [
    "orders = ['apple', 'banana', 'apple', 'orange', 'banana', 'apple']\n",
    "fruits={}\n",
    "for i in orders:\n",
    "    if i in fruits:\n",
    "        fruits[i]+=1\n",
    "    else:\n",
    "        fruits[i]=1\n",
    "for key,value in fruits.items():\n",
    "    print(f\"{key} occurs {value} times\")"
   ]
  },
  {
   "cell_type": "code",
   "execution_count": 16,
   "id": "6d5ec764-261c-4401-9d6d-47a2337c342f",
   "metadata": {},
   "outputs": [
    {
     "name": "stdout",
     "output_type": "stream",
     "text": [
      "3\n",
      "4\n"
     ]
    }
   ],
   "source": [
    "nums = [10, 21, 4, 45, 66, 93, 1]\n",
    "even_count = 0\n",
    "odd_count = 0\n",
    "for i in nums:\n",
    "    if i%2==0:\n",
    "        even_count+=1\n",
    "    else:\n",
    "        odd_count+=1\n",
    "print(even_count)\n",
    "print(odd_count)"
   ]
  },
  {
   "cell_type": "code",
   "execution_count": 20,
   "id": "1b0ee957-aef4-4fd3-a363-f86acfab6888",
   "metadata": {},
   "outputs": [
    {
     "name": "stdout",
     "output_type": "stream",
     "text": [
      "4\n",
      "3\n",
      "2\n"
     ]
    }
   ],
   "source": [
    "numbers = [1, -3, 5, 0, -1, -2, 4, 0, 6]\n",
    "positive=0\n",
    "negative=0\n",
    "zero=0\n",
    "for i in numbers:\n",
    "    if i>0:\n",
    "        positive+=1\n",
    "    elif i<0:\n",
    "        negative+=1\n",
    "    else:\n",
    "        zero+=1\n",
    "print(positive)\n",
    "print(negative)\n",
    "print(zero)"
   ]
  },
  {
   "cell_type": "code",
   "execution_count": 24,
   "id": "8370f67d-bb3b-4ede-b0f1-9123b6cdf72c",
   "metadata": {},
   "outputs": [
    {
     "name": "stdout",
     "output_type": "stream",
     "text": [
      "6\n"
     ]
    }
   ],
   "source": [
    "number = 124586\n",
    "count = 0\n",
    "for i in str(number):\n",
    "    if i.isdigit():\n",
    "        count+=1\n",
    "print(count)\n",
    "    "
   ]
  },
  {
   "cell_type": "code",
   "execution_count": 28,
   "id": "d3c6c83a-ac2c-4f57-9a06-883abfdb1c09",
   "metadata": {},
   "outputs": [
    {
     "name": "stdout",
     "output_type": "stream",
     "text": [
      "{'Alice': 2, 'Bob': 2, 'Eve': 3, 'Charlie': 1}\n"
     ]
    }
   ],
   "source": [
    "students = [\"Alice\", \"Bob\", \"Alice\", \"Eve\", \"Bob\", \"Charlie\", \"Eve\", \"Eve\"]\n",
    "bb={}\n",
    "\n",
    "for i in students:\n",
    "    if i in bb:\n",
    "        bb[i]+=1\n",
    "    else:\n",
    "        bb[i]=1\n",
    "print(bb)"
   ]
  },
  {
   "cell_type": "code",
   "execution_count": 29,
   "id": "55183892-8ea9-4522-bcdf-76b4659d7a55",
   "metadata": {},
   "outputs": [
    {
     "name": "stdout",
     "output_type": "stream",
     "text": [
      "Repeated Students:\n",
      "1\n",
      "2\n"
     ]
    }
   ],
   "source": [
    "print(\"Repeated Students:\")\n",
    "for name, count in frequency.items():\n",
    "    if count > 1:\n",
    "        print(name)"
   ]
  },
  {
   "cell_type": "code",
   "execution_count": 45,
   "id": "4d163078-06a6-42b7-baca-f1adcd96f33b",
   "metadata": {},
   "outputs": [
    {
     "name": "stdin",
     "output_type": "stream",
     "text": [
      "Enter a Number 1234\n"
     ]
    },
    {
     "name": "stdout",
     "output_type": "stream",
     "text": [
      "10\n",
      "24\n"
     ]
    }
   ],
   "source": [
    "def digit_sum_product(number):\n",
    "    total_sum=0\n",
    "    total_product=1\n",
    "    for digit in str(number):\n",
    "        if digit.isdigit():\n",
    "            total_sum+=int(digit)\n",
    "            total_product*=int(digit)\n",
    "    return total_sum,total_product\n",
    "num=int(input(\"Enter a Number\"))\n",
    "s,p=digit_sum_product(num)\n",
    "print(s)\n",
    "print(p)"
   ]
  },
  {
   "cell_type": "code",
   "execution_count": 47,
   "id": "b79a8c98-46f2-4ead-8a5d-d97528d0d56a",
   "metadata": {},
   "outputs": [
    {
     "name": "stdin",
     "output_type": "stream",
     "text": [
      "Enter a number 1234\n"
     ]
    },
    {
     "name": "stdout",
     "output_type": "stream",
     "text": [
      "10\n"
     ]
    }
   ],
   "source": [
    "def sum_digit(number):\n",
    "    total_sum=0\n",
    "    for digit in str(number):\n",
    "        if digit.isdigit():\n",
    "            total_sum+=int(digit)\n",
    "    return total_sum\n",
    "num=int(input(\"Enter a number\"))\n",
    "print(sum_digit(num))\n"
   ]
  },
  {
   "cell_type": "code",
   "execution_count": 49,
   "id": "f8e1734d-8799-40bd-99b0-fe1118ef9067",
   "metadata": {},
   "outputs": [
    {
     "name": "stdin",
     "output_type": "stream",
     "text": [
      "Enter a number 1234\n"
     ]
    },
    {
     "name": "stdout",
     "output_type": "stream",
     "text": [
      "24\n"
     ]
    }
   ],
   "source": [
    "def product_digit(number):\n",
    "    total_product=1\n",
    "    for digit in str(number):\n",
    "        if digit.isdigit():\n",
    "            total_product*=int(digit)\n",
    "    return total_product\n",
    "num=int(input(\"Enter a number\"))\n",
    "print(product_digit(num))"
   ]
  },
  {
   "cell_type": "code",
   "execution_count": 54,
   "id": "8367e98e-bdf6-495f-9fda-3c40df7ce549",
   "metadata": {},
   "outputs": [],
   "source": [
    "#reverse the string without using slicing method\n",
    "def reverse_string(num):\n",
    "    result=\"\"\n",
    "    for i in num:\n",
    "        result=i+result\n",
    "    return result"
   ]
  },
  {
   "cell_type": "code",
   "execution_count": 55,
   "id": "af66402e-3e2d-462d-b3e0-779d1bb244b7",
   "metadata": {},
   "outputs": [
    {
     "data": {
      "text/plain": [
       "'raketohG hsaY'"
      ]
     },
     "execution_count": 55,
     "metadata": {},
     "output_type": "execute_result"
    }
   ],
   "source": [
    "reverse_string(num='Yash Ghotekar')"
   ]
  },
  {
   "cell_type": "code",
   "execution_count": 73,
   "id": "cce1a0d4-6d55-4d31-8644-20c8c9549a01",
   "metadata": {},
   "outputs": [
    {
     "name": "stdout",
     "output_type": "stream",
     "text": [
      "Pythn nd Dt Scnc\n"
     ]
    }
   ],
   "source": [
    "def remove_vowels(data):\n",
    "    vowels='aeiouAEIOU'\n",
    "    remove=''\n",
    "    for char in data:\n",
    "        if char not in vowels:\n",
    "            remove += char\n",
    "    return remove\n",
    "data='Python and Data Science'\n",
    "print(remove_vowels(data))\n",
    "        "
   ]
  },
  {
   "cell_type": "code",
   "execution_count": 67,
   "id": "b93c0f40-5993-44f0-a16f-f1e146340119",
   "metadata": {},
   "outputs": [
    {
     "name": "stdout",
     "output_type": "stream",
     "text": [
      "Sentence without vowels: Pythn nd Dt Scnc\n"
     ]
    }
   ],
   "source": [
    "def remove_vowels(sentence):\n",
    "    vowels = \"aeiouAEIOU\"\n",
    "    result = \"\"\n",
    "    for char in sentence:\n",
    "        if char not in vowels:\n",
    "            result += char\n",
    "    return result\n",
    "\n",
    "# Test the function\n",
    "sentence = \"Python and Data Science\"\n",
    "print(\"Sentence without vowels:\", remove_vowels(sentence))"
   ]
  },
  {
   "cell_type": "code",
   "execution_count": 2,
   "id": "c2bcaa9a-7b48-4f6c-87c2-24ce099e6a7b",
   "metadata": {},
   "outputs": [
    {
     "name": "stdout",
     "output_type": "stream",
     "text": [
      "Sum of prime numbers from 1 to 100 is: 1060\n"
     ]
    }
   ],
   "source": [
    "def is_prime(n):\n",
    "    if n < 2:\n",
    "        return False\n",
    "    for i in range(2, int(n**0.5) + 1):\n",
    "        if n % i == 0:\n",
    "            return False\n",
    "    return True\n",
    "\n",
    "prime_sum = sum(i for i in range(1, 101) if is_prime(i))\n",
    "print(\"Sum of prime numbers from 1 to 100 is:\", prime_sum)\n"
   ]
  },
  {
   "cell_type": "code",
   "execution_count": 3,
   "id": "423f0f12-0af0-4155-b171-43cce1fe4333",
   "metadata": {},
   "outputs": [
    {
     "name": "stdout",
     "output_type": "stream",
     "text": [
      "1060\n"
     ]
    }
   ],
   "source": [
    "sum=0\n",
    "for num in range(2,101):\n",
    "    is_prime= True\n",
    "    for i in range(2,num):\n",
    "        if num%i==0:\n",
    "            is_prime=False\n",
    "            break\n",
    "    if is_prime:\n",
    "        sum+=num\n",
    "print(sum)\n",
    "        \n",
    "        \n",
    "        "
   ]
  },
  {
   "cell_type": "code",
   "execution_count": 6,
   "id": "b008cfe5-557d-46e4-be1c-a16554795d86",
   "metadata": {},
   "outputs": [
    {
     "name": "stdin",
     "output_type": "stream",
     "text": [
      "Enter a any Number 5\n"
     ]
    },
    {
     "name": "stdout",
     "output_type": "stream",
     "text": [
      "5 is a prime Number.\n"
     ]
    }
   ],
   "source": [
    "def is_prime(num):\n",
    "    if num<2:\n",
    "        return False\n",
    "    for i in range(2,int(num**0.5)+1):\n",
    "        if num % i ==0:\n",
    "            return False\n",
    "    return True\n",
    "num=int(input(\"Enter a any Number\"))\n",
    "if is_prime(num):\n",
    "    print(f\"{num} is a prime Number.\")\n",
    "else:\n",
    "    print(f\"{num} is not prime Number.\")\n",
    "\n"
   ]
  },
  {
   "cell_type": "code",
   "execution_count": null,
   "id": "aee4db24-aaba-4e63-9ace-2b3715c9eee8",
   "metadata": {},
   "outputs": [],
   "source": []
  }
 ],
 "metadata": {
  "kernelspec": {
   "display_name": "Python [conda env:base] *",
   "language": "python",
   "name": "conda-base-py"
  },
  "language_info": {
   "codemirror_mode": {
    "name": "ipython",
    "version": 3
   },
   "file_extension": ".py",
   "mimetype": "text/x-python",
   "name": "python",
   "nbconvert_exporter": "python",
   "pygments_lexer": "ipython3",
   "version": "3.13.5"
  },
  "widgets": {
   "application/vnd.jupyter.widget-state+json": {
    "state": {},
    "version_major": 2,
    "version_minor": 0
   }
  }
 },
 "nbformat": 4,
 "nbformat_minor": 5
}
